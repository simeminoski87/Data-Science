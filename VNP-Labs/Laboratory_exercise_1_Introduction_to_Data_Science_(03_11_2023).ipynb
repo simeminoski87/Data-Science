{
 "nbformat": 4,
 "nbformat_minor": 0,
 "metadata": {
  "colab": {
   "provenance": []
  },
  "kernelspec": {
   "name": "python3",
   "display_name": "Python 3 (ipykernel)",
   "language": "python"
  },
  "language_info": {
   "name": "python"
  }
 },
 "cells": [
  {
   "cell_type": "markdown",
   "source": [
    "# Requirements"
   ],
   "metadata": {
    "id": "IG0xXF7T0x2h"
   }
  },
  {
   "cell_type": "code",
   "execution_count": null,
   "metadata": {
    "id": "rnD4JOC10ifa"
   },
   "outputs": [],
   "source": [
    "# Install chromium, its driver, and selenium.\n",
    "!apt update\n",
    "!apt install chromium-chromedriver\n",
    "!pip install selenium"
   ]
  },
  {
   "cell_type": "code",
   "source": [
    "from selenium import webdriver\n",
    "from selenium.webdriver.common.by import By\n",
    "import pandas as pd"
   ],
   "metadata": {
    "id": "k75Qsxvc0zzZ",
    "ExecuteTime": {
     "end_time": "2024-11-01T08:53:02.209195Z",
     "start_time": "2024-11-01T08:53:02.195407Z"
    }
   },
   "outputs": [],
   "execution_count": 2
  },
  {
   "cell_type": "markdown",
   "source": [
    "# Configuration"
   ],
   "metadata": {
    "id": "OqXF3IZU00_g"
   }
  },
  {
   "cell_type": "code",
   "source": [
    "options = webdriver.ChromeOptions()\n",
    "options.add_argument('--headless')\n",
    "options.add_argument('--no-sandbox')\n",
    "options.add_argument('--disable-dev-shm-usage')"
   ],
   "metadata": {
    "id": "2MLM03DJ02TK"
   },
   "execution_count": null,
   "outputs": []
  },
  {
   "cell_type": "markdown",
   "source": [
    "# Simple Usage"
   ],
   "metadata": {
    "id": "vhsS7FZU03uf"
   }
  },
  {
   "cell_type": "code",
   "source": [
    "# Initialize the webdriver.\n",
    "browser = webdriver.Chrome(options=options)"
   ],
   "metadata": {
    "id": "XAR-vEvw03hB"
   },
   "execution_count": null,
   "outputs": []
  },
  {
   "cell_type": "code",
   "source": [
    "# Navigate to a web page.\n",
    "browser.get('https://finance.yahoo.com/crypto')"
   ],
   "metadata": {
    "id": "SRlMjKmz05uN"
   },
   "execution_count": null,
   "outputs": []
  },
  {
   "cell_type": "code",
   "source": [
    "# Print the page source code.\n",
    "print(browser.page_source)"
   ],
   "metadata": {
    "id": "XENkqBtc07ql"
   },
   "execution_count": null,
   "outputs": []
  },
  {
   "cell_type": "markdown",
   "source": [
    "# Laboratory Exercise - Run Mode (8 points)"
   ],
   "metadata": {
    "id": "M9CVMKMx0-SY"
   }
  },
  {
   "cell_type": "markdown",
   "source": [
    "In this laboratory assignment, the goal is to perform web scraping using **Selenium** on the website https://finance.yahoo.com/crypto. The task includes the extraction of **Cryptocurrency names** and their **price** and **market cap**. Following this data extraction, you will construct a data frame to organize the collected data. Finally, you are expected to generate a histogram to provide a visual representation of the distribution of the prices."
   ],
   "metadata": {
    "id": "dGHA83FS1Lqk"
   }
  },
  {
   "cell_type": "markdown",
   "source": [
    "## Hints\n",
    "- To navigate to a specific page with a given URL, use the `browser.get(url)` method.\n",
    "- When selecting a single element, use `browser.find_element`, and for multiple elements, use `browser.find_elements`. Both of these functions take two arguments. The first specifies the attribute used to locate the element on the web page, and the second specifies the value of that attribute.\n",
    "- The `By` class is used to specify which attribute is used to locate elements on a page. These are the various ways the attributes are used to locate elements on a page: `By.ID`, `By.NAME`, `By.TAG_NAME`, `BY.CLASS_NAME`, `By.CSS_SELECTOR`, etc.\n",
    "- For more details, check the documentation (https://selenium-python.readthedocs.io/locating-elements.html)."
   ],
   "metadata": {
    "id": "TMBGzB374oRM"
   }
  },
  {
   "cell_type": "markdown",
   "source": [
    "## Solution"
   ],
   "metadata": {
    "id": "MOV5K_ji5iQi"
   }
  },
  {
   "cell_type": "code",
   "source": [
    "# Write your code here."
   ],
   "metadata": {
    "id": "Naeba0l31AVU"
   },
   "execution_count": null,
   "outputs": []
  },
  {
   "cell_type": "code",
   "source": [
    "# Add as many code boxes as you need."
   ],
   "metadata": {
    "id": "PFK34b5R5c0N"
   },
   "execution_count": null,
   "outputs": []
  },
  {
   "metadata": {
    "ExecuteTime": {
     "end_time": "2024-11-01T08:53:42.895716Z",
     "start_time": "2024-11-01T08:53:42.891611Z"
    }
   },
   "cell_type": "code",
   "source": [
    "chrome_options = webdriver.ChromeOptions()\n",
    "chrome_options.add_argument('--no-sandbox')\n",
    "chrome_options.add_argument('--disable-dev-shm-usage') "
   ],
   "outputs": [],
   "execution_count": 3
  },
  {
   "metadata": {
    "ExecuteTime": {
     "end_time": "2024-11-01T08:55:14.965407Z",
     "start_time": "2024-11-01T08:54:31.223054Z"
    }
   },
   "cell_type": "code",
   "source": [
    "chrome = webdriver.Chrome(chrome_options)\n",
    "snapshot_url = \"https://finance.yahoo.com/crypto\"\n",
    "chrome.get(snapshot_url)"
   ],
   "outputs": [],
   "execution_count": 5
  },
  {
   "metadata": {
    "ExecuteTime": {
     "end_time": "2024-11-01T08:57:33.748973Z",
     "start_time": "2024-11-01T08:57:33.699543Z"
    }
   },
   "cell_type": "code",
   "source": "rows = chrome.find_elements(By.CSS_SELECTOR, \"tbody.body .row\")\n",
   "outputs": [
    {
     "data": {
      "text/plain": [
       "[<selenium.webdriver.remote.webelement.WebElement (session=\"74882ce27eb59c09f7ef04ae4b253733\", element=\"f.34BC102A7BCC52E05EC0F1B4C8A0CD4D.d.9A583C409784B7AE74C48365EE6F5A18.e.2883\")>,\n",
       " <selenium.webdriver.remote.webelement.WebElement (session=\"74882ce27eb59c09f7ef04ae4b253733\", element=\"f.34BC102A7BCC52E05EC0F1B4C8A0CD4D.d.9A583C409784B7AE74C48365EE6F5A18.e.2957\")>,\n",
       " <selenium.webdriver.remote.webelement.WebElement (session=\"74882ce27eb59c09f7ef04ae4b253733\", element=\"f.34BC102A7BCC52E05EC0F1B4C8A0CD4D.d.9A583C409784B7AE74C48365EE6F5A18.e.3034\")>,\n",
       " <selenium.webdriver.remote.webelement.WebElement (session=\"74882ce27eb59c09f7ef04ae4b253733\", element=\"f.34BC102A7BCC52E05EC0F1B4C8A0CD4D.d.9A583C409784B7AE74C48365EE6F5A18.e.3112\")>,\n",
       " <selenium.webdriver.remote.webelement.WebElement (session=\"74882ce27eb59c09f7ef04ae4b253733\", element=\"f.34BC102A7BCC52E05EC0F1B4C8A0CD4D.d.9A583C409784B7AE74C48365EE6F5A18.e.3189\")>,\n",
       " <selenium.webdriver.remote.webelement.WebElement (session=\"74882ce27eb59c09f7ef04ae4b253733\", element=\"f.34BC102A7BCC52E05EC0F1B4C8A0CD4D.d.9A583C409784B7AE74C48365EE6F5A18.e.3267\")>,\n",
       " <selenium.webdriver.remote.webelement.WebElement (session=\"74882ce27eb59c09f7ef04ae4b253733\", element=\"f.34BC102A7BCC52E05EC0F1B4C8A0CD4D.d.9A583C409784B7AE74C48365EE6F5A18.e.3349\")>,\n",
       " <selenium.webdriver.remote.webelement.WebElement (session=\"74882ce27eb59c09f7ef04ae4b253733\", element=\"f.34BC102A7BCC52E05EC0F1B4C8A0CD4D.d.9A583C409784B7AE74C48365EE6F5A18.e.3430\")>,\n",
       " <selenium.webdriver.remote.webelement.WebElement (session=\"74882ce27eb59c09f7ef04ae4b253733\", element=\"f.34BC102A7BCC52E05EC0F1B4C8A0CD4D.d.9A583C409784B7AE74C48365EE6F5A18.e.3506\")>,\n",
       " <selenium.webdriver.remote.webelement.WebElement (session=\"74882ce27eb59c09f7ef04ae4b253733\", element=\"f.34BC102A7BCC52E05EC0F1B4C8A0CD4D.d.9A583C409784B7AE74C48365EE6F5A18.e.3583\")>,\n",
       " <selenium.webdriver.remote.webelement.WebElement (session=\"74882ce27eb59c09f7ef04ae4b253733\", element=\"f.34BC102A7BCC52E05EC0F1B4C8A0CD4D.d.9A583C409784B7AE74C48365EE6F5A18.e.3660\")>,\n",
       " <selenium.webdriver.remote.webelement.WebElement (session=\"74882ce27eb59c09f7ef04ae4b253733\", element=\"f.34BC102A7BCC52E05EC0F1B4C8A0CD4D.d.9A583C409784B7AE74C48365EE6F5A18.e.3738\")>,\n",
       " <selenium.webdriver.remote.webelement.WebElement (session=\"74882ce27eb59c09f7ef04ae4b253733\", element=\"f.34BC102A7BCC52E05EC0F1B4C8A0CD4D.d.9A583C409784B7AE74C48365EE6F5A18.e.3816\")>,\n",
       " <selenium.webdriver.remote.webelement.WebElement (session=\"74882ce27eb59c09f7ef04ae4b253733\", element=\"f.34BC102A7BCC52E05EC0F1B4C8A0CD4D.d.9A583C409784B7AE74C48365EE6F5A18.e.3894\")>,\n",
       " <selenium.webdriver.remote.webelement.WebElement (session=\"74882ce27eb59c09f7ef04ae4b253733\", element=\"f.34BC102A7BCC52E05EC0F1B4C8A0CD4D.d.9A583C409784B7AE74C48365EE6F5A18.e.3972\")>,\n",
       " <selenium.webdriver.remote.webelement.WebElement (session=\"74882ce27eb59c09f7ef04ae4b253733\", element=\"f.34BC102A7BCC52E05EC0F1B4C8A0CD4D.d.9A583C409784B7AE74C48365EE6F5A18.e.4049\")>,\n",
       " <selenium.webdriver.remote.webelement.WebElement (session=\"74882ce27eb59c09f7ef04ae4b253733\", element=\"f.34BC102A7BCC52E05EC0F1B4C8A0CD4D.d.9A583C409784B7AE74C48365EE6F5A18.e.4127\")>,\n",
       " <selenium.webdriver.remote.webelement.WebElement (session=\"74882ce27eb59c09f7ef04ae4b253733\", element=\"f.34BC102A7BCC52E05EC0F1B4C8A0CD4D.d.9A583C409784B7AE74C48365EE6F5A18.e.4205\")>,\n",
       " <selenium.webdriver.remote.webelement.WebElement (session=\"74882ce27eb59c09f7ef04ae4b253733\", element=\"f.34BC102A7BCC52E05EC0F1B4C8A0CD4D.d.9A583C409784B7AE74C48365EE6F5A18.e.4283\")>,\n",
       " <selenium.webdriver.remote.webelement.WebElement (session=\"74882ce27eb59c09f7ef04ae4b253733\", element=\"f.34BC102A7BCC52E05EC0F1B4C8A0CD4D.d.9A583C409784B7AE74C48365EE6F5A18.e.4361\")>,\n",
       " <selenium.webdriver.remote.webelement.WebElement (session=\"74882ce27eb59c09f7ef04ae4b253733\", element=\"f.34BC102A7BCC52E05EC0F1B4C8A0CD4D.d.9A583C409784B7AE74C48365EE6F5A18.e.4439\")>,\n",
       " <selenium.webdriver.remote.webelement.WebElement (session=\"74882ce27eb59c09f7ef04ae4b253733\", element=\"f.34BC102A7BCC52E05EC0F1B4C8A0CD4D.d.9A583C409784B7AE74C48365EE6F5A18.e.4517\")>,\n",
       " <selenium.webdriver.remote.webelement.WebElement (session=\"74882ce27eb59c09f7ef04ae4b253733\", element=\"f.34BC102A7BCC52E05EC0F1B4C8A0CD4D.d.9A583C409784B7AE74C48365EE6F5A18.e.4595\")>,\n",
       " <selenium.webdriver.remote.webelement.WebElement (session=\"74882ce27eb59c09f7ef04ae4b253733\", element=\"f.34BC102A7BCC52E05EC0F1B4C8A0CD4D.d.9A583C409784B7AE74C48365EE6F5A18.e.4678\")>,\n",
       " <selenium.webdriver.remote.webelement.WebElement (session=\"74882ce27eb59c09f7ef04ae4b253733\", element=\"f.34BC102A7BCC52E05EC0F1B4C8A0CD4D.d.9A583C409784B7AE74C48365EE6F5A18.e.4756\")>]"
      ]
     },
     "execution_count": 6,
     "metadata": {},
     "output_type": "execute_result"
    }
   ],
   "execution_count": 6
  },
  {
   "metadata": {
    "ExecuteTime": {
     "end_time": "2024-11-01T09:25:33.782484Z",
     "start_time": "2024-11-01T09:25:30.841755Z"
    }
   },
   "cell_type": "code",
   "source": [
    "stock_infos = []\n",
    "\n",
    "for row in rows:\n",
    "    cel_elements = row.find_elements(By.CSS_SELECTOR, \"td.cell\")\n",
    "    title_element = cel_elements[1].find_element(By.CSS_SELECTOR, \"span div\")\n",
    "    price_element = cel_elements[3].find_element(By.CSS_SELECTOR, \"span  fin-streamer\")\n",
    "    market_cap_element = cel_elements[6].find_element(By.CSS_SELECTOR, \"span  fin-streamer\")\n",
    "    title = title_element.text\n",
    "    price_str=price_element.text\n",
    "    price = price_str.replace(\",\",\"\")\n",
    "    price = float(price)\n",
    "    # print(market_cap_element)\n",
    "    market_cap_str = \"\"\n",
    "    \n",
    "    try:\n",
    "        has_span = market_cap_element.find_element(By.CSS_SELECTOR,  \"span\")\n",
    "        market_cap_str = has_span.text\n",
    "    except :\n",
    "        not_in_span = market_cap_element.text\n",
    "        market_cap_str = not_in_span\n",
    "    # print(market_cap_str)\n",
    "    market_cap = 0\n",
    "    \n",
    "    if \"B\" in market_cap_str:\n",
    "        market_cap_str = market_cap_str.replace(\"B\", \"\")\n",
    "        market_cap = float(market_cap_str) * 1_000_000_000\n",
    "    elif \"T\" in market_cap_str:\n",
    "        market_cap_str = market_cap_str.replace(\"T\", \"\")\n",
    "        market_cap = float(market_cap_str) * 1_000_000_000_000\n",
    "    \n",
    "    # print(market_cap)\n",
    "    stock_info = {\"Name\":title, \"Price\":price, \"Market Cap\":market_cap}\n",
    "    stock_infos.append(stock_info)\n",
    "    \n",
    "for stock in stock_infos:\n",
    "    print(stock)\n",
    "        "
   ],
   "outputs": [
    {
     "name": "stdout",
     "output_type": "stream",
     "text": [
      "{'Name': 'Bitcoin USD', 'Price': 69267.49, 'Market Cap': 1370000000000.0}\n",
      "{'Name': 'Ethereum USD', 'Price': 2497.9, 'Market Cap': 300770000000.0}\n",
      "{'Name': 'Tether USDt USD', 'Price': 0.9991, 'Market Cap': 120465000000.0}\n",
      "{'Name': 'BNB USD', 'Price': 575.6, 'Market Cap': 82977000000.0}\n",
      "{'Name': 'Solana USD', 'Price': 165.63, 'Market Cap': 77964000000.0}\n",
      "{'Name': 'USD Coin USD', 'Price': 1.0, 'Market Cap': 34700000000.0}\n",
      "{'Name': 'XRP USD', 'Price': 0.5183, 'Market Cap': 29476000000.0}\n",
      "{'Name': 'Lido Staked ETH USD', 'Price': 2503.79, 'Market Cap': 24429000000.0}\n",
      "{'Name': 'Dogecoin USD', 'Price': 0.1581, 'Market Cap': 23182000000.0}\n",
      "{'Name': 'Wrapped TRON USD', 'Price': 0.167321, 'Market Cap': 14628000000.0}\n",
      "{'Name': 'TRON USD', 'Price': 0.1669, 'Market Cap': 14432000000.0}\n",
      "{'Name': 'Toncoin USD', 'Price': 4.8523, 'Market Cap': 12344000000.0}\n",
      "{'Name': 'Cardano USD', 'Price': 0.3453, 'Market Cap': 12085000000.0}\n",
      "{'Name': 'Lido wstETH USD', 'Price': 2962.39, 'Market Cap': 11099000000.0}\n",
      "{'Name': 'Wrapped Bitcoin USD', 'Price': 69327.09, 'Market Cap': 10191000000.0}\n",
      "{'Name': 'Shiba Inu USD', 'Price': 1.7e-05, 'Market Cap': 10182000000.0}\n",
      "{'Name': 'Avalanche USD', 'Price': 24.83, 'Market Cap': 10107000000.0}\n",
      "{'Name': 'WETH USD', 'Price': 2505.5, 'Market Cap': 8457000000.000001}\n",
      "{'Name': 'Chainlink USD', 'Price': 11.3, 'Market Cap': 7086000000.0}\n",
      "{'Name': 'Bitcoin Cash USD', 'Price': 347.52, 'Market Cap': 6875000000.0}\n",
      "{'Name': 'Polkadot USD', 'Price': 3.942, 'Market Cap': 5963000000.0}\n",
      "{'Name': 'UNUS SED LEO USD', 'Price': 6.0444, 'Market Cap': 5592000000.0}\n",
      "{'Name': 'USDS USD', 'Price': 0.997301, 'Market Cap': 5556000000.0}\n",
      "{'Name': 'Sui USD', 'Price': 1.9285, 'Market Cap': 5488000000.0}\n",
      "{'Name': 'Dai USD', 'Price': 0.9998, 'Market Cap': 5364000000.0}\n"
     ]
    }
   ],
   "execution_count": 36
  },
  {
   "metadata": {
    "ExecuteTime": {
     "end_time": "2024-11-01T09:27:18.225962Z",
     "start_time": "2024-11-01T09:27:18.214571Z"
    }
   },
   "cell_type": "code",
   "source": [
    "df = pd.DataFrame(stock_infos)\n",
    "df"
   ],
   "outputs": [
    {
     "data": {
      "text/plain": [
       "                   Name         Price    Market Cap\n",
       "0           Bitcoin USD  69267.490000  1.370000e+12\n",
       "1          Ethereum USD   2497.900000  3.007700e+11\n",
       "2       Tether USDt USD      0.999100  1.204650e+11\n",
       "3               BNB USD    575.600000  8.297700e+10\n",
       "4            Solana USD    165.630000  7.796400e+10\n",
       "5          USD Coin USD      1.000000  3.470000e+10\n",
       "6               XRP USD      0.518300  2.947600e+10\n",
       "7   Lido Staked ETH USD   2503.790000  2.442900e+10\n",
       "8          Dogecoin USD      0.158100  2.318200e+10\n",
       "9      Wrapped TRON USD      0.167321  1.462800e+10\n",
       "10             TRON USD      0.166900  1.443200e+10\n",
       "11          Toncoin USD      4.852300  1.234400e+10\n",
       "12          Cardano USD      0.345300  1.208500e+10\n",
       "13      Lido wstETH USD   2962.390000  1.109900e+10\n",
       "14  Wrapped Bitcoin USD  69327.090000  1.019100e+10\n",
       "15        Shiba Inu USD      0.000017  1.018200e+10\n",
       "16        Avalanche USD     24.830000  1.010700e+10\n",
       "17             WETH USD   2505.500000  8.457000e+09\n",
       "18        Chainlink USD     11.300000  7.086000e+09\n",
       "19     Bitcoin Cash USD    347.520000  6.875000e+09\n",
       "20         Polkadot USD      3.942000  5.963000e+09\n",
       "21     UNUS SED LEO USD      6.044400  5.592000e+09\n",
       "22             USDS USD      0.997301  5.556000e+09\n",
       "23              Sui USD      1.928500  5.488000e+09\n",
       "24              Dai USD      0.999800  5.364000e+09"
      ],
      "text/html": [
       "<div>\n",
       "<style scoped>\n",
       "    .dataframe tbody tr th:only-of-type {\n",
       "        vertical-align: middle;\n",
       "    }\n",
       "\n",
       "    .dataframe tbody tr th {\n",
       "        vertical-align: top;\n",
       "    }\n",
       "\n",
       "    .dataframe thead th {\n",
       "        text-align: right;\n",
       "    }\n",
       "</style>\n",
       "<table border=\"1\" class=\"dataframe\">\n",
       "  <thead>\n",
       "    <tr style=\"text-align: right;\">\n",
       "      <th></th>\n",
       "      <th>Name</th>\n",
       "      <th>Price</th>\n",
       "      <th>Market Cap</th>\n",
       "    </tr>\n",
       "  </thead>\n",
       "  <tbody>\n",
       "    <tr>\n",
       "      <th>0</th>\n",
       "      <td>Bitcoin USD</td>\n",
       "      <td>69267.490000</td>\n",
       "      <td>1.370000e+12</td>\n",
       "    </tr>\n",
       "    <tr>\n",
       "      <th>1</th>\n",
       "      <td>Ethereum USD</td>\n",
       "      <td>2497.900000</td>\n",
       "      <td>3.007700e+11</td>\n",
       "    </tr>\n",
       "    <tr>\n",
       "      <th>2</th>\n",
       "      <td>Tether USDt USD</td>\n",
       "      <td>0.999100</td>\n",
       "      <td>1.204650e+11</td>\n",
       "    </tr>\n",
       "    <tr>\n",
       "      <th>3</th>\n",
       "      <td>BNB USD</td>\n",
       "      <td>575.600000</td>\n",
       "      <td>8.297700e+10</td>\n",
       "    </tr>\n",
       "    <tr>\n",
       "      <th>4</th>\n",
       "      <td>Solana USD</td>\n",
       "      <td>165.630000</td>\n",
       "      <td>7.796400e+10</td>\n",
       "    </tr>\n",
       "    <tr>\n",
       "      <th>5</th>\n",
       "      <td>USD Coin USD</td>\n",
       "      <td>1.000000</td>\n",
       "      <td>3.470000e+10</td>\n",
       "    </tr>\n",
       "    <tr>\n",
       "      <th>6</th>\n",
       "      <td>XRP USD</td>\n",
       "      <td>0.518300</td>\n",
       "      <td>2.947600e+10</td>\n",
       "    </tr>\n",
       "    <tr>\n",
       "      <th>7</th>\n",
       "      <td>Lido Staked ETH USD</td>\n",
       "      <td>2503.790000</td>\n",
       "      <td>2.442900e+10</td>\n",
       "    </tr>\n",
       "    <tr>\n",
       "      <th>8</th>\n",
       "      <td>Dogecoin USD</td>\n",
       "      <td>0.158100</td>\n",
       "      <td>2.318200e+10</td>\n",
       "    </tr>\n",
       "    <tr>\n",
       "      <th>9</th>\n",
       "      <td>Wrapped TRON USD</td>\n",
       "      <td>0.167321</td>\n",
       "      <td>1.462800e+10</td>\n",
       "    </tr>\n",
       "    <tr>\n",
       "      <th>10</th>\n",
       "      <td>TRON USD</td>\n",
       "      <td>0.166900</td>\n",
       "      <td>1.443200e+10</td>\n",
       "    </tr>\n",
       "    <tr>\n",
       "      <th>11</th>\n",
       "      <td>Toncoin USD</td>\n",
       "      <td>4.852300</td>\n",
       "      <td>1.234400e+10</td>\n",
       "    </tr>\n",
       "    <tr>\n",
       "      <th>12</th>\n",
       "      <td>Cardano USD</td>\n",
       "      <td>0.345300</td>\n",
       "      <td>1.208500e+10</td>\n",
       "    </tr>\n",
       "    <tr>\n",
       "      <th>13</th>\n",
       "      <td>Lido wstETH USD</td>\n",
       "      <td>2962.390000</td>\n",
       "      <td>1.109900e+10</td>\n",
       "    </tr>\n",
       "    <tr>\n",
       "      <th>14</th>\n",
       "      <td>Wrapped Bitcoin USD</td>\n",
       "      <td>69327.090000</td>\n",
       "      <td>1.019100e+10</td>\n",
       "    </tr>\n",
       "    <tr>\n",
       "      <th>15</th>\n",
       "      <td>Shiba Inu USD</td>\n",
       "      <td>0.000017</td>\n",
       "      <td>1.018200e+10</td>\n",
       "    </tr>\n",
       "    <tr>\n",
       "      <th>16</th>\n",
       "      <td>Avalanche USD</td>\n",
       "      <td>24.830000</td>\n",
       "      <td>1.010700e+10</td>\n",
       "    </tr>\n",
       "    <tr>\n",
       "      <th>17</th>\n",
       "      <td>WETH USD</td>\n",
       "      <td>2505.500000</td>\n",
       "      <td>8.457000e+09</td>\n",
       "    </tr>\n",
       "    <tr>\n",
       "      <th>18</th>\n",
       "      <td>Chainlink USD</td>\n",
       "      <td>11.300000</td>\n",
       "      <td>7.086000e+09</td>\n",
       "    </tr>\n",
       "    <tr>\n",
       "      <th>19</th>\n",
       "      <td>Bitcoin Cash USD</td>\n",
       "      <td>347.520000</td>\n",
       "      <td>6.875000e+09</td>\n",
       "    </tr>\n",
       "    <tr>\n",
       "      <th>20</th>\n",
       "      <td>Polkadot USD</td>\n",
       "      <td>3.942000</td>\n",
       "      <td>5.963000e+09</td>\n",
       "    </tr>\n",
       "    <tr>\n",
       "      <th>21</th>\n",
       "      <td>UNUS SED LEO USD</td>\n",
       "      <td>6.044400</td>\n",
       "      <td>5.592000e+09</td>\n",
       "    </tr>\n",
       "    <tr>\n",
       "      <th>22</th>\n",
       "      <td>USDS USD</td>\n",
       "      <td>0.997301</td>\n",
       "      <td>5.556000e+09</td>\n",
       "    </tr>\n",
       "    <tr>\n",
       "      <th>23</th>\n",
       "      <td>Sui USD</td>\n",
       "      <td>1.928500</td>\n",
       "      <td>5.488000e+09</td>\n",
       "    </tr>\n",
       "    <tr>\n",
       "      <th>24</th>\n",
       "      <td>Dai USD</td>\n",
       "      <td>0.999800</td>\n",
       "      <td>5.364000e+09</td>\n",
       "    </tr>\n",
       "  </tbody>\n",
       "</table>\n",
       "</div>"
      ]
     },
     "execution_count": 38,
     "metadata": {},
     "output_type": "execute_result"
    }
   ],
   "execution_count": 38
  },
  {
   "metadata": {
    "ExecuteTime": {
     "end_time": "2024-11-01T09:30:36.414539Z",
     "start_time": "2024-11-01T09:30:36.330473Z"
    }
   },
   "cell_type": "code",
   "source": "df.drop(columns=\"Market Cap\").hist(bins=10)",
   "outputs": [
    {
     "data": {
      "text/plain": [
       "array([[<Axes: title={'center': 'Price'}>]], dtype=object)"
      ]
     },
     "execution_count": 45,
     "metadata": {},
     "output_type": "execute_result"
    },
    {
     "data": {
      "text/plain": [
       "<Figure size 640x480 with 1 Axes>"
      ],
      "image/png": "[encoded data removed]"
     },
     "metadata": {},
     "output_type": "display_data"
    }
   ],
   "execution_count": 45
  },
  {
   "cell_type": "markdown",
   "source": "# Laboratory Exercise - Bonus Task (+ 2 points)",
   "metadata": {
    "id": "oCkjUHg75fNe"
   }
  },
  {
   "cell_type": "markdown",
   "source": [
    "The additional task involves clicking on the symbol for BTC-USD and on the new page that appears click on the **Historical data**. You will extract the prices and market caps for the BTC-USD only, and make line plot for the price data."
   ],
   "metadata": {
    "id": "t1qEBqeW8UJa"
   }
  },
  {
   "cell_type": "markdown",
   "source": [
    "## Hints\n",
    "- To populate an input field (`input_field`) with some `text` use `input_field.send_keys(text)`.\n",
    "- To click on a specific `element` on a web page use `element.click()`."
   ],
   "metadata": {
    "id": "DgXk1c4k-5dR"
   }
  },
  {
   "cell_type": "markdown",
   "source": [
    "## Solution"
   ],
   "metadata": {
    "id": "AXxIi7bv9lPw"
   }
  },
  {
   "cell_type": "code",
   "source": [
    "# Write your code here."
   ],
   "metadata": {
    "id": "ztX3X1pB5f4j"
   },
   "execution_count": null,
   "outputs": []
  },
  {
   "cell_type": "code",
   "source": [
    "# Add as many code boxes as you need."
   ],
   "metadata": {
    "id": "U-7KiLUF9hxp"
   },
   "execution_count": null,
   "outputs": []
  },
  {
   "metadata": {
    "ExecuteTime": {
     "end_time": "2024-11-01T09:35:13.203738Z",
     "start_time": "2024-11-01T09:34:44.268153Z"
    }
   },
   "cell_type": "code",
   "source": [
    "link = rows[0].find_element(By.CSS_SELECTOR, \"td span div a\")\n",
    "print(link)\n",
    "link.click()"
   ],
   "outputs": [
    {
     "name": "stdout",
     "output_type": "stream",
     "text": [
      "<selenium.webdriver.remote.webelement.WebElement (session=\"74882ce27eb59c09f7ef04ae4b253733\", element=\"f.34BC102A7BCC52E05EC0F1B4C8A0CD4D.d.9A583C409784B7AE74C48365EE6F5A18.e.2887\")>\n"
     ]
    }
   ],
   "execution_count": 47
  },
  {
   "metadata": {
    "ExecuteTime": {
     "end_time": "2024-11-01T09:36:39.685874Z",
     "start_time": "2024-11-01T09:36:39.662564Z"
    }
   },
   "cell_type": "code",
   "source": [
    "nav_bar_element = chrome.find_element(By.CSS_SELECTOR, \"ul.nav-list\")\n",
    "print(nav_bar_element)"
   ],
   "outputs": [
    {
     "name": "stdout",
     "output_type": "stream",
     "text": [
      "<selenium.webdriver.remote.webelement.WebElement (session=\"74882ce27eb59c09f7ef04ae4b253733\", element=\"f.34BC102A7BCC52E05EC0F1B4C8A0CD4D.d.5E67D72354049FC9909139EA93DBBB79.e.52507\")>\n"
     ]
    }
   ],
   "execution_count": 49
  },
  {
   "metadata": {
    "ExecuteTime": {
     "end_time": "2024-11-01T09:37:18.900148Z",
     "start_time": "2024-11-01T09:37:18.872668Z"
    }
   },
   "cell_type": "code",
   "source": [
    "li_links_elements = nav_bar_element.find_elements(By.CSS_SELECTOR, \"li\")\n",
    "li_links_elements"
   ],
   "outputs": [
    {
     "data": {
      "text/plain": [
       "[<selenium.webdriver.remote.webelement.WebElement (session=\"74882ce27eb59c09f7ef04ae4b253733\", element=\"f.34BC102A7BCC52E05EC0F1B4C8A0CD4D.d.5E67D72354049FC9909139EA93DBBB79.e.52508\")>,\n",
       " <selenium.webdriver.remote.webelement.WebElement (session=\"74882ce27eb59c09f7ef04ae4b253733\", element=\"f.34BC102A7BCC52E05EC0F1B4C8A0CD4D.d.5E67D72354049FC9909139EA93DBBB79.e.52512\")>,\n",
       " <selenium.webdriver.remote.webelement.WebElement (session=\"74882ce27eb59c09f7ef04ae4b253733\", element=\"f.34BC102A7BCC52E05EC0F1B4C8A0CD4D.d.5E67D72354049FC9909139EA93DBBB79.e.52516\")>,\n",
       " <selenium.webdriver.remote.webelement.WebElement (session=\"74882ce27eb59c09f7ef04ae4b253733\", element=\"f.34BC102A7BCC52E05EC0F1B4C8A0CD4D.d.5E67D72354049FC9909139EA93DBBB79.e.52520\")>,\n",
       " <selenium.webdriver.remote.webelement.WebElement (session=\"74882ce27eb59c09f7ef04ae4b253733\", element=\"f.34BC102A7BCC52E05EC0F1B4C8A0CD4D.d.5E67D72354049FC9909139EA93DBBB79.e.52524\")>,\n",
       " <selenium.webdriver.remote.webelement.WebElement (session=\"74882ce27eb59c09f7ef04ae4b253733\", element=\"f.34BC102A7BCC52E05EC0F1B4C8A0CD4D.d.5E67D72354049FC9909139EA93DBBB79.e.52528\")>]"
      ]
     },
     "execution_count": 51,
     "metadata": {},
     "output_type": "execute_result"
    }
   ],
   "execution_count": 51
  },
  {
   "metadata": {
    "ExecuteTime": {
     "end_time": "2024-11-01T09:38:08.660155Z",
     "start_time": "2024-11-01T09:38:08.640587Z"
    }
   },
   "cell_type": "code",
   "source": [
    "history_data_a_element = li_links_elements[-2].find_element(By.CSS_SELECTOR, \"a\")\n",
    "history_data_a_element"
   ],
   "outputs": [
    {
     "data": {
      "text/plain": [
       "<selenium.webdriver.remote.webelement.WebElement (session=\"74882ce27eb59c09f7ef04ae4b253733\", element=\"f.34BC102A7BCC52E05EC0F1B4C8A0CD4D.d.5E67D72354049FC9909139EA93DBBB79.e.52525\")>"
      ]
     },
     "execution_count": 53,
     "metadata": {},
     "output_type": "execute_result"
    }
   ],
   "execution_count": 53
  },
  {
   "metadata": {
    "ExecuteTime": {
     "end_time": "2024-11-01T09:38:20.344834Z",
     "start_time": "2024-11-01T09:38:17.035032Z"
    }
   },
   "cell_type": "code",
   "source": "history_data_a_element.click()",
   "outputs": [],
   "execution_count": 54
  },
  {
   "metadata": {
    "ExecuteTime": {
     "end_time": "2024-11-01T09:40:05.530958Z",
     "start_time": "2024-11-01T09:40:05.483485Z"
    }
   },
   "cell_type": "code",
   "source": [
    "bitcoin_rows = chrome.find_elements(By.CSS_SELECTOR, \"table.table tbody tr\")\n",
    "bitcoin_rows"
   ],
   "outputs": [
    {
     "data": {
      "text/plain": [
       "[<selenium.webdriver.remote.webelement.WebElement (session=\"74882ce27eb59c09f7ef04ae4b253733\", element=\"f.34BC102A7BCC52E05EC0F1B4C8A0CD4D.d.85D4446145E42531134957E873F4432E.e.66219\")>,\n",
       " <selenium.webdriver.remote.webelement.WebElement (session=\"74882ce27eb59c09f7ef04ae4b253733\", element=\"f.34BC102A7BCC52E05EC0F1B4C8A0CD4D.d.85D4446145E42531134957E873F4432E.e.66231\")>,\n",
       " <selenium.webdriver.remote.webelement.WebElement (session=\"74882ce27eb59c09f7ef04ae4b253733\", element=\"f.34BC102A7BCC52E05EC0F1B4C8A0CD4D.d.85D4446145E42531134957E873F4432E.e.66243\")>,\n",
       " <selenium.webdriver.remote.webelement.WebElement (session=\"74882ce27eb59c09f7ef04ae4b253733\", element=\"f.34BC102A7BCC52E05EC0F1B4C8A0CD4D.d.85D4446145E42531134957E873F4432E.e.66255\")>,\n",
       " <selenium.webdriver.remote.webelement.WebElement (session=\"74882ce27eb59c09f7ef04ae4b253733\", element=\"f.34BC102A7BCC52E05EC0F1B4C8A0CD4D.d.85D4446145E42531134957E873F4432E.e.66267\")>,\n",
       " <selenium.webdriver.remote.webelement.WebElement (session=\"74882ce27eb59c09f7ef04ae4b253733\", element=\"f.34BC102A7BCC52E05EC0F1B4C8A0CD4D.d.85D4446145E42531134957E873F4432E.e.66279\")>,\n",
       " <selenium.webdriver.remote.webelement.WebElement (session=\"74882ce27eb59c09f7ef04ae4b253733\", element=\"f.34BC102A7BCC52E05EC0F1B4C8A0CD4D.d.85D4446145E42531134957E873F4432E.e.66291\")>,\n",
       " <selenium.webdriver.remote.webelement.WebElement (session=\"74882ce27eb59c09f7ef04ae4b253733\", element=\"f.34BC102A7BCC52E05EC0F1B4C8A0CD4D.d.85D4446145E42531134957E873F4432E.e.66303\")>,\n",
       " <selenium.webdriver.remote.webelement.WebElement (session=\"74882ce27eb59c09f7ef04ae4b253733\", element=\"f.34BC102A7BCC52E05EC0F1B4C8A0CD4D.d.85D4446145E42531134957E873F4432E.e.66315\")>,\n",
       " <selenium.webdriver.remote.webelement.WebElement (session=\"74882ce27eb59c09f7ef04ae4b253733\", element=\"f.34BC102A7BCC52E05EC0F1B4C8A0CD4D.d.85D4446145E42531134957E873F4432E.e.66327\")>,\n",
       " <selenium.webdriver.remote.webelement.WebElement (session=\"74882ce27eb59c09f7ef04ae4b253733\", element=\"f.34BC102A7BCC52E05EC0F1B4C8A0CD4D.d.85D4446145E42531134957E873F4432E.e.66339\")>,\n",
       " <selenium.webdriver.remote.webelement.WebElement (session=\"74882ce27eb59c09f7ef04ae4b253733\", element=\"f.34BC102A7BCC52E05EC0F1B4C8A0CD4D.d.85D4446145E42531134957E873F4432E.e.66351\")>,\n",
       " <selenium.webdriver.remote.webelement.WebElement (session=\"74882ce27eb59c09f7ef04ae4b253733\", element=\"f.34BC102A7BCC52E05EC0F1B4C8A0CD4D.d.85D4446145E42531134957E873F4432E.e.66363\")>,\n",
       " <selenium.webdriver.remote.webelement.WebElement (session=\"74882ce27eb59c09f7ef04ae4b253733\", element=\"f.34BC102A7BCC52E05EC0F1B4C8A0CD4D.d.85D4446145E42531134957E873F4432E.e.66375\")>,\n",
       " <selenium.webdriver.remote.webelement.WebElement (session=\"74882ce27eb59c09f7ef04ae4b253733\", element=\"f.34BC102A7BCC52E05EC0F1B4C8A0CD4D.d.85D4446145E42531134957E873F4432E.e.66387\")>,\n",
       " <selenium.webdriver.remote.webelement.WebElement (session=\"74882ce27eb59c09f7ef04ae4b253733\", element=\"f.34BC102A7BCC52E05EC0F1B4C8A0CD4D.d.85D4446145E42531134957E873F4432E.e.66399\")>,\n",
       " <selenium.webdriver.remote.webelement.WebElement (session=\"74882ce27eb59c09f7ef04ae4b253733\", element=\"f.34BC102A7BCC52E05EC0F1B4C8A0CD4D.d.85D4446145E42531134957E873F4432E.e.66411\")>,\n",
       " <selenium.webdriver.remote.webelement.WebElement (session=\"74882ce27eb59c09f7ef04ae4b253733\", element=\"f.34BC102A7BCC52E05EC0F1B4C8A0CD4D.d.85D4446145E42531134957E873F4432E.e.66423\")>,\n",
       " <selenium.webdriver.remote.webelement.WebElement (session=\"74882ce27eb59c09f7ef04ae4b253733\", element=\"f.34BC102A7BCC52E05EC0F1B4C8A0CD4D.d.85D4446145E42531134957E873F4432E.e.66435\")>,\n",
       " <selenium.webdriver.remote.webelement.WebElement (session=\"74882ce27eb59c09f7ef04ae4b253733\", element=\"f.34BC102A7BCC52E05EC0F1B4C8A0CD4D.d.85D4446145E42531134957E873F4432E.e.66447\")>,\n",
       " <selenium.webdriver.remote.webelement.WebElement (session=\"74882ce27eb59c09f7ef04ae4b253733\", element=\"f.34BC102A7BCC52E05EC0F1B4C8A0CD4D.d.85D4446145E42531134957E873F4432E.e.66459\")>,\n",
       " <selenium.webdriver.remote.webelement.WebElement (session=\"74882ce27eb59c09f7ef04ae4b253733\", element=\"f.34BC102A7BCC52E05EC0F1B4C8A0CD4D.d.85D4446145E42531134957E873F4432E.e.66471\")>,\n",
       " <selenium.webdriver.remote.webelement.WebElement (session=\"74882ce27eb59c09f7ef04ae4b253733\", element=\"f.34BC102A7BCC52E05EC0F1B4C8A0CD4D.d.85D4446145E42531134957E873F4432E.e.66483\")>,\n",
       " <selenium.webdriver.remote.webelement.WebElement (session=\"74882ce27eb59c09f7ef04ae4b253733\", element=\"f.34BC102A7BCC52E05EC0F1B4C8A0CD4D.d.85D4446145E42531134957E873F4432E.e.66495\")>,\n",
       " <selenium.webdriver.remote.webelement.WebElement (session=\"74882ce27eb59c09f7ef04ae4b253733\", element=\"f.34BC102A7BCC52E05EC0F1B4C8A0CD4D.d.85D4446145E42531134957E873F4432E.e.66507\")>,\n",
       " <selenium.webdriver.remote.webelement.WebElement (session=\"74882ce27eb59c09f7ef04ae4b253733\", element=\"f.34BC102A7BCC52E05EC0F1B4C8A0CD4D.d.85D4446145E42531134957E873F4432E.e.66519\")>,\n",
       " <selenium.webdriver.remote.webelement.WebElement (session=\"74882ce27eb59c09f7ef04ae4b253733\", element=\"f.34BC102A7BCC52E05EC0F1B4C8A0CD4D.d.85D4446145E42531134957E873F4432E.e.66531\")>,\n",
       " <selenium.webdriver.remote.webelement.WebElement (session=\"74882ce27eb59c09f7ef04ae4b253733\", element=\"f.34BC102A7BCC52E05EC0F1B4C8A0CD4D.d.85D4446145E42531134957E873F4432E.e.66543\")>,\n",
       " <selenium.webdriver.remote.webelement.WebElement (session=\"74882ce27eb59c09f7ef04ae4b253733\", element=\"f.34BC102A7BCC52E05EC0F1B4C8A0CD4D.d.85D4446145E42531134957E873F4432E.e.66555\")>,\n",
       " <selenium.webdriver.remote.webelement.WebElement (session=\"74882ce27eb59c09f7ef04ae4b253733\", element=\"f.34BC102A7BCC52E05EC0F1B4C8A0CD4D.d.85D4446145E42531134957E873F4432E.e.66567\")>,\n",
       " <selenium.webdriver.remote.webelement.WebElement (session=\"74882ce27eb59c09f7ef04ae4b253733\", element=\"f.34BC102A7BCC52E05EC0F1B4C8A0CD4D.d.85D4446145E42531134957E873F4432E.e.66579\")>,\n",
       " <selenium.webdriver.remote.webelement.WebElement (session=\"74882ce27eb59c09f7ef04ae4b253733\", element=\"f.34BC102A7BCC52E05EC0F1B4C8A0CD4D.d.85D4446145E42531134957E873F4432E.e.66591\")>,\n",
       " <selenium.webdriver.remote.webelement.WebElement (session=\"74882ce27eb59c09f7ef04ae4b253733\", element=\"f.34BC102A7BCC52E05EC0F1B4C8A0CD4D.d.85D4446145E42531134957E873F4432E.e.66603\")>,\n",
       " <selenium.webdriver.remote.webelement.WebElement (session=\"74882ce27eb59c09f7ef04ae4b253733\", element=\"f.34BC102A7BCC52E05EC0F1B4C8A0CD4D.d.85D4446145E42531134957E873F4432E.e.66615\")>,\n",
       " <selenium.webdriver.remote.webelement.WebElement (session=\"74882ce27eb59c09f7ef04ae4b253733\", element=\"f.34BC102A7BCC52E05EC0F1B4C8A0CD4D.d.85D4446145E42531134957E873F4432E.e.66627\")>,\n",
       " <selenium.webdriver.remote.webelement.WebElement (session=\"74882ce27eb59c09f7ef04ae4b253733\", element=\"f.34BC102A7BCC52E05EC0F1B4C8A0CD4D.d.85D4446145E42531134957E873F4432E.e.66639\")>,\n",
       " <selenium.webdriver.remote.webelement.WebElement (session=\"74882ce27eb59c09f7ef04ae4b253733\", element=\"f.34BC102A7BCC52E05EC0F1B4C8A0CD4D.d.85D4446145E42531134957E873F4432E.e.66651\")>,\n",
       " <selenium.webdriver.remote.webelement.WebElement (session=\"74882ce27eb59c09f7ef04ae4b253733\", element=\"f.34BC102A7BCC52E05EC0F1B4C8A0CD4D.d.85D4446145E42531134957E873F4432E.e.66663\")>,\n",
       " <selenium.webdriver.remote.webelement.WebElement (session=\"74882ce27eb59c09f7ef04ae4b253733\", element=\"f.34BC102A7BCC52E05EC0F1B4C8A0CD4D.d.85D4446145E42531134957E873F4432E.e.66675\")>,\n",
       " <selenium.webdriver.remote.webelement.WebElement (session=\"74882ce27eb59c09f7ef04ae4b253733\", element=\"f.34BC102A7BCC52E05EC0F1B4C8A0CD4D.d.85D4446145E42531134957E873F4432E.e.66687\")>,\n",
       " <selenium.webdriver.remote.webelement.WebElement (session=\"74882ce27eb59c09f7ef04ae4b253733\", element=\"f.34BC102A7BCC52E05EC0F1B4C8A0CD4D.d.85D4446145E42531134957E873F4432E.e.66699\")>,\n",
       " <selenium.webdriver.remote.webelement.WebElement (session=\"74882ce27eb59c09f7ef04ae4b253733\", element=\"f.34BC102A7BCC52E05EC0F1B4C8A0CD4D.d.85D4446145E42531134957E873F4432E.e.66711\")>,\n",
       " <selenium.webdriver.remote.webelement.WebElement (session=\"74882ce27eb59c09f7ef04ae4b253733\", element=\"f.34BC102A7BCC52E05EC0F1B4C8A0CD4D.d.85D4446145E42531134957E873F4432E.e.66723\")>,\n",
       " <selenium.webdriver.remote.webelement.WebElement (session=\"74882ce27eb59c09f7ef04ae4b253733\", element=\"f.34BC102A7BCC52E05EC0F1B4C8A0CD4D.d.85D4446145E42531134957E873F4432E.e.66735\")>,\n",
       " <selenium.webdriver.remote.webelement.WebElement (session=\"74882ce27eb59c09f7ef04ae4b253733\", element=\"f.34BC102A7BCC52E05EC0F1B4C8A0CD4D.d.85D4446145E42531134957E873F4432E.e.66747\")>,\n",
       " <selenium.webdriver.remote.webelement.WebElement (session=\"74882ce27eb59c09f7ef04ae4b253733\", element=\"f.34BC102A7BCC52E05EC0F1B4C8A0CD4D.d.85D4446145E42531134957E873F4432E.e.66759\")>,\n",
       " <selenium.webdriver.remote.webelement.WebElement (session=\"74882ce27eb59c09f7ef04ae4b253733\", element=\"f.34BC102A7BCC52E05EC0F1B4C8A0CD4D.d.85D4446145E42531134957E873F4432E.e.66771\")>,\n",
       " <selenium.webdriver.remote.webelement.WebElement (session=\"74882ce27eb59c09f7ef04ae4b253733\", element=\"f.34BC102A7BCC52E05EC0F1B4C8A0CD4D.d.85D4446145E42531134957E873F4432E.e.66783\")>,\n",
       " <selenium.webdriver.remote.webelement.WebElement (session=\"74882ce27eb59c09f7ef04ae4b253733\", element=\"f.34BC102A7BCC52E05EC0F1B4C8A0CD4D.d.85D4446145E42531134957E873F4432E.e.66795\")>,\n",
       " <selenium.webdriver.remote.webelement.WebElement (session=\"74882ce27eb59c09f7ef04ae4b253733\", element=\"f.34BC102A7BCC52E05EC0F1B4C8A0CD4D.d.85D4446145E42531134957E873F4432E.e.66807\")>,\n",
       " <selenium.webdriver.remote.webelement.WebElement (session=\"74882ce27eb59c09f7ef04ae4b253733\", element=\"f.34BC102A7BCC52E05EC0F1B4C8A0CD4D.d.85D4446145E42531134957E873F4432E.e.66819\")>,\n",
       " <selenium.webdriver.remote.webelement.WebElement (session=\"74882ce27eb59c09f7ef04ae4b253733\", element=\"f.34BC102A7BCC52E05EC0F1B4C8A0CD4D.d.85D4446145E42531134957E873F4432E.e.66831\")>,\n",
       " <selenium.webdriver.remote.webelement.WebElement (session=\"74882ce27eb59c09f7ef04ae4b253733\", element=\"f.34BC102A7BCC52E05EC0F1B4C8A0CD4D.d.85D4446145E42531134957E873F4432E.e.66843\")>,\n",
       " <selenium.webdriver.remote.webelement.WebElement (session=\"74882ce27eb59c09f7ef04ae4b253733\", element=\"f.34BC102A7BCC52E05EC0F1B4C8A0CD4D.d.85D4446145E42531134957E873F4432E.e.66855\")>,\n",
       " <selenium.webdriver.remote.webelement.WebElement (session=\"74882ce27eb59c09f7ef04ae4b253733\", element=\"f.34BC102A7BCC52E05EC0F1B4C8A0CD4D.d.85D4446145E42531134957E873F4432E.e.66867\")>,\n",
       " <selenium.webdriver.remote.webelement.WebElement (session=\"74882ce27eb59c09f7ef04ae4b253733\", element=\"f.34BC102A7BCC52E05EC0F1B4C8A0CD4D.d.85D4446145E42531134957E873F4432E.e.66879\")>,\n",
       " <selenium.webdriver.remote.webelement.WebElement (session=\"74882ce27eb59c09f7ef04ae4b253733\", element=\"f.34BC102A7BCC52E05EC0F1B4C8A0CD4D.d.85D4446145E42531134957E873F4432E.e.66891\")>,\n",
       " <selenium.webdriver.remote.webelement.WebElement (session=\"74882ce27eb59c09f7ef04ae4b253733\", element=\"f.34BC102A7BCC52E05EC0F1B4C8A0CD4D.d.85D4446145E42531134957E873F4432E.e.66903\")>,\n",
       " <selenium.webdriver.remote.webelement.WebElement (session=\"74882ce27eb59c09f7ef04ae4b253733\", element=\"f.34BC102A7BCC52E05EC0F1B4C8A0CD4D.d.85D4446145E42531134957E873F4432E.e.66915\")>,\n",
       " <selenium.webdriver.remote.webelement.WebElement (session=\"74882ce27eb59c09f7ef04ae4b253733\", element=\"f.34BC102A7BCC52E05EC0F1B4C8A0CD4D.d.85D4446145E42531134957E873F4432E.e.66927\")>,\n",
       " <selenium.webdriver.remote.webelement.WebElement (session=\"74882ce27eb59c09f7ef04ae4b253733\", element=\"f.34BC102A7BCC52E05EC0F1B4C8A0CD4D.d.85D4446145E42531134957E873F4432E.e.66939\")>,\n",
       " <selenium.webdriver.remote.webelement.WebElement (session=\"74882ce27eb59c09f7ef04ae4b253733\", element=\"f.34BC102A7BCC52E05EC0F1B4C8A0CD4D.d.85D4446145E42531134957E873F4432E.e.66951\")>,\n",
       " <selenium.webdriver.remote.webelement.WebElement (session=\"74882ce27eb59c09f7ef04ae4b253733\", element=\"f.34BC102A7BCC52E05EC0F1B4C8A0CD4D.d.85D4446145E42531134957E873F4432E.e.66963\")>,\n",
       " <selenium.webdriver.remote.webelement.WebElement (session=\"74882ce27eb59c09f7ef04ae4b253733\", element=\"f.34BC102A7BCC52E05EC0F1B4C8A0CD4D.d.85D4446145E42531134957E873F4432E.e.66975\")>,\n",
       " <selenium.webdriver.remote.webelement.WebElement (session=\"74882ce27eb59c09f7ef04ae4b253733\", element=\"f.34BC102A7BCC52E05EC0F1B4C8A0CD4D.d.85D4446145E42531134957E873F4432E.e.66987\")>,\n",
       " <selenium.webdriver.remote.webelement.WebElement (session=\"74882ce27eb59c09f7ef04ae4b253733\", element=\"f.34BC102A7BCC52E05EC0F1B4C8A0CD4D.d.85D4446145E42531134957E873F4432E.e.66999\")>,\n",
       " <selenium.webdriver.remote.webelement.WebElement (session=\"74882ce27eb59c09f7ef04ae4b253733\", element=\"f.34BC102A7BCC52E05EC0F1B4C8A0CD4D.d.85D4446145E42531134957E873F4432E.e.67011\")>,\n",
       " <selenium.webdriver.remote.webelement.WebElement (session=\"74882ce27eb59c09f7ef04ae4b253733\", element=\"f.34BC102A7BCC52E05EC0F1B4C8A0CD4D.d.85D4446145E42531134957E873F4432E.e.67023\")>,\n",
       " <selenium.webdriver.remote.webelement.WebElement (session=\"74882ce27eb59c09f7ef04ae4b253733\", element=\"f.34BC102A7BCC52E05EC0F1B4C8A0CD4D.d.85D4446145E42531134957E873F4432E.e.67035\")>,\n",
       " <selenium.webdriver.remote.webelement.WebElement (session=\"74882ce27eb59c09f7ef04ae4b253733\", element=\"f.34BC102A7BCC52E05EC0F1B4C8A0CD4D.d.85D4446145E42531134957E873F4432E.e.67047\")>,\n",
       " <selenium.webdriver.remote.webelement.WebElement (session=\"74882ce27eb59c09f7ef04ae4b253733\", element=\"f.34BC102A7BCC52E05EC0F1B4C8A0CD4D.d.85D4446145E42531134957E873F4432E.e.67059\")>,\n",
       " <selenium.webdriver.remote.webelement.WebElement (session=\"74882ce27eb59c09f7ef04ae4b253733\", element=\"f.34BC102A7BCC52E05EC0F1B4C8A0CD4D.d.85D4446145E42531134957E873F4432E.e.67071\")>,\n",
       " <selenium.webdriver.remote.webelement.WebElement (session=\"74882ce27eb59c09f7ef04ae4b253733\", element=\"f.34BC102A7BCC52E05EC0F1B4C8A0CD4D.d.85D4446145E42531134957E873F4432E.e.67083\")>,\n",
       " <selenium.webdriver.remote.webelement.WebElement (session=\"74882ce27eb59c09f7ef04ae4b253733\", element=\"f.34BC102A7BCC52E05EC0F1B4C8A0CD4D.d.85D4446145E42531134957E873F4432E.e.67095\")>,\n",
       " <selenium.webdriver.remote.webelement.WebElement (session=\"74882ce27eb59c09f7ef04ae4b253733\", element=\"f.34BC102A7BCC52E05EC0F1B4C8A0CD4D.d.85D4446145E42531134957E873F4432E.e.67107\")>,\n",
       " <selenium.webdriver.remote.webelement.WebElement (session=\"74882ce27eb59c09f7ef04ae4b253733\", element=\"f.34BC102A7BCC52E05EC0F1B4C8A0CD4D.d.85D4446145E42531134957E873F4432E.e.67119\")>,\n",
       " <selenium.webdriver.remote.webelement.WebElement (session=\"74882ce27eb59c09f7ef04ae4b253733\", element=\"f.34BC102A7BCC52E05EC0F1B4C8A0CD4D.d.85D4446145E42531134957E873F4432E.e.67131\")>,\n",
       " <selenium.webdriver.remote.webelement.WebElement (session=\"74882ce27eb59c09f7ef04ae4b253733\", element=\"f.34BC102A7BCC52E05EC0F1B4C8A0CD4D.d.85D4446145E42531134957E873F4432E.e.67143\")>,\n",
       " <selenium.webdriver.remote.webelement.WebElement (session=\"74882ce27eb59c09f7ef04ae4b253733\", element=\"f.34BC102A7BCC52E05EC0F1B4C8A0CD4D.d.85D4446145E42531134957E873F4432E.e.67155\")>,\n",
       " <selenium.webdriver.remote.webelement.WebElement (session=\"74882ce27eb59c09f7ef04ae4b253733\", element=\"f.34BC102A7BCC52E05EC0F1B4C8A0CD4D.d.85D4446145E42531134957E873F4432E.e.67167\")>,\n",
       " <selenium.webdriver.remote.webelement.WebElement (session=\"74882ce27eb59c09f7ef04ae4b253733\", element=\"f.34BC102A7BCC52E05EC0F1B4C8A0CD4D.d.85D4446145E42531134957E873F4432E.e.67179\")>,\n",
       " <selenium.webdriver.remote.webelement.WebElement (session=\"74882ce27eb59c09f7ef04ae4b253733\", element=\"f.34BC102A7BCC52E05EC0F1B4C8A0CD4D.d.85D4446145E42531134957E873F4432E.e.67191\")>,\n",
       " <selenium.webdriver.remote.webelement.WebElement (session=\"74882ce27eb59c09f7ef04ae4b253733\", element=\"f.34BC102A7BCC52E05EC0F1B4C8A0CD4D.d.85D4446145E42531134957E873F4432E.e.67203\")>,\n",
       " <selenium.webdriver.remote.webelement.WebElement (session=\"74882ce27eb59c09f7ef04ae4b253733\", element=\"f.34BC102A7BCC52E05EC0F1B4C8A0CD4D.d.85D4446145E42531134957E873F4432E.e.67215\")>,\n",
       " <selenium.webdriver.remote.webelement.WebElement (session=\"74882ce27eb59c09f7ef04ae4b253733\", element=\"f.34BC102A7BCC52E05EC0F1B4C8A0CD4D.d.85D4446145E42531134957E873F4432E.e.67227\")>,\n",
       " <selenium.webdriver.remote.webelement.WebElement (session=\"74882ce27eb59c09f7ef04ae4b253733\", element=\"f.34BC102A7BCC52E05EC0F1B4C8A0CD4D.d.85D4446145E42531134957E873F4432E.e.67239\")>,\n",
       " <selenium.webdriver.remote.webelement.WebElement (session=\"74882ce27eb59c09f7ef04ae4b253733\", element=\"f.34BC102A7BCC52E05EC0F1B4C8A0CD4D.d.85D4446145E42531134957E873F4432E.e.67251\")>,\n",
       " <selenium.webdriver.remote.webelement.WebElement (session=\"74882ce27eb59c09f7ef04ae4b253733\", element=\"f.34BC102A7BCC52E05EC0F1B4C8A0CD4D.d.85D4446145E42531134957E873F4432E.e.67263\")>,\n",
       " <selenium.webdriver.remote.webelement.WebElement (session=\"74882ce27eb59c09f7ef04ae4b253733\", element=\"f.34BC102A7BCC52E05EC0F1B4C8A0CD4D.d.85D4446145E42531134957E873F4432E.e.67275\")>,\n",
       " <selenium.webdriver.remote.webelement.WebElement (session=\"74882ce27eb59c09f7ef04ae4b253733\", element=\"f.34BC102A7BCC52E05EC0F1B4C8A0CD4D.d.85D4446145E42531134957E873F4432E.e.67287\")>,\n",
       " <selenium.webdriver.remote.webelement.WebElement (session=\"74882ce27eb59c09f7ef04ae4b253733\", element=\"f.34BC102A7BCC52E05EC0F1B4C8A0CD4D.d.85D4446145E42531134957E873F4432E.e.67299\")>,\n",
       " <selenium.webdriver.remote.webelement.WebElement (session=\"74882ce27eb59c09f7ef04ae4b253733\", element=\"f.34BC102A7BCC52E05EC0F1B4C8A0CD4D.d.85D4446145E42531134957E873F4432E.e.67311\")>,\n",
       " <selenium.webdriver.remote.webelement.WebElement (session=\"74882ce27eb59c09f7ef04ae4b253733\", element=\"f.34BC102A7BCC52E05EC0F1B4C8A0CD4D.d.85D4446145E42531134957E873F4432E.e.67323\")>,\n",
       " <selenium.webdriver.remote.webelement.WebElement (session=\"74882ce27eb59c09f7ef04ae4b253733\", element=\"f.34BC102A7BCC52E05EC0F1B4C8A0CD4D.d.85D4446145E42531134957E873F4432E.e.67335\")>,\n",
       " <selenium.webdriver.remote.webelement.WebElement (session=\"74882ce27eb59c09f7ef04ae4b253733\", element=\"f.34BC102A7BCC52E05EC0F1B4C8A0CD4D.d.85D4446145E42531134957E873F4432E.e.67347\")>,\n",
       " <selenium.webdriver.remote.webelement.WebElement (session=\"74882ce27eb59c09f7ef04ae4b253733\", element=\"f.34BC102A7BCC52E05EC0F1B4C8A0CD4D.d.85D4446145E42531134957E873F4432E.e.67359\")>,\n",
       " <selenium.webdriver.remote.webelement.WebElement (session=\"74882ce27eb59c09f7ef04ae4b253733\", element=\"f.34BC102A7BCC52E05EC0F1B4C8A0CD4D.d.85D4446145E42531134957E873F4432E.e.67371\")>,\n",
       " <selenium.webdriver.remote.webelement.WebElement (session=\"74882ce27eb59c09f7ef04ae4b253733\", element=\"f.34BC102A7BCC52E05EC0F1B4C8A0CD4D.d.85D4446145E42531134957E873F4432E.e.67383\")>,\n",
       " <selenium.webdriver.remote.webelement.WebElement (session=\"74882ce27eb59c09f7ef04ae4b253733\", element=\"f.34BC102A7BCC52E05EC0F1B4C8A0CD4D.d.85D4446145E42531134957E873F4432E.e.67395\")>,\n",
       " <selenium.webdriver.remote.webelement.WebElement (session=\"74882ce27eb59c09f7ef04ae4b253733\", element=\"f.34BC102A7BCC52E05EC0F1B4C8A0CD4D.d.85D4446145E42531134957E873F4432E.e.67407\")>,\n",
       " <selenium.webdriver.remote.webelement.WebElement (session=\"74882ce27eb59c09f7ef04ae4b253733\", element=\"f.34BC102A7BCC52E05EC0F1B4C8A0CD4D.d.85D4446145E42531134957E873F4432E.e.67419\")>,\n",
       " <selenium.webdriver.remote.webelement.WebElement (session=\"74882ce27eb59c09f7ef04ae4b253733\", element=\"f.34BC102A7BCC52E05EC0F1B4C8A0CD4D.d.85D4446145E42531134957E873F4432E.e.67431\")>,\n",
       " <selenium.webdriver.remote.webelement.WebElement (session=\"74882ce27eb59c09f7ef04ae4b253733\", element=\"f.34BC102A7BCC52E05EC0F1B4C8A0CD4D.d.85D4446145E42531134957E873F4432E.e.67443\")>,\n",
       " <selenium.webdriver.remote.webelement.WebElement (session=\"74882ce27eb59c09f7ef04ae4b253733\", element=\"f.34BC102A7BCC52E05EC0F1B4C8A0CD4D.d.85D4446145E42531134957E873F4432E.e.67455\")>,\n",
       " <selenium.webdriver.remote.webelement.WebElement (session=\"74882ce27eb59c09f7ef04ae4b253733\", element=\"f.34BC102A7BCC52E05EC0F1B4C8A0CD4D.d.85D4446145E42531134957E873F4432E.e.67467\")>,\n",
       " <selenium.webdriver.remote.webelement.WebElement (session=\"74882ce27eb59c09f7ef04ae4b253733\", element=\"f.34BC102A7BCC52E05EC0F1B4C8A0CD4D.d.85D4446145E42531134957E873F4432E.e.67479\")>,\n",
       " <selenium.webdriver.remote.webelement.WebElement (session=\"74882ce27eb59c09f7ef04ae4b253733\", element=\"f.34BC102A7BCC52E05EC0F1B4C8A0CD4D.d.85D4446145E42531134957E873F4432E.e.67491\")>,\n",
       " <selenium.webdriver.remote.webelement.WebElement (session=\"74882ce27eb59c09f7ef04ae4b253733\", element=\"f.34BC102A7BCC52E05EC0F1B4C8A0CD4D.d.85D4446145E42531134957E873F4432E.e.67503\")>,\n",
       " <selenium.webdriver.remote.webelement.WebElement (session=\"74882ce27eb59c09f7ef04ae4b253733\", element=\"f.34BC102A7BCC52E05EC0F1B4C8A0CD4D.d.85D4446145E42531134957E873F4432E.e.67515\")>,\n",
       " <selenium.webdriver.remote.webelement.WebElement (session=\"74882ce27eb59c09f7ef04ae4b253733\", element=\"f.34BC102A7BCC52E05EC0F1B4C8A0CD4D.d.85D4446145E42531134957E873F4432E.e.67527\")>,\n",
       " <selenium.webdriver.remote.webelement.WebElement (session=\"74882ce27eb59c09f7ef04ae4b253733\", element=\"f.34BC102A7BCC52E05EC0F1B4C8A0CD4D.d.85D4446145E42531134957E873F4432E.e.67539\")>,\n",
       " <selenium.webdriver.remote.webelement.WebElement (session=\"74882ce27eb59c09f7ef04ae4b253733\", element=\"f.34BC102A7BCC52E05EC0F1B4C8A0CD4D.d.85D4446145E42531134957E873F4432E.e.67551\")>,\n",
       " <selenium.webdriver.remote.webelement.WebElement (session=\"74882ce27eb59c09f7ef04ae4b253733\", element=\"f.34BC102A7BCC52E05EC0F1B4C8A0CD4D.d.85D4446145E42531134957E873F4432E.e.67563\")>,\n",
       " <selenium.webdriver.remote.webelement.WebElement (session=\"74882ce27eb59c09f7ef04ae4b253733\", element=\"f.34BC102A7BCC52E05EC0F1B4C8A0CD4D.d.85D4446145E42531134957E873F4432E.e.67575\")>,\n",
       " <selenium.webdriver.remote.webelement.WebElement (session=\"74882ce27eb59c09f7ef04ae4b253733\", element=\"f.34BC102A7BCC52E05EC0F1B4C8A0CD4D.d.85D4446145E42531134957E873F4432E.e.67587\")>,\n",
       " <selenium.webdriver.remote.webelement.WebElement (session=\"74882ce27eb59c09f7ef04ae4b253733\", element=\"f.34BC102A7BCC52E05EC0F1B4C8A0CD4D.d.85D4446145E42531134957E873F4432E.e.67599\")>,\n",
       " <selenium.webdriver.remote.webelement.WebElement (session=\"74882ce27eb59c09f7ef04ae4b253733\", element=\"f.34BC102A7BCC52E05EC0F1B4C8A0CD4D.d.85D4446145E42531134957E873F4432E.e.67611\")>,\n",
       " <selenium.webdriver.remote.webelement.WebElement (session=\"74882ce27eb59c09f7ef04ae4b253733\", element=\"f.34BC102A7BCC52E05EC0F1B4C8A0CD4D.d.85D4446145E42531134957E873F4432E.e.67623\")>,\n",
       " <selenium.webdriver.remote.webelement.WebElement (session=\"74882ce27eb59c09f7ef04ae4b253733\", element=\"f.34BC102A7BCC52E05EC0F1B4C8A0CD4D.d.85D4446145E42531134957E873F4432E.e.67635\")>,\n",
       " <selenium.webdriver.remote.webelement.WebElement (session=\"74882ce27eb59c09f7ef04ae4b253733\", element=\"f.34BC102A7BCC52E05EC0F1B4C8A0CD4D.d.85D4446145E42531134957E873F4432E.e.67647\")>,\n",
       " <selenium.webdriver.remote.webelement.WebElement (session=\"74882ce27eb59c09f7ef04ae4b253733\", element=\"f.34BC102A7BCC52E05EC0F1B4C8A0CD4D.d.85D4446145E42531134957E873F4432E.e.67659\")>,\n",
       " <selenium.webdriver.remote.webelement.WebElement (session=\"74882ce27eb59c09f7ef04ae4b253733\", element=\"f.34BC102A7BCC52E05EC0F1B4C8A0CD4D.d.85D4446145E42531134957E873F4432E.e.67671\")>,\n",
       " <selenium.webdriver.remote.webelement.WebElement (session=\"74882ce27eb59c09f7ef04ae4b253733\", element=\"f.34BC102A7BCC52E05EC0F1B4C8A0CD4D.d.85D4446145E42531134957E873F4432E.e.67683\")>,\n",
       " <selenium.webdriver.remote.webelement.WebElement (session=\"74882ce27eb59c09f7ef04ae4b253733\", element=\"f.34BC102A7BCC52E05EC0F1B4C8A0CD4D.d.85D4446145E42531134957E873F4432E.e.67695\")>,\n",
       " <selenium.webdriver.remote.webelement.WebElement (session=\"74882ce27eb59c09f7ef04ae4b253733\", element=\"f.34BC102A7BCC52E05EC0F1B4C8A0CD4D.d.85D4446145E42531134957E873F4432E.e.67707\")>,\n",
       " <selenium.webdriver.remote.webelement.WebElement (session=\"74882ce27eb59c09f7ef04ae4b253733\", element=\"f.34BC102A7BCC52E05EC0F1B4C8A0CD4D.d.85D4446145E42531134957E873F4432E.e.67719\")>,\n",
       " <selenium.webdriver.remote.webelement.WebElement (session=\"74882ce27eb59c09f7ef04ae4b253733\", element=\"f.34BC102A7BCC52E05EC0F1B4C8A0CD4D.d.85D4446145E42531134957E873F4432E.e.67731\")>,\n",
       " <selenium.webdriver.remote.webelement.WebElement (session=\"74882ce27eb59c09f7ef04ae4b253733\", element=\"f.34BC102A7BCC52E05EC0F1B4C8A0CD4D.d.85D4446145E42531134957E873F4432E.e.67743\")>,\n",
       " <selenium.webdriver.remote.webelement.WebElement (session=\"74882ce27eb59c09f7ef04ae4b253733\", element=\"f.34BC102A7BCC52E05EC0F1B4C8A0CD4D.d.85D4446145E42531134957E873F4432E.e.67755\")>,\n",
       " <selenium.webdriver.remote.webelement.WebElement (session=\"74882ce27eb59c09f7ef04ae4b253733\", element=\"f.34BC102A7BCC52E05EC0F1B4C8A0CD4D.d.85D4446145E42531134957E873F4432E.e.67767\")>,\n",
       " <selenium.webdriver.remote.webelement.WebElement (session=\"74882ce27eb59c09f7ef04ae4b253733\", element=\"f.34BC102A7BCC52E05EC0F1B4C8A0CD4D.d.85D4446145E42531134957E873F4432E.e.67779\")>,\n",
       " <selenium.webdriver.remote.webelement.WebElement (session=\"74882ce27eb59c09f7ef04ae4b253733\", element=\"f.34BC102A7BCC52E05EC0F1B4C8A0CD4D.d.85D4446145E42531134957E873F4432E.e.67791\")>,\n",
       " <selenium.webdriver.remote.webelement.WebElement (session=\"74882ce27eb59c09f7ef04ae4b253733\", element=\"f.34BC102A7BCC52E05EC0F1B4C8A0CD4D.d.85D4446145E42531134957E873F4432E.e.67803\")>,\n",
       " <selenium.webdriver.remote.webelement.WebElement (session=\"74882ce27eb59c09f7ef04ae4b253733\", element=\"f.34BC102A7BCC52E05EC0F1B4C8A0CD4D.d.85D4446145E42531134957E873F4432E.e.67815\")>,\n",
       " <selenium.webdriver.remote.webelement.WebElement (session=\"74882ce27eb59c09f7ef04ae4b253733\", element=\"f.34BC102A7BCC52E05EC0F1B4C8A0CD4D.d.85D4446145E42531134957E873F4432E.e.67827\")>,\n",
       " <selenium.webdriver.remote.webelement.WebElement (session=\"74882ce27eb59c09f7ef04ae4b253733\", element=\"f.34BC102A7BCC52E05EC0F1B4C8A0CD4D.d.85D4446145E42531134957E873F4432E.e.67839\")>,\n",
       " <selenium.webdriver.remote.webelement.WebElement (session=\"74882ce27eb59c09f7ef04ae4b253733\", element=\"f.34BC102A7BCC52E05EC0F1B4C8A0CD4D.d.85D4446145E42531134957E873F4432E.e.67851\")>,\n",
       " <selenium.webdriver.remote.webelement.WebElement (session=\"74882ce27eb59c09f7ef04ae4b253733\", element=\"f.34BC102A7BCC52E05EC0F1B4C8A0CD4D.d.85D4446145E42531134957E873F4432E.e.67863\")>,\n",
       " <selenium.webdriver.remote.webelement.WebElement (session=\"74882ce27eb59c09f7ef04ae4b253733\", element=\"f.34BC102A7BCC52E05EC0F1B4C8A0CD4D.d.85D4446145E42531134957E873F4432E.e.67875\")>,\n",
       " <selenium.webdriver.remote.webelement.WebElement (session=\"74882ce27eb59c09f7ef04ae4b253733\", element=\"f.34BC102A7BCC52E05EC0F1B4C8A0CD4D.d.85D4446145E42531134957E873F4432E.e.67887\")>,\n",
       " <selenium.webdriver.remote.webelement.WebElement (session=\"74882ce27eb59c09f7ef04ae4b253733\", element=\"f.34BC102A7BCC52E05EC0F1B4C8A0CD4D.d.85D4446145E42531134957E873F4432E.e.67899\")>,\n",
       " <selenium.webdriver.remote.webelement.WebElement (session=\"74882ce27eb59c09f7ef04ae4b253733\", element=\"f.34BC102A7BCC52E05EC0F1B4C8A0CD4D.d.85D4446145E42531134957E873F4432E.e.67911\")>,\n",
       " <selenium.webdriver.remote.webelement.WebElement (session=\"74882ce27eb59c09f7ef04ae4b253733\", element=\"f.34BC102A7BCC52E05EC0F1B4C8A0CD4D.d.85D4446145E42531134957E873F4432E.e.67923\")>,\n",
       " <selenium.webdriver.remote.webelement.WebElement (session=\"74882ce27eb59c09f7ef04ae4b253733\", element=\"f.34BC102A7BCC52E05EC0F1B4C8A0CD4D.d.85D4446145E42531134957E873F4432E.e.67935\")>,\n",
       " <selenium.webdriver.remote.webelement.WebElement (session=\"74882ce27eb59c09f7ef04ae4b253733\", element=\"f.34BC102A7BCC52E05EC0F1B4C8A0CD4D.d.85D4446145E42531134957E873F4432E.e.67947\")>,\n",
       " <selenium.webdriver.remote.webelement.WebElement (session=\"74882ce27eb59c09f7ef04ae4b253733\", element=\"f.34BC102A7BCC52E05EC0F1B4C8A0CD4D.d.85D4446145E42531134957E873F4432E.e.67959\")>,\n",
       " <selenium.webdriver.remote.webelement.WebElement (session=\"74882ce27eb59c09f7ef04ae4b253733\", element=\"f.34BC102A7BCC52E05EC0F1B4C8A0CD4D.d.85D4446145E42531134957E873F4432E.e.67971\")>,\n",
       " <selenium.webdriver.remote.webelement.WebElement (session=\"74882ce27eb59c09f7ef04ae4b253733\", element=\"f.34BC102A7BCC52E05EC0F1B4C8A0CD4D.d.85D4446145E42531134957E873F4432E.e.67983\")>,\n",
       " <selenium.webdriver.remote.webelement.WebElement (session=\"74882ce27eb59c09f7ef04ae4b253733\", element=\"f.34BC102A7BCC52E05EC0F1B4C8A0CD4D.d.85D4446145E42531134957E873F4432E.e.67995\")>,\n",
       " <selenium.webdriver.remote.webelement.WebElement (session=\"74882ce27eb59c09f7ef04ae4b253733\", element=\"f.34BC102A7BCC52E05EC0F1B4C8A0CD4D.d.85D4446145E42531134957E873F4432E.e.68007\")>,\n",
       " <selenium.webdriver.remote.webelement.WebElement (session=\"74882ce27eb59c09f7ef04ae4b253733\", element=\"f.34BC102A7BCC52E05EC0F1B4C8A0CD4D.d.85D4446145E42531134957E873F4432E.e.68019\")>,\n",
       " <selenium.webdriver.remote.webelement.WebElement (session=\"74882ce27eb59c09f7ef04ae4b253733\", element=\"f.34BC102A7BCC52E05EC0F1B4C8A0CD4D.d.85D4446145E42531134957E873F4432E.e.68031\")>,\n",
       " <selenium.webdriver.remote.webelement.WebElement (session=\"74882ce27eb59c09f7ef04ae4b253733\", element=\"f.34BC102A7BCC52E05EC0F1B4C8A0CD4D.d.85D4446145E42531134957E873F4432E.e.68039\")>,\n",
       " <selenium.webdriver.remote.webelement.WebElement (session=\"74882ce27eb59c09f7ef04ae4b253733\", element=\"f.34BC102A7BCC52E05EC0F1B4C8A0CD4D.d.85D4446145E42531134957E873F4432E.e.68047\")>,\n",
       " <selenium.webdriver.remote.webelement.WebElement (session=\"74882ce27eb59c09f7ef04ae4b253733\", element=\"f.34BC102A7BCC52E05EC0F1B4C8A0CD4D.d.85D4446145E42531134957E873F4432E.e.68055\")>,\n",
       " <selenium.webdriver.remote.webelement.WebElement (session=\"74882ce27eb59c09f7ef04ae4b253733\", element=\"f.34BC102A7BCC52E05EC0F1B4C8A0CD4D.d.85D4446145E42531134957E873F4432E.e.68063\")>,\n",
       " <selenium.webdriver.remote.webelement.WebElement (session=\"74882ce27eb59c09f7ef04ae4b253733\", element=\"f.34BC102A7BCC52E05EC0F1B4C8A0CD4D.d.85D4446145E42531134957E873F4432E.e.68071\")>,\n",
       " <selenium.webdriver.remote.webelement.WebElement (session=\"74882ce27eb59c09f7ef04ae4b253733\", element=\"f.34BC102A7BCC52E05EC0F1B4C8A0CD4D.d.85D4446145E42531134957E873F4432E.e.68079\")>,\n",
       " <selenium.webdriver.remote.webelement.WebElement (session=\"74882ce27eb59c09f7ef04ae4b253733\", element=\"f.34BC102A7BCC52E05EC0F1B4C8A0CD4D.d.85D4446145E42531134957E873F4432E.e.68087\")>,\n",
       " <selenium.webdriver.remote.webelement.WebElement (session=\"74882ce27eb59c09f7ef04ae4b253733\", element=\"f.34BC102A7BCC52E05EC0F1B4C8A0CD4D.d.85D4446145E42531134957E873F4432E.e.68095\")>,\n",
       " <selenium.webdriver.remote.webelement.WebElement (session=\"74882ce27eb59c09f7ef04ae4b253733\", element=\"f.34BC102A7BCC52E05EC0F1B4C8A0CD4D.d.85D4446145E42531134957E873F4432E.e.68103\")>,\n",
       " <selenium.webdriver.remote.webelement.WebElement (session=\"74882ce27eb59c09f7ef04ae4b253733\", element=\"f.34BC102A7BCC52E05EC0F1B4C8A0CD4D.d.85D4446145E42531134957E873F4432E.e.68111\")>,\n",
       " <selenium.webdriver.remote.webelement.WebElement (session=\"74882ce27eb59c09f7ef04ae4b253733\", element=\"f.34BC102A7BCC52E05EC0F1B4C8A0CD4D.d.85D4446145E42531134957E873F4432E.e.68119\")>,\n",
       " <selenium.webdriver.remote.webelement.WebElement (session=\"74882ce27eb59c09f7ef04ae4b253733\", element=\"f.34BC102A7BCC52E05EC0F1B4C8A0CD4D.d.85D4446145E42531134957E873F4432E.e.68127\")>,\n",
       " <selenium.webdriver.remote.webelement.WebElement (session=\"74882ce27eb59c09f7ef04ae4b253733\", element=\"f.34BC102A7BCC52E05EC0F1B4C8A0CD4D.d.85D4446145E42531134957E873F4432E.e.68135\")>,\n",
       " <selenium.webdriver.remote.webelement.WebElement (session=\"74882ce27eb59c09f7ef04ae4b253733\", element=\"f.34BC102A7BCC52E05EC0F1B4C8A0CD4D.d.85D4446145E42531134957E873F4432E.e.68143\")>,\n",
       " <selenium.webdriver.remote.webelement.WebElement (session=\"74882ce27eb59c09f7ef04ae4b253733\", element=\"f.34BC102A7BCC52E05EC0F1B4C8A0CD4D.d.85D4446145E42531134957E873F4432E.e.68151\")>,\n",
       " <selenium.webdriver.remote.webelement.WebElement (session=\"74882ce27eb59c09f7ef04ae4b253733\", element=\"f.34BC102A7BCC52E05EC0F1B4C8A0CD4D.d.85D4446145E42531134957E873F4432E.e.68159\")>,\n",
       " <selenium.webdriver.remote.webelement.WebElement (session=\"74882ce27eb59c09f7ef04ae4b253733\", element=\"f.34BC102A7BCC52E05EC0F1B4C8A0CD4D.d.85D4446145E42531134957E873F4432E.e.68167\")>,\n",
       " <selenium.webdriver.remote.webelement.WebElement (session=\"74882ce27eb59c09f7ef04ae4b253733\", element=\"f.34BC102A7BCC52E05EC0F1B4C8A0CD4D.d.85D4446145E42531134957E873F4432E.e.68175\")>,\n",
       " <selenium.webdriver.remote.webelement.WebElement (session=\"74882ce27eb59c09f7ef04ae4b253733\", element=\"f.34BC102A7BCC52E05EC0F1B4C8A0CD4D.d.85D4446145E42531134957E873F4432E.e.68183\")>,\n",
       " <selenium.webdriver.remote.webelement.WebElement (session=\"74882ce27eb59c09f7ef04ae4b253733\", element=\"f.34BC102A7BCC52E05EC0F1B4C8A0CD4D.d.85D4446145E42531134957E873F4432E.e.68191\")>,\n",
       " <selenium.webdriver.remote.webelement.WebElement (session=\"74882ce27eb59c09f7ef04ae4b253733\", element=\"f.34BC102A7BCC52E05EC0F1B4C8A0CD4D.d.85D4446145E42531134957E873F4432E.e.68199\")>,\n",
       " <selenium.webdriver.remote.webelement.WebElement (session=\"74882ce27eb59c09f7ef04ae4b253733\", element=\"f.34BC102A7BCC52E05EC0F1B4C8A0CD4D.d.85D4446145E42531134957E873F4432E.e.68207\")>,\n",
       " <selenium.webdriver.remote.webelement.WebElement (session=\"74882ce27eb59c09f7ef04ae4b253733\", element=\"f.34BC102A7BCC52E05EC0F1B4C8A0CD4D.d.85D4446145E42531134957E873F4432E.e.68215\")>,\n",
       " <selenium.webdriver.remote.webelement.WebElement (session=\"74882ce27eb59c09f7ef04ae4b253733\", element=\"f.34BC102A7BCC52E05EC0F1B4C8A0CD4D.d.85D4446145E42531134957E873F4432E.e.68223\")>,\n",
       " <selenium.webdriver.remote.webelement.WebElement (session=\"74882ce27eb59c09f7ef04ae4b253733\", element=\"f.34BC102A7BCC52E05EC0F1B4C8A0CD4D.d.85D4446145E42531134957E873F4432E.e.68231\")>,\n",
       " <selenium.webdriver.remote.webelement.WebElement (session=\"74882ce27eb59c09f7ef04ae4b253733\", element=\"f.34BC102A7BCC52E05EC0F1B4C8A0CD4D.d.85D4446145E42531134957E873F4432E.e.68239\")>,\n",
       " <selenium.webdriver.remote.webelement.WebElement (session=\"74882ce27eb59c09f7ef04ae4b253733\", element=\"f.34BC102A7BCC52E05EC0F1B4C8A0CD4D.d.85D4446145E42531134957E873F4432E.e.68247\")>,\n",
       " <selenium.webdriver.remote.webelement.WebElement (session=\"74882ce27eb59c09f7ef04ae4b253733\", element=\"f.34BC102A7BCC52E05EC0F1B4C8A0CD4D.d.85D4446145E42531134957E873F4432E.e.68255\")>,\n",
       " <selenium.webdriver.remote.webelement.WebElement (session=\"74882ce27eb59c09f7ef04ae4b253733\", element=\"f.34BC102A7BCC52E05EC0F1B4C8A0CD4D.d.85D4446145E42531134957E873F4432E.e.68263\")>,\n",
       " <selenium.webdriver.remote.webelement.WebElement (session=\"74882ce27eb59c09f7ef04ae4b253733\", element=\"f.34BC102A7BCC52E05EC0F1B4C8A0CD4D.d.85D4446145E42531134957E873F4432E.e.68271\")>,\n",
       " <selenium.webdriver.remote.webelement.WebElement (session=\"74882ce27eb59c09f7ef04ae4b253733\", element=\"f.34BC102A7BCC52E05EC0F1B4C8A0CD4D.d.85D4446145E42531134957E873F4432E.e.68279\")>,\n",
       " <selenium.webdriver.remote.webelement.WebElement (session=\"74882ce27eb59c09f7ef04ae4b253733\", element=\"f.34BC102A7BCC52E05EC0F1B4C8A0CD4D.d.85D4446145E42531134957E873F4432E.e.68287\")>,\n",
       " <selenium.webdriver.remote.webelement.WebElement (session=\"74882ce27eb59c09f7ef04ae4b253733\", element=\"f.34BC102A7BCC52E05EC0F1B4C8A0CD4D.d.85D4446145E42531134957E873F4432E.e.68295\")>,\n",
       " <selenium.webdriver.remote.webelement.WebElement (session=\"74882ce27eb59c09f7ef04ae4b253733\", element=\"f.34BC102A7BCC52E05EC0F1B4C8A0CD4D.d.85D4446145E42531134957E873F4432E.e.68303\")>,\n",
       " <selenium.webdriver.remote.webelement.WebElement (session=\"74882ce27eb59c09f7ef04ae4b253733\", element=\"f.34BC102A7BCC52E05EC0F1B4C8A0CD4D.d.85D4446145E42531134957E873F4432E.e.68311\")>,\n",
       " <selenium.webdriver.remote.webelement.WebElement (session=\"74882ce27eb59c09f7ef04ae4b253733\", element=\"f.34BC102A7BCC52E05EC0F1B4C8A0CD4D.d.85D4446145E42531134957E873F4432E.e.68319\")>,\n",
       " <selenium.webdriver.remote.webelement.WebElement (session=\"74882ce27eb59c09f7ef04ae4b253733\", element=\"f.34BC102A7BCC52E05EC0F1B4C8A0CD4D.d.85D4446145E42531134957E873F4432E.e.68327\")>,\n",
       " <selenium.webdriver.remote.webelement.WebElement (session=\"74882ce27eb59c09f7ef04ae4b253733\", element=\"f.34BC102A7BCC52E05EC0F1B4C8A0CD4D.d.85D4446145E42531134957E873F4432E.e.68335\")>,\n",
       " <selenium.webdriver.remote.webelement.WebElement (session=\"74882ce27eb59c09f7ef04ae4b253733\", element=\"f.34BC102A7BCC52E05EC0F1B4C8A0CD4D.d.85D4446145E42531134957E873F4432E.e.68343\")>,\n",
       " <selenium.webdriver.remote.webelement.WebElement (session=\"74882ce27eb59c09f7ef04ae4b253733\", element=\"f.34BC102A7BCC52E05EC0F1B4C8A0CD4D.d.85D4446145E42531134957E873F4432E.e.68351\")>,\n",
       " <selenium.webdriver.remote.webelement.WebElement (session=\"74882ce27eb59c09f7ef04ae4b253733\", element=\"f.34BC102A7BCC52E05EC0F1B4C8A0CD4D.d.85D4446145E42531134957E873F4432E.e.68359\")>,\n",
       " <selenium.webdriver.remote.webelement.WebElement (session=\"74882ce27eb59c09f7ef04ae4b253733\", element=\"f.34BC102A7BCC52E05EC0F1B4C8A0CD4D.d.85D4446145E42531134957E873F4432E.e.68367\")>,\n",
       " <selenium.webdriver.remote.webelement.WebElement (session=\"74882ce27eb59c09f7ef04ae4b253733\", element=\"f.34BC102A7BCC52E05EC0F1B4C8A0CD4D.d.85D4446145E42531134957E873F4432E.e.68375\")>,\n",
       " <selenium.webdriver.remote.webelement.WebElement (session=\"74882ce27eb59c09f7ef04ae4b253733\", element=\"f.34BC102A7BCC52E05EC0F1B4C8A0CD4D.d.85D4446145E42531134957E873F4432E.e.68383\")>,\n",
       " <selenium.webdriver.remote.webelement.WebElement (session=\"74882ce27eb59c09f7ef04ae4b253733\", element=\"f.34BC102A7BCC52E05EC0F1B4C8A0CD4D.d.85D4446145E42531134957E873F4432E.e.68391\")>,\n",
       " <selenium.webdriver.remote.webelement.WebElement (session=\"74882ce27eb59c09f7ef04ae4b253733\", element=\"f.34BC102A7BCC52E05EC0F1B4C8A0CD4D.d.85D4446145E42531134957E873F4432E.e.68399\")>,\n",
       " <selenium.webdriver.remote.webelement.WebElement (session=\"74882ce27eb59c09f7ef04ae4b253733\", element=\"f.34BC102A7BCC52E05EC0F1B4C8A0CD4D.d.85D4446145E42531134957E873F4432E.e.68407\")>,\n",
       " <selenium.webdriver.remote.webelement.WebElement (session=\"74882ce27eb59c09f7ef04ae4b253733\", element=\"f.34BC102A7BCC52E05EC0F1B4C8A0CD4D.d.85D4446145E42531134957E873F4432E.e.68415\")>,\n",
       " <selenium.webdriver.remote.webelement.WebElement (session=\"74882ce27eb59c09f7ef04ae4b253733\", element=\"f.34BC102A7BCC52E05EC0F1B4C8A0CD4D.d.85D4446145E42531134957E873F4432E.e.68423\")>,\n",
       " <selenium.webdriver.remote.webelement.WebElement (session=\"74882ce27eb59c09f7ef04ae4b253733\", element=\"f.34BC102A7BCC52E05EC0F1B4C8A0CD4D.d.85D4446145E42531134957E873F4432E.e.68431\")>,\n",
       " <selenium.webdriver.remote.webelement.WebElement (session=\"74882ce27eb59c09f7ef04ae4b253733\", element=\"f.34BC102A7BCC52E05EC0F1B4C8A0CD4D.d.85D4446145E42531134957E873F4432E.e.68439\")>,\n",
       " <selenium.webdriver.remote.webelement.WebElement (session=\"74882ce27eb59c09f7ef04ae4b253733\", element=\"f.34BC102A7BCC52E05EC0F1B4C8A0CD4D.d.85D4446145E42531134957E873F4432E.e.68447\")>,\n",
       " <selenium.webdriver.remote.webelement.WebElement (session=\"74882ce27eb59c09f7ef04ae4b253733\", element=\"f.34BC102A7BCC52E05EC0F1B4C8A0CD4D.d.85D4446145E42531134957E873F4432E.e.68455\")>,\n",
       " <selenium.webdriver.remote.webelement.WebElement (session=\"74882ce27eb59c09f7ef04ae4b253733\", element=\"f.34BC102A7BCC52E05EC0F1B4C8A0CD4D.d.85D4446145E42531134957E873F4432E.e.68463\")>,\n",
       " <selenium.webdriver.remote.webelement.WebElement (session=\"74882ce27eb59c09f7ef04ae4b253733\", element=\"f.34BC102A7BCC52E05EC0F1B4C8A0CD4D.d.85D4446145E42531134957E873F4432E.e.68471\")>,\n",
       " <selenium.webdriver.remote.webelement.WebElement (session=\"74882ce27eb59c09f7ef04ae4b253733\", element=\"f.34BC102A7BCC52E05EC0F1B4C8A0CD4D.d.85D4446145E42531134957E873F4432E.e.68479\")>,\n",
       " <selenium.webdriver.remote.webelement.WebElement (session=\"74882ce27eb59c09f7ef04ae4b253733\", element=\"f.34BC102A7BCC52E05EC0F1B4C8A0CD4D.d.85D4446145E42531134957E873F4432E.e.68487\")>,\n",
       " <selenium.webdriver.remote.webelement.WebElement (session=\"74882ce27eb59c09f7ef04ae4b253733\", element=\"f.34BC102A7BCC52E05EC0F1B4C8A0CD4D.d.85D4446145E42531134957E873F4432E.e.68495\")>,\n",
       " <selenium.webdriver.remote.webelement.WebElement (session=\"74882ce27eb59c09f7ef04ae4b253733\", element=\"f.34BC102A7BCC52E05EC0F1B4C8A0CD4D.d.85D4446145E42531134957E873F4432E.e.68503\")>,\n",
       " <selenium.webdriver.remote.webelement.WebElement (session=\"74882ce27eb59c09f7ef04ae4b253733\", element=\"f.34BC102A7BCC52E05EC0F1B4C8A0CD4D.d.85D4446145E42531134957E873F4432E.e.68511\")>,\n",
       " <selenium.webdriver.remote.webelement.WebElement (session=\"74882ce27eb59c09f7ef04ae4b253733\", element=\"f.34BC102A7BCC52E05EC0F1B4C8A0CD4D.d.85D4446145E42531134957E873F4432E.e.68519\")>,\n",
       " <selenium.webdriver.remote.webelement.WebElement (session=\"74882ce27eb59c09f7ef04ae4b253733\", element=\"f.34BC102A7BCC52E05EC0F1B4C8A0CD4D.d.85D4446145E42531134957E873F4432E.e.68527\")>,\n",
       " <selenium.webdriver.remote.webelement.WebElement (session=\"74882ce27eb59c09f7ef04ae4b253733\", element=\"f.34BC102A7BCC52E05EC0F1B4C8A0CD4D.d.85D4446145E42531134957E873F4432E.e.68535\")>,\n",
       " <selenium.webdriver.remote.webelement.WebElement (session=\"74882ce27eb59c09f7ef04ae4b253733\", element=\"f.34BC102A7BCC52E05EC0F1B4C8A0CD4D.d.85D4446145E42531134957E873F4432E.e.68543\")>,\n",
       " <selenium.webdriver.remote.webelement.WebElement (session=\"74882ce27eb59c09f7ef04ae4b253733\", element=\"f.34BC102A7BCC52E05EC0F1B4C8A0CD4D.d.85D4446145E42531134957E873F4432E.e.68551\")>,\n",
       " <selenium.webdriver.remote.webelement.WebElement (session=\"74882ce27eb59c09f7ef04ae4b253733\", element=\"f.34BC102A7BCC52E05EC0F1B4C8A0CD4D.d.85D4446145E42531134957E873F4432E.e.68559\")>,\n",
       " <selenium.webdriver.remote.webelement.WebElement (session=\"74882ce27eb59c09f7ef04ae4b253733\", element=\"f.34BC102A7BCC52E05EC0F1B4C8A0CD4D.d.85D4446145E42531134957E873F4432E.e.68567\")>,\n",
       " <selenium.webdriver.remote.webelement.WebElement (session=\"74882ce27eb59c09f7ef04ae4b253733\", element=\"f.34BC102A7BCC52E05EC0F1B4C8A0CD4D.d.85D4446145E42531134957E873F4432E.e.68575\")>,\n",
       " <selenium.webdriver.remote.webelement.WebElement (session=\"74882ce27eb59c09f7ef04ae4b253733\", element=\"f.34BC102A7BCC52E05EC0F1B4C8A0CD4D.d.85D4446145E42531134957E873F4432E.e.68583\")>,\n",
       " <selenium.webdriver.remote.webelement.WebElement (session=\"74882ce27eb59c09f7ef04ae4b253733\", element=\"f.34BC102A7BCC52E05EC0F1B4C8A0CD4D.d.85D4446145E42531134957E873F4432E.e.68591\")>,\n",
       " <selenium.webdriver.remote.webelement.WebElement (session=\"74882ce27eb59c09f7ef04ae4b253733\", element=\"f.34BC102A7BCC52E05EC0F1B4C8A0CD4D.d.85D4446145E42531134957E873F4432E.e.68599\")>,\n",
       " <selenium.webdriver.remote.webelement.WebElement (session=\"74882ce27eb59c09f7ef04ae4b253733\", element=\"f.34BC102A7BCC52E05EC0F1B4C8A0CD4D.d.85D4446145E42531134957E873F4432E.e.68607\")>,\n",
       " <selenium.webdriver.remote.webelement.WebElement (session=\"74882ce27eb59c09f7ef04ae4b253733\", element=\"f.34BC102A7BCC52E05EC0F1B4C8A0CD4D.d.85D4446145E42531134957E873F4432E.e.68615\")>,\n",
       " <selenium.webdriver.remote.webelement.WebElement (session=\"74882ce27eb59c09f7ef04ae4b253733\", element=\"f.34BC102A7BCC52E05EC0F1B4C8A0CD4D.d.85D4446145E42531134957E873F4432E.e.68623\")>,\n",
       " <selenium.webdriver.remote.webelement.WebElement (session=\"74882ce27eb59c09f7ef04ae4b253733\", element=\"f.34BC102A7BCC52E05EC0F1B4C8A0CD4D.d.85D4446145E42531134957E873F4432E.e.68631\")>,\n",
       " <selenium.webdriver.remote.webelement.WebElement (session=\"74882ce27eb59c09f7ef04ae4b253733\", element=\"f.34BC102A7BCC52E05EC0F1B4C8A0CD4D.d.85D4446145E42531134957E873F4432E.e.68639\")>,\n",
       " <selenium.webdriver.remote.webelement.WebElement (session=\"74882ce27eb59c09f7ef04ae4b253733\", element=\"f.34BC102A7BCC52E05EC0F1B4C8A0CD4D.d.85D4446145E42531134957E873F4432E.e.68647\")>,\n",
       " <selenium.webdriver.remote.webelement.WebElement (session=\"74882ce27eb59c09f7ef04ae4b253733\", element=\"f.34BC102A7BCC52E05EC0F1B4C8A0CD4D.d.85D4446145E42531134957E873F4432E.e.68655\")>,\n",
       " <selenium.webdriver.remote.webelement.WebElement (session=\"74882ce27eb59c09f7ef04ae4b253733\", element=\"f.34BC102A7BCC52E05EC0F1B4C8A0CD4D.d.85D4446145E42531134957E873F4432E.e.68663\")>,\n",
       " <selenium.webdriver.remote.webelement.WebElement (session=\"74882ce27eb59c09f7ef04ae4b253733\", element=\"f.34BC102A7BCC52E05EC0F1B4C8A0CD4D.d.85D4446145E42531134957E873F4432E.e.68671\")>,\n",
       " <selenium.webdriver.remote.webelement.WebElement (session=\"74882ce27eb59c09f7ef04ae4b253733\", element=\"f.34BC102A7BCC52E05EC0F1B4C8A0CD4D.d.85D4446145E42531134957E873F4432E.e.68679\")>,\n",
       " <selenium.webdriver.remote.webelement.WebElement (session=\"74882ce27eb59c09f7ef04ae4b253733\", element=\"f.34BC102A7BCC52E05EC0F1B4C8A0CD4D.d.85D4446145E42531134957E873F4432E.e.68687\")>,\n",
       " <selenium.webdriver.remote.webelement.WebElement (session=\"74882ce27eb59c09f7ef04ae4b253733\", element=\"f.34BC102A7BCC52E05EC0F1B4C8A0CD4D.d.85D4446145E42531134957E873F4432E.e.68695\")>,\n",
       " <selenium.webdriver.remote.webelement.WebElement (session=\"74882ce27eb59c09f7ef04ae4b253733\", element=\"f.34BC102A7BCC52E05EC0F1B4C8A0CD4D.d.85D4446145E42531134957E873F4432E.e.68703\")>,\n",
       " <selenium.webdriver.remote.webelement.WebElement (session=\"74882ce27eb59c09f7ef04ae4b253733\", element=\"f.34BC102A7BCC52E05EC0F1B4C8A0CD4D.d.85D4446145E42531134957E873F4432E.e.68711\")>,\n",
       " <selenium.webdriver.remote.webelement.WebElement (session=\"74882ce27eb59c09f7ef04ae4b253733\", element=\"f.34BC102A7BCC52E05EC0F1B4C8A0CD4D.d.85D4446145E42531134957E873F4432E.e.68719\")>,\n",
       " <selenium.webdriver.remote.webelement.WebElement (session=\"74882ce27eb59c09f7ef04ae4b253733\", element=\"f.34BC102A7BCC52E05EC0F1B4C8A0CD4D.d.85D4446145E42531134957E873F4432E.e.68727\")>,\n",
       " <selenium.webdriver.remote.webelement.WebElement (session=\"74882ce27eb59c09f7ef04ae4b253733\", element=\"f.34BC102A7BCC52E05EC0F1B4C8A0CD4D.d.85D4446145E42531134957E873F4432E.e.68735\")>,\n",
       " <selenium.webdriver.remote.webelement.WebElement (session=\"74882ce27eb59c09f7ef04ae4b253733\", element=\"f.34BC102A7BCC52E05EC0F1B4C8A0CD4D.d.85D4446145E42531134957E873F4432E.e.68743\")>,\n",
       " <selenium.webdriver.remote.webelement.WebElement (session=\"74882ce27eb59c09f7ef04ae4b253733\", element=\"f.34BC102A7BCC52E05EC0F1B4C8A0CD4D.d.85D4446145E42531134957E873F4432E.e.68751\")>,\n",
       " <selenium.webdriver.remote.webelement.WebElement (session=\"74882ce27eb59c09f7ef04ae4b253733\", element=\"f.34BC102A7BCC52E05EC0F1B4C8A0CD4D.d.85D4446145E42531134957E873F4432E.e.68759\")>,\n",
       " <selenium.webdriver.remote.webelement.WebElement (session=\"74882ce27eb59c09f7ef04ae4b253733\", element=\"f.34BC102A7BCC52E05EC0F1B4C8A0CD4D.d.85D4446145E42531134957E873F4432E.e.68767\")>,\n",
       " <selenium.webdriver.remote.webelement.WebElement (session=\"74882ce27eb59c09f7ef04ae4b253733\", element=\"f.34BC102A7BCC52E05EC0F1B4C8A0CD4D.d.85D4446145E42531134957E873F4432E.e.68775\")>,\n",
       " <selenium.webdriver.remote.webelement.WebElement (session=\"74882ce27eb59c09f7ef04ae4b253733\", element=\"f.34BC102A7BCC52E05EC0F1B4C8A0CD4D.d.85D4446145E42531134957E873F4432E.e.68783\")>,\n",
       " <selenium.webdriver.remote.webelement.WebElement (session=\"74882ce27eb59c09f7ef04ae4b253733\", element=\"f.34BC102A7BCC52E05EC0F1B4C8A0CD4D.d.85D4446145E42531134957E873F4432E.e.68791\")>,\n",
       " <selenium.webdriver.remote.webelement.WebElement (session=\"74882ce27eb59c09f7ef04ae4b253733\", element=\"f.34BC102A7BCC52E05EC0F1B4C8A0CD4D.d.85D4446145E42531134957E873F4432E.e.68799\")>,\n",
       " <selenium.webdriver.remote.webelement.WebElement (session=\"74882ce27eb59c09f7ef04ae4b253733\", element=\"f.34BC102A7BCC52E05EC0F1B4C8A0CD4D.d.85D4446145E42531134957E873F4432E.e.68807\")>,\n",
       " <selenium.webdriver.remote.webelement.WebElement (session=\"74882ce27eb59c09f7ef04ae4b253733\", element=\"f.34BC102A7BCC52E05EC0F1B4C8A0CD4D.d.85D4446145E42531134957E873F4432E.e.68815\")>,\n",
       " <selenium.webdriver.remote.webelement.WebElement (session=\"74882ce27eb59c09f7ef04ae4b253733\", element=\"f.34BC102A7BCC52E05EC0F1B4C8A0CD4D.d.85D4446145E42531134957E873F4432E.e.68823\")>,\n",
       " <selenium.webdriver.remote.webelement.WebElement (session=\"74882ce27eb59c09f7ef04ae4b253733\", element=\"f.34BC102A7BCC52E05EC0F1B4C8A0CD4D.d.85D4446145E42531134957E873F4432E.e.68831\")>,\n",
       " <selenium.webdriver.remote.webelement.WebElement (session=\"74882ce27eb59c09f7ef04ae4b253733\", element=\"f.34BC102A7BCC52E05EC0F1B4C8A0CD4D.d.85D4446145E42531134957E873F4432E.e.68839\")>,\n",
       " <selenium.webdriver.remote.webelement.WebElement (session=\"74882ce27eb59c09f7ef04ae4b253733\", element=\"f.34BC102A7BCC52E05EC0F1B4C8A0CD4D.d.85D4446145E42531134957E873F4432E.e.68847\")>,\n",
       " <selenium.webdriver.remote.webelement.WebElement (session=\"74882ce27eb59c09f7ef04ae4b253733\", element=\"f.34BC102A7BCC52E05EC0F1B4C8A0CD4D.d.85D4446145E42531134957E873F4432E.e.68855\")>,\n",
       " <selenium.webdriver.remote.webelement.WebElement (session=\"74882ce27eb59c09f7ef04ae4b253733\", element=\"f.34BC102A7BCC52E05EC0F1B4C8A0CD4D.d.85D4446145E42531134957E873F4432E.e.68863\")>,\n",
       " <selenium.webdriver.remote.webelement.WebElement (session=\"74882ce27eb59c09f7ef04ae4b253733\", element=\"f.34BC102A7BCC52E05EC0F1B4C8A0CD4D.d.85D4446145E42531134957E873F4432E.e.68871\")>,\n",
       " <selenium.webdriver.remote.webelement.WebElement (session=\"74882ce27eb59c09f7ef04ae4b253733\", element=\"f.34BC102A7BCC52E05EC0F1B4C8A0CD4D.d.85D4446145E42531134957E873F4432E.e.68879\")>,\n",
       " <selenium.webdriver.remote.webelement.WebElement (session=\"74882ce27eb59c09f7ef04ae4b253733\", element=\"f.34BC102A7BCC52E05EC0F1B4C8A0CD4D.d.85D4446145E42531134957E873F4432E.e.68887\")>,\n",
       " <selenium.webdriver.remote.webelement.WebElement (session=\"74882ce27eb59c09f7ef04ae4b253733\", element=\"f.34BC102A7BCC52E05EC0F1B4C8A0CD4D.d.85D4446145E42531134957E873F4432E.e.68895\")>,\n",
       " <selenium.webdriver.remote.webelement.WebElement (session=\"74882ce27eb59c09f7ef04ae4b253733\", element=\"f.34BC102A7BCC52E05EC0F1B4C8A0CD4D.d.85D4446145E42531134957E873F4432E.e.68903\")>,\n",
       " <selenium.webdriver.remote.webelement.WebElement (session=\"74882ce27eb59c09f7ef04ae4b253733\", element=\"f.34BC102A7BCC52E05EC0F1B4C8A0CD4D.d.85D4446145E42531134957E873F4432E.e.68911\")>,\n",
       " <selenium.webdriver.remote.webelement.WebElement (session=\"74882ce27eb59c09f7ef04ae4b253733\", element=\"f.34BC102A7BCC52E05EC0F1B4C8A0CD4D.d.85D4446145E42531134957E873F4432E.e.68919\")>,\n",
       " <selenium.webdriver.remote.webelement.WebElement (session=\"74882ce27eb59c09f7ef04ae4b253733\", element=\"f.34BC102A7BCC52E05EC0F1B4C8A0CD4D.d.85D4446145E42531134957E873F4432E.e.68927\")>,\n",
       " <selenium.webdriver.remote.webelement.WebElement (session=\"74882ce27eb59c09f7ef04ae4b253733\", element=\"f.34BC102A7BCC52E05EC0F1B4C8A0CD4D.d.85D4446145E42531134957E873F4432E.e.68935\")>,\n",
       " <selenium.webdriver.remote.webelement.WebElement (session=\"74882ce27eb59c09f7ef04ae4b253733\", element=\"f.34BC102A7BCC52E05EC0F1B4C8A0CD4D.d.85D4446145E42531134957E873F4432E.e.68943\")>,\n",
       " <selenium.webdriver.remote.webelement.WebElement (session=\"74882ce27eb59c09f7ef04ae4b253733\", element=\"f.34BC102A7BCC52E05EC0F1B4C8A0CD4D.d.85D4446145E42531134957E873F4432E.e.68951\")>,\n",
       " <selenium.webdriver.remote.webelement.WebElement (session=\"74882ce27eb59c09f7ef04ae4b253733\", element=\"f.34BC102A7BCC52E05EC0F1B4C8A0CD4D.d.85D4446145E42531134957E873F4432E.e.68959\")>,\n",
       " <selenium.webdriver.remote.webelement.WebElement (session=\"74882ce27eb59c09f7ef04ae4b253733\", element=\"f.34BC102A7BCC52E05EC0F1B4C8A0CD4D.d.85D4446145E42531134957E873F4432E.e.68967\")>,\n",
       " <selenium.webdriver.remote.webelement.WebElement (session=\"74882ce27eb59c09f7ef04ae4b253733\", element=\"f.34BC102A7BCC52E05EC0F1B4C8A0CD4D.d.85D4446145E42531134957E873F4432E.e.68975\")>,\n",
       " <selenium.webdriver.remote.webelement.WebElement (session=\"74882ce27eb59c09f7ef04ae4b253733\", element=\"f.34BC102A7BCC52E05EC0F1B4C8A0CD4D.d.85D4446145E42531134957E873F4432E.e.68983\")>,\n",
       " <selenium.webdriver.remote.webelement.WebElement (session=\"74882ce27eb59c09f7ef04ae4b253733\", element=\"f.34BC102A7BCC52E05EC0F1B4C8A0CD4D.d.85D4446145E42531134957E873F4432E.e.68991\")>,\n",
       " <selenium.webdriver.remote.webelement.WebElement (session=\"74882ce27eb59c09f7ef04ae4b253733\", element=\"f.34BC102A7BCC52E05EC0F1B4C8A0CD4D.d.85D4446145E42531134957E873F4432E.e.68999\")>,\n",
       " <selenium.webdriver.remote.webelement.WebElement (session=\"74882ce27eb59c09f7ef04ae4b253733\", element=\"f.34BC102A7BCC52E05EC0F1B4C8A0CD4D.d.85D4446145E42531134957E873F4432E.e.69007\")>,\n",
       " <selenium.webdriver.remote.webelement.WebElement (session=\"74882ce27eb59c09f7ef04ae4b253733\", element=\"f.34BC102A7BCC52E05EC0F1B4C8A0CD4D.d.85D4446145E42531134957E873F4432E.e.69015\")>,\n",
       " <selenium.webdriver.remote.webelement.WebElement (session=\"74882ce27eb59c09f7ef04ae4b253733\", element=\"f.34BC102A7BCC52E05EC0F1B4C8A0CD4D.d.85D4446145E42531134957E873F4432E.e.69023\")>,\n",
       " <selenium.webdriver.remote.webelement.WebElement (session=\"74882ce27eb59c09f7ef04ae4b253733\", element=\"f.34BC102A7BCC52E05EC0F1B4C8A0CD4D.d.85D4446145E42531134957E873F4432E.e.69031\")>,\n",
       " <selenium.webdriver.remote.webelement.WebElement (session=\"74882ce27eb59c09f7ef04ae4b253733\", element=\"f.34BC102A7BCC52E05EC0F1B4C8A0CD4D.d.85D4446145E42531134957E873F4432E.e.69039\")>,\n",
       " <selenium.webdriver.remote.webelement.WebElement (session=\"74882ce27eb59c09f7ef04ae4b253733\", element=\"f.34BC102A7BCC52E05EC0F1B4C8A0CD4D.d.85D4446145E42531134957E873F4432E.e.69047\")>,\n",
       " <selenium.webdriver.remote.webelement.WebElement (session=\"74882ce27eb59c09f7ef04ae4b253733\", element=\"f.34BC102A7BCC52E05EC0F1B4C8A0CD4D.d.85D4446145E42531134957E873F4432E.e.69055\")>,\n",
       " <selenium.webdriver.remote.webelement.WebElement (session=\"74882ce27eb59c09f7ef04ae4b253733\", element=\"f.34BC102A7BCC52E05EC0F1B4C8A0CD4D.d.85D4446145E42531134957E873F4432E.e.69063\")>,\n",
       " <selenium.webdriver.remote.webelement.WebElement (session=\"74882ce27eb59c09f7ef04ae4b253733\", element=\"f.34BC102A7BCC52E05EC0F1B4C8A0CD4D.d.85D4446145E42531134957E873F4432E.e.69071\")>,\n",
       " <selenium.webdriver.remote.webelement.WebElement (session=\"74882ce27eb59c09f7ef04ae4b253733\", element=\"f.34BC102A7BCC52E05EC0F1B4C8A0CD4D.d.85D4446145E42531134957E873F4432E.e.69079\")>,\n",
       " <selenium.webdriver.remote.webelement.WebElement (session=\"74882ce27eb59c09f7ef04ae4b253733\", element=\"f.34BC102A7BCC52E05EC0F1B4C8A0CD4D.d.85D4446145E42531134957E873F4432E.e.69087\")>,\n",
       " <selenium.webdriver.remote.webelement.WebElement (session=\"74882ce27eb59c09f7ef04ae4b253733\", element=\"f.34BC102A7BCC52E05EC0F1B4C8A0CD4D.d.85D4446145E42531134957E873F4432E.e.69095\")>,\n",
       " <selenium.webdriver.remote.webelement.WebElement (session=\"74882ce27eb59c09f7ef04ae4b253733\", element=\"f.34BC102A7BCC52E05EC0F1B4C8A0CD4D.d.85D4446145E42531134957E873F4432E.e.69103\")>,\n",
       " <selenium.webdriver.remote.webelement.WebElement (session=\"74882ce27eb59c09f7ef04ae4b253733\", element=\"f.34BC102A7BCC52E05EC0F1B4C8A0CD4D.d.85D4446145E42531134957E873F4432E.e.69111\")>,\n",
       " <selenium.webdriver.remote.webelement.WebElement (session=\"74882ce27eb59c09f7ef04ae4b253733\", element=\"f.34BC102A7BCC52E05EC0F1B4C8A0CD4D.d.85D4446145E42531134957E873F4432E.e.69119\")>,\n",
       " <selenium.webdriver.remote.webelement.WebElement (session=\"74882ce27eb59c09f7ef04ae4b253733\", element=\"f.34BC102A7BCC52E05EC0F1B4C8A0CD4D.d.85D4446145E42531134957E873F4432E.e.69127\")>,\n",
       " <selenium.webdriver.remote.webelement.WebElement (session=\"74882ce27eb59c09f7ef04ae4b253733\", element=\"f.34BC102A7BCC52E05EC0F1B4C8A0CD4D.d.85D4446145E42531134957E873F4432E.e.69135\")>,\n",
       " <selenium.webdriver.remote.webelement.WebElement (session=\"74882ce27eb59c09f7ef04ae4b253733\", element=\"f.34BC102A7BCC52E05EC0F1B4C8A0CD4D.d.85D4446145E42531134957E873F4432E.e.69143\")>,\n",
       " <selenium.webdriver.remote.webelement.WebElement (session=\"74882ce27eb59c09f7ef04ae4b253733\", element=\"f.34BC102A7BCC52E05EC0F1B4C8A0CD4D.d.85D4446145E42531134957E873F4432E.e.69151\")>,\n",
       " <selenium.webdriver.remote.webelement.WebElement (session=\"74882ce27eb59c09f7ef04ae4b253733\", element=\"f.34BC102A7BCC52E05EC0F1B4C8A0CD4D.d.85D4446145E42531134957E873F4432E.e.69159\")>,\n",
       " <selenium.webdriver.remote.webelement.WebElement (session=\"74882ce27eb59c09f7ef04ae4b253733\", element=\"f.34BC102A7BCC52E05EC0F1B4C8A0CD4D.d.85D4446145E42531134957E873F4432E.e.69167\")>,\n",
       " <selenium.webdriver.remote.webelement.WebElement (session=\"74882ce27eb59c09f7ef04ae4b253733\", element=\"f.34BC102A7BCC52E05EC0F1B4C8A0CD4D.d.85D4446145E42531134957E873F4432E.e.69175\")>,\n",
       " <selenium.webdriver.remote.webelement.WebElement (session=\"74882ce27eb59c09f7ef04ae4b253733\", element=\"f.34BC102A7BCC52E05EC0F1B4C8A0CD4D.d.85D4446145E42531134957E873F4432E.e.69183\")>,\n",
       " <selenium.webdriver.remote.webelement.WebElement (session=\"74882ce27eb59c09f7ef04ae4b253733\", element=\"f.34BC102A7BCC52E05EC0F1B4C8A0CD4D.d.85D4446145E42531134957E873F4432E.e.69191\")>,\n",
       " <selenium.webdriver.remote.webelement.WebElement (session=\"74882ce27eb59c09f7ef04ae4b253733\", element=\"f.34BC102A7BCC52E05EC0F1B4C8A0CD4D.d.85D4446145E42531134957E873F4432E.e.69199\")>,\n",
       " <selenium.webdriver.remote.webelement.WebElement (session=\"74882ce27eb59c09f7ef04ae4b253733\", element=\"f.34BC102A7BCC52E05EC0F1B4C8A0CD4D.d.85D4446145E42531134957E873F4432E.e.69207\")>,\n",
       " <selenium.webdriver.remote.webelement.WebElement (session=\"74882ce27eb59c09f7ef04ae4b253733\", element=\"f.34BC102A7BCC52E05EC0F1B4C8A0CD4D.d.85D4446145E42531134957E873F4432E.e.69215\")>,\n",
       " <selenium.webdriver.remote.webelement.WebElement (session=\"74882ce27eb59c09f7ef04ae4b253733\", element=\"f.34BC102A7BCC52E05EC0F1B4C8A0CD4D.d.85D4446145E42531134957E873F4432E.e.69223\")>,\n",
       " <selenium.webdriver.remote.webelement.WebElement (session=\"74882ce27eb59c09f7ef04ae4b253733\", element=\"f.34BC102A7BCC52E05EC0F1B4C8A0CD4D.d.85D4446145E42531134957E873F4432E.e.69231\")>,\n",
       " <selenium.webdriver.remote.webelement.WebElement (session=\"74882ce27eb59c09f7ef04ae4b253733\", element=\"f.34BC102A7BCC52E05EC0F1B4C8A0CD4D.d.85D4446145E42531134957E873F4432E.e.69239\")>,\n",
       " <selenium.webdriver.remote.webelement.WebElement (session=\"74882ce27eb59c09f7ef04ae4b253733\", element=\"f.34BC102A7BCC52E05EC0F1B4C8A0CD4D.d.85D4446145E42531134957E873F4432E.e.69247\")>,\n",
       " <selenium.webdriver.remote.webelement.WebElement (session=\"74882ce27eb59c09f7ef04ae4b253733\", element=\"f.34BC102A7BCC52E05EC0F1B4C8A0CD4D.d.85D4446145E42531134957E873F4432E.e.69255\")>,\n",
       " <selenium.webdriver.remote.webelement.WebElement (session=\"74882ce27eb59c09f7ef04ae4b253733\", element=\"f.34BC102A7BCC52E05EC0F1B4C8A0CD4D.d.85D4446145E42531134957E873F4432E.e.69263\")>,\n",
       " <selenium.webdriver.remote.webelement.WebElement (session=\"74882ce27eb59c09f7ef04ae4b253733\", element=\"f.34BC102A7BCC52E05EC0F1B4C8A0CD4D.d.85D4446145E42531134957E873F4432E.e.69271\")>,\n",
       " <selenium.webdriver.remote.webelement.WebElement (session=\"74882ce27eb59c09f7ef04ae4b253733\", element=\"f.34BC102A7BCC52E05EC0F1B4C8A0CD4D.d.85D4446145E42531134957E873F4432E.e.69279\")>,\n",
       " <selenium.webdriver.remote.webelement.WebElement (session=\"74882ce27eb59c09f7ef04ae4b253733\", element=\"f.34BC102A7BCC52E05EC0F1B4C8A0CD4D.d.85D4446145E42531134957E873F4432E.e.69287\")>,\n",
       " <selenium.webdriver.remote.webelement.WebElement (session=\"74882ce27eb59c09f7ef04ae4b253733\", element=\"f.34BC102A7BCC52E05EC0F1B4C8A0CD4D.d.85D4446145E42531134957E873F4432E.e.69295\")>,\n",
       " <selenium.webdriver.remote.webelement.WebElement (session=\"74882ce27eb59c09f7ef04ae4b253733\", element=\"f.34BC102A7BCC52E05EC0F1B4C8A0CD4D.d.85D4446145E42531134957E873F4432E.e.69303\")>,\n",
       " <selenium.webdriver.remote.webelement.WebElement (session=\"74882ce27eb59c09f7ef04ae4b253733\", element=\"f.34BC102A7BCC52E05EC0F1B4C8A0CD4D.d.85D4446145E42531134957E873F4432E.e.69311\")>,\n",
       " <selenium.webdriver.remote.webelement.WebElement (session=\"74882ce27eb59c09f7ef04ae4b253733\", element=\"f.34BC102A7BCC52E05EC0F1B4C8A0CD4D.d.85D4446145E42531134957E873F4432E.e.69319\")>,\n",
       " <selenium.webdriver.remote.webelement.WebElement (session=\"74882ce27eb59c09f7ef04ae4b253733\", element=\"f.34BC102A7BCC52E05EC0F1B4C8A0CD4D.d.85D4446145E42531134957E873F4432E.e.69327\")>,\n",
       " <selenium.webdriver.remote.webelement.WebElement (session=\"74882ce27eb59c09f7ef04ae4b253733\", element=\"f.34BC102A7BCC52E05EC0F1B4C8A0CD4D.d.85D4446145E42531134957E873F4432E.e.69335\")>,\n",
       " <selenium.webdriver.remote.webelement.WebElement (session=\"74882ce27eb59c09f7ef04ae4b253733\", element=\"f.34BC102A7BCC52E05EC0F1B4C8A0CD4D.d.85D4446145E42531134957E873F4432E.e.69343\")>,\n",
       " <selenium.webdriver.remote.webelement.WebElement (session=\"74882ce27eb59c09f7ef04ae4b253733\", element=\"f.34BC102A7BCC52E05EC0F1B4C8A0CD4D.d.85D4446145E42531134957E873F4432E.e.69351\")>,\n",
       " <selenium.webdriver.remote.webelement.WebElement (session=\"74882ce27eb59c09f7ef04ae4b253733\", element=\"f.34BC102A7BCC52E05EC0F1B4C8A0CD4D.d.85D4446145E42531134957E873F4432E.e.69359\")>,\n",
       " <selenium.webdriver.remote.webelement.WebElement (session=\"74882ce27eb59c09f7ef04ae4b253733\", element=\"f.34BC102A7BCC52E05EC0F1B4C8A0CD4D.d.85D4446145E42531134957E873F4432E.e.69367\")>,\n",
       " <selenium.webdriver.remote.webelement.WebElement (session=\"74882ce27eb59c09f7ef04ae4b253733\", element=\"f.34BC102A7BCC52E05EC0F1B4C8A0CD4D.d.85D4446145E42531134957E873F4432E.e.69375\")>,\n",
       " <selenium.webdriver.remote.webelement.WebElement (session=\"74882ce27eb59c09f7ef04ae4b253733\", element=\"f.34BC102A7BCC52E05EC0F1B4C8A0CD4D.d.85D4446145E42531134957E873F4432E.e.69383\")>,\n",
       " <selenium.webdriver.remote.webelement.WebElement (session=\"74882ce27eb59c09f7ef04ae4b253733\", element=\"f.34BC102A7BCC52E05EC0F1B4C8A0CD4D.d.85D4446145E42531134957E873F4432E.e.69391\")>,\n",
       " <selenium.webdriver.remote.webelement.WebElement (session=\"74882ce27eb59c09f7ef04ae4b253733\", element=\"f.34BC102A7BCC52E05EC0F1B4C8A0CD4D.d.85D4446145E42531134957E873F4432E.e.69399\")>,\n",
       " <selenium.webdriver.remote.webelement.WebElement (session=\"74882ce27eb59c09f7ef04ae4b253733\", element=\"f.34BC102A7BCC52E05EC0F1B4C8A0CD4D.d.85D4446145E42531134957E873F4432E.e.69407\")>,\n",
       " <selenium.webdriver.remote.webelement.WebElement (session=\"74882ce27eb59c09f7ef04ae4b253733\", element=\"f.34BC102A7BCC52E05EC0F1B4C8A0CD4D.d.85D4446145E42531134957E873F4432E.e.69415\")>,\n",
       " <selenium.webdriver.remote.webelement.WebElement (session=\"74882ce27eb59c09f7ef04ae4b253733\", element=\"f.34BC102A7BCC52E05EC0F1B4C8A0CD4D.d.85D4446145E42531134957E873F4432E.e.69423\")>,\n",
       " <selenium.webdriver.remote.webelement.WebElement (session=\"74882ce27eb59c09f7ef04ae4b253733\", element=\"f.34BC102A7BCC52E05EC0F1B4C8A0CD4D.d.85D4446145E42531134957E873F4432E.e.69431\")>,\n",
       " <selenium.webdriver.remote.webelement.WebElement (session=\"74882ce27eb59c09f7ef04ae4b253733\", element=\"f.34BC102A7BCC52E05EC0F1B4C8A0CD4D.d.85D4446145E42531134957E873F4432E.e.69439\")>,\n",
       " <selenium.webdriver.remote.webelement.WebElement (session=\"74882ce27eb59c09f7ef04ae4b253733\", element=\"f.34BC102A7BCC52E05EC0F1B4C8A0CD4D.d.85D4446145E42531134957E873F4432E.e.69447\")>,\n",
       " <selenium.webdriver.remote.webelement.WebElement (session=\"74882ce27eb59c09f7ef04ae4b253733\", element=\"f.34BC102A7BCC52E05EC0F1B4C8A0CD4D.d.85D4446145E42531134957E873F4432E.e.69455\")>,\n",
       " <selenium.webdriver.remote.webelement.WebElement (session=\"74882ce27eb59c09f7ef04ae4b253733\", element=\"f.34BC102A7BCC52E05EC0F1B4C8A0CD4D.d.85D4446145E42531134957E873F4432E.e.69463\")>,\n",
       " <selenium.webdriver.remote.webelement.WebElement (session=\"74882ce27eb59c09f7ef04ae4b253733\", element=\"f.34BC102A7BCC52E05EC0F1B4C8A0CD4D.d.85D4446145E42531134957E873F4432E.e.69471\")>,\n",
       " <selenium.webdriver.remote.webelement.WebElement (session=\"74882ce27eb59c09f7ef04ae4b253733\", element=\"f.34BC102A7BCC52E05EC0F1B4C8A0CD4D.d.85D4446145E42531134957E873F4432E.e.69479\")>,\n",
       " <selenium.webdriver.remote.webelement.WebElement (session=\"74882ce27eb59c09f7ef04ae4b253733\", element=\"f.34BC102A7BCC52E05EC0F1B4C8A0CD4D.d.85D4446145E42531134957E873F4432E.e.69487\")>,\n",
       " <selenium.webdriver.remote.webelement.WebElement (session=\"74882ce27eb59c09f7ef04ae4b253733\", element=\"f.34BC102A7BCC52E05EC0F1B4C8A0CD4D.d.85D4446145E42531134957E873F4432E.e.69495\")>,\n",
       " <selenium.webdriver.remote.webelement.WebElement (session=\"74882ce27eb59c09f7ef04ae4b253733\", element=\"f.34BC102A7BCC52E05EC0F1B4C8A0CD4D.d.85D4446145E42531134957E873F4432E.e.69503\")>,\n",
       " <selenium.webdriver.remote.webelement.WebElement (session=\"74882ce27eb59c09f7ef04ae4b253733\", element=\"f.34BC102A7BCC52E05EC0F1B4C8A0CD4D.d.85D4446145E42531134957E873F4432E.e.69511\")>,\n",
       " <selenium.webdriver.remote.webelement.WebElement (session=\"74882ce27eb59c09f7ef04ae4b253733\", element=\"f.34BC102A7BCC52E05EC0F1B4C8A0CD4D.d.85D4446145E42531134957E873F4432E.e.69519\")>,\n",
       " <selenium.webdriver.remote.webelement.WebElement (session=\"74882ce27eb59c09f7ef04ae4b253733\", element=\"f.34BC102A7BCC52E05EC0F1B4C8A0CD4D.d.85D4446145E42531134957E873F4432E.e.69527\")>,\n",
       " <selenium.webdriver.remote.webelement.WebElement (session=\"74882ce27eb59c09f7ef04ae4b253733\", element=\"f.34BC102A7BCC52E05EC0F1B4C8A0CD4D.d.85D4446145E42531134957E873F4432E.e.69535\")>,\n",
       " <selenium.webdriver.remote.webelement.WebElement (session=\"74882ce27eb59c09f7ef04ae4b253733\", element=\"f.34BC102A7BCC52E05EC0F1B4C8A0CD4D.d.85D4446145E42531134957E873F4432E.e.69543\")>,\n",
       " <selenium.webdriver.remote.webelement.WebElement (session=\"74882ce27eb59c09f7ef04ae4b253733\", element=\"f.34BC102A7BCC52E05EC0F1B4C8A0CD4D.d.85D4446145E42531134957E873F4432E.e.69551\")>,\n",
       " <selenium.webdriver.remote.webelement.WebElement (session=\"74882ce27eb59c09f7ef04ae4b253733\", element=\"f.34BC102A7BCC52E05EC0F1B4C8A0CD4D.d.85D4446145E42531134957E873F4432E.e.69559\")>,\n",
       " <selenium.webdriver.remote.webelement.WebElement (session=\"74882ce27eb59c09f7ef04ae4b253733\", element=\"f.34BC102A7BCC52E05EC0F1B4C8A0CD4D.d.85D4446145E42531134957E873F4432E.e.69567\")>,\n",
       " <selenium.webdriver.remote.webelement.WebElement (session=\"74882ce27eb59c09f7ef04ae4b253733\", element=\"f.34BC102A7BCC52E05EC0F1B4C8A0CD4D.d.85D4446145E42531134957E873F4432E.e.69575\")>,\n",
       " <selenium.webdriver.remote.webelement.WebElement (session=\"74882ce27eb59c09f7ef04ae4b253733\", element=\"f.34BC102A7BCC52E05EC0F1B4C8A0CD4D.d.85D4446145E42531134957E873F4432E.e.69583\")>,\n",
       " <selenium.webdriver.remote.webelement.WebElement (session=\"74882ce27eb59c09f7ef04ae4b253733\", element=\"f.34BC102A7BCC52E05EC0F1B4C8A0CD4D.d.85D4446145E42531134957E873F4432E.e.69591\")>,\n",
       " <selenium.webdriver.remote.webelement.WebElement (session=\"74882ce27eb59c09f7ef04ae4b253733\", element=\"f.34BC102A7BCC52E05EC0F1B4C8A0CD4D.d.85D4446145E42531134957E873F4432E.e.69599\")>,\n",
       " <selenium.webdriver.remote.webelement.WebElement (session=\"74882ce27eb59c09f7ef04ae4b253733\", element=\"f.34BC102A7BCC52E05EC0F1B4C8A0CD4D.d.85D4446145E42531134957E873F4432E.e.69607\")>,\n",
       " <selenium.webdriver.remote.webelement.WebElement (session=\"74882ce27eb59c09f7ef04ae4b253733\", element=\"f.34BC102A7BCC52E05EC0F1B4C8A0CD4D.d.85D4446145E42531134957E873F4432E.e.69615\")>,\n",
       " <selenium.webdriver.remote.webelement.WebElement (session=\"74882ce27eb59c09f7ef04ae4b253733\", element=\"f.34BC102A7BCC52E05EC0F1B4C8A0CD4D.d.85D4446145E42531134957E873F4432E.e.69623\")>,\n",
       " <selenium.webdriver.remote.webelement.WebElement (session=\"74882ce27eb59c09f7ef04ae4b253733\", element=\"f.34BC102A7BCC52E05EC0F1B4C8A0CD4D.d.85D4446145E42531134957E873F4432E.e.69631\")>,\n",
       " <selenium.webdriver.remote.webelement.WebElement (session=\"74882ce27eb59c09f7ef04ae4b253733\", element=\"f.34BC102A7BCC52E05EC0F1B4C8A0CD4D.d.85D4446145E42531134957E873F4432E.e.69639\")>,\n",
       " <selenium.webdriver.remote.webelement.WebElement (session=\"74882ce27eb59c09f7ef04ae4b253733\", element=\"f.34BC102A7BCC52E05EC0F1B4C8A0CD4D.d.85D4446145E42531134957E873F4432E.e.69647\")>,\n",
       " <selenium.webdriver.remote.webelement.WebElement (session=\"74882ce27eb59c09f7ef04ae4b253733\", element=\"f.34BC102A7BCC52E05EC0F1B4C8A0CD4D.d.85D4446145E42531134957E873F4432E.e.69655\")>,\n",
       " <selenium.webdriver.remote.webelement.WebElement (session=\"74882ce27eb59c09f7ef04ae4b253733\", element=\"f.34BC102A7BCC52E05EC0F1B4C8A0CD4D.d.85D4446145E42531134957E873F4432E.e.69663\")>,\n",
       " <selenium.webdriver.remote.webelement.WebElement (session=\"74882ce27eb59c09f7ef04ae4b253733\", element=\"f.34BC102A7BCC52E05EC0F1B4C8A0CD4D.d.85D4446145E42531134957E873F4432E.e.69671\")>,\n",
       " <selenium.webdriver.remote.webelement.WebElement (session=\"74882ce27eb59c09f7ef04ae4b253733\", element=\"f.34BC102A7BCC52E05EC0F1B4C8A0CD4D.d.85D4446145E42531134957E873F4432E.e.69679\")>,\n",
       " <selenium.webdriver.remote.webelement.WebElement (session=\"74882ce27eb59c09f7ef04ae4b253733\", element=\"f.34BC102A7BCC52E05EC0F1B4C8A0CD4D.d.85D4446145E42531134957E873F4432E.e.69687\")>,\n",
       " <selenium.webdriver.remote.webelement.WebElement (session=\"74882ce27eb59c09f7ef04ae4b253733\", element=\"f.34BC102A7BCC52E05EC0F1B4C8A0CD4D.d.85D4446145E42531134957E873F4432E.e.69695\")>,\n",
       " <selenium.webdriver.remote.webelement.WebElement (session=\"74882ce27eb59c09f7ef04ae4b253733\", element=\"f.34BC102A7BCC52E05EC0F1B4C8A0CD4D.d.85D4446145E42531134957E873F4432E.e.69703\")>,\n",
       " <selenium.webdriver.remote.webelement.WebElement (session=\"74882ce27eb59c09f7ef04ae4b253733\", element=\"f.34BC102A7BCC52E05EC0F1B4C8A0CD4D.d.85D4446145E42531134957E873F4432E.e.69711\")>,\n",
       " <selenium.webdriver.remote.webelement.WebElement (session=\"74882ce27eb59c09f7ef04ae4b253733\", element=\"f.34BC102A7BCC52E05EC0F1B4C8A0CD4D.d.85D4446145E42531134957E873F4432E.e.69719\")>,\n",
       " <selenium.webdriver.remote.webelement.WebElement (session=\"74882ce27eb59c09f7ef04ae4b253733\", element=\"f.34BC102A7BCC52E05EC0F1B4C8A0CD4D.d.85D4446145E42531134957E873F4432E.e.69727\")>,\n",
       " <selenium.webdriver.remote.webelement.WebElement (session=\"74882ce27eb59c09f7ef04ae4b253733\", element=\"f.34BC102A7BCC52E05EC0F1B4C8A0CD4D.d.85D4446145E42531134957E873F4432E.e.69735\")>,\n",
       " <selenium.webdriver.remote.webelement.WebElement (session=\"74882ce27eb59c09f7ef04ae4b253733\", element=\"f.34BC102A7BCC52E05EC0F1B4C8A0CD4D.d.85D4446145E42531134957E873F4432E.e.69743\")>,\n",
       " <selenium.webdriver.remote.webelement.WebElement (session=\"74882ce27eb59c09f7ef04ae4b253733\", element=\"f.34BC102A7BCC52E05EC0F1B4C8A0CD4D.d.85D4446145E42531134957E873F4432E.e.69751\")>]"
      ]
     },
     "execution_count": 55,
     "metadata": {},
     "output_type": "execute_result"
    }
   ],
   "execution_count": 55
  },
  {
   "metadata": {
    "ExecuteTime": {
     "end_time": "2024-11-01T09:45:57.089059Z",
     "start_time": "2024-11-01T09:45:38.868032Z"
    }
   },
   "cell_type": "code",
   "source": [
    "b_infos = []\n",
    "for b_row in bitcoin_rows:\n",
    "    b_cells = b_row.find_elements(By.CSS_SELECTOR, \"td\")\n",
    "    close = b_cells[4].text\n",
    "    volume = b_cells[6].text\n",
    "    b_info = {\"Close\":close, \"Volume\":volume}\n",
    "    b_infos.append(b_info)\n",
    "\n",
    "for b_info in b_infos:\n",
    "    print(b_info)"
   ],
   "outputs": [
    {
     "name": "stdout",
     "output_type": "stream",
     "text": [
      "{'Close': '69,438.94', 'Volume': '45,839,867,904'}\n",
      "{'Close': '70,215.19', 'Volume': '40,627,912,076'}\n",
      "{'Close': '72,339.54', 'Volume': '40,646,637,831'}\n",
      "{'Close': '72,720.49', 'Volume': '58,541,874,402'}\n",
      "{'Close': '69,907.76', 'Volume': '38,799,856,657'}\n",
      "{'Close': '67,929.30', 'Volume': '16,721,307,878'}\n",
      "{'Close': '67,014.70', 'Volume': '19,588,098,156'}\n",
      "{'Close': '66,642.41', 'Volume': '41,469,984,306'}\n",
      "{'Close': '68,161.05', 'Volume': '31,414,428,647'}\n",
      "{'Close': '66,432.20', 'Volume': '32,263,980,353'}\n",
      "{'Close': '67,361.41', 'Volume': '31,808,472,566'}\n",
      "{'Close': '67,367.85', 'Volume': '37,498,611,780'}\n",
      "{'Close': '69,001.70', 'Volume': '18,975,847,518'}\n",
      "{'Close': '68,362.73', 'Volume': '14,443,497,908'}\n",
      "{'Close': '68,418.79', 'Volume': '36,857,165,014'}\n",
      "{'Close': '67,399.84', 'Volume': '32,790,898,511'}\n",
      "{'Close': '67,612.72', 'Volume': '38,195,189,534'}\n",
      "{'Close': '67,041.11', 'Volume': '48,863,870,879'}\n",
      "{'Close': '66,046.13', 'Volume': '43,706,958,056'}\n",
      "{'Close': '62,851.38', 'Volume': '18,177,529,690'}\n",
      "{'Close': '63,193.02', 'Volume': '16,744,110,886'}\n",
      "{'Close': '62,445.09', 'Volume': '30,327,141,594'}\n",
      "{'Close': '60,274.50', 'Volume': '30,452,813,570'}\n",
      "{'Close': '60,582.10', 'Volume': '27,670,982,363'}\n",
      "{'Close': '62,131.97', 'Volume': '28,134,475,157'}\n",
      "{'Close': '62,236.66', 'Volume': '34,253,562,610'}\n",
      "{'Close': '62,818.95', 'Volume': '14,776,233,667'}\n",
      "{'Close': '62,089.95', 'Volume': '13,305,410,749'}\n",
      "{'Close': '62,067.48', 'Volume': '29,585,472,513'}\n",
      "{'Close': '60,759.40', 'Volume': '36,106,447,279'}\n",
      "{'Close': '60,632.79', 'Volume': '40,762,722,398'}\n",
      "{'Close': '60,837.01', 'Volume': '50,220,923,500'}\n",
      "{'Close': '63,329.50', 'Volume': '37,112,957,475'}\n",
      "{'Close': '65,635.30', 'Volume': '14,788,214,575'}\n",
      "{'Close': '65,887.65', 'Volume': '15,243,637,984'}\n",
      "{'Close': '65,790.66', 'Volume': '32,058,813,449'}\n",
      "{'Close': '65,181.02', 'Volume': '36,873,129,847'}\n",
      "{'Close': '63,143.14', 'Volume': '25,078,377,700'}\n",
      "{'Close': '64,301.97', 'Volume': '29,938,335,243'}\n",
      "{'Close': '63,329.80', 'Volume': '31,400,285,425'}\n",
      "{'Close': '63,648.71', 'Volume': '20,183,348,802'}\n",
      "{'Close': '63,394.84', 'Volume': '14,408,616,220'}\n",
      "{'Close': '63,192.98', 'Volume': '35,177,164,222'}\n",
      "{'Close': '62,940.46', 'Volume': '42,710,252,573'}\n",
      "{'Close': '61,649.68', 'Volume': '40,990,702,891'}\n",
      "{'Close': '60,308.54', 'Volume': '38,075,570,118'}\n",
      "{'Close': '58,192.51', 'Volume': '32,032,822,113'}\n",
      "{'Close': '59,182.84', 'Volume': '18,120,960,867'}\n",
      "{'Close': '60,005.12', 'Volume': '16,428,405,496'}\n",
      "{'Close': '60,571.30', 'Volume': '32,490,528,356'}\n",
      "{'Close': '58,127.01', 'Volume': '33,835,707,949'}\n",
      "{'Close': '57,343.17', 'Volume': '37,049,062,672'}\n",
      "{'Close': '57,648.71', 'Volume': '28,857,630,507'}\n",
      "{'Close': '57,019.54', 'Volume': '34,618,096,173'}\n",
      "{'Close': '54,841.57', 'Volume': '18,268,287,531'}\n",
      "{'Close': '54,139.69', 'Volume': '19,061,486,526'}\n",
      "{'Close': '53,948.75', 'Volume': '49,361,693,566'}\n",
      "{'Close': '56,160.49', 'Volume': '31,030,280,656'}\n",
      "{'Close': '57,971.54', 'Volume': '35,627,680,312'}\n",
      "{'Close': '57,431.02', 'Volume': '26,666,961,053'}\n",
      "{'Close': '59,112.48', 'Volume': '27,036,454,524'}\n",
      "{'Close': '57,325.49', 'Volume': '24,592,449,997'}\n",
      "{'Close': '58,969.90', 'Volume': '12,403,470,760'}\n",
      "{'Close': '59,119.48', 'Volume': '32,292,756,405'}\n",
      "{'Close': '59,388.18', 'Volume': '32,224,990,582'}\n",
      "{'Close': '59,027.63', 'Volume': '40,289,564,698'}\n",
      "{'Close': '59,504.13', 'Volume': '39,103,882,198'}\n",
      "{'Close': '62,880.66', 'Volume': '27,682,040,631'}\n",
      "{'Close': '64,333.54', 'Volume': '18,827,683,555'}\n",
      "{'Close': '64,178.99', 'Volume': '21,430,585,163'}\n",
      "{'Close': '64,094.36', 'Volume': '42,530,509,233'}\n",
      "{'Close': '60,381.91', 'Volume': '27,625,734,377'}\n",
      "{'Close': '61,175.19', 'Volume': '32,731,154,072'}\n",
      "{'Close': '59,012.79', 'Volume': '31,613,400,008'}\n",
      "{'Close': '59,493.45', 'Volume': '25,911,207,712'}\n",
      "{'Close': '58,483.96', 'Volume': '17,740,625,837'}\n",
      "{'Close': '59,478.97', 'Volume': '13,589,684,021'}\n",
      "{'Close': '58,894.11', 'Volume': '29,350,938,673'}\n",
      "{'Close': '57,560.10', 'Volume': '35,682,112,440'}\n",
      "{'Close': '58,737.27', 'Volume': '29,961,696,180'}\n",
      "{'Close': '60,609.57', 'Volume': '30,327,698,167'}\n",
      "{'Close': '59,354.52', 'Volume': '37,078,637,820'}\n",
      "{'Close': '58,719.48', 'Volume': '22,759,754,812'}\n",
      "{'Close': '60,945.81', 'Volume': '15,745,822,278'}\n",
      "{'Close': '60,880.11', 'Volume': '33,425,553,115'}\n",
      "{'Close': '61,710.14', 'Volume': '45,298,472,567'}\n",
      "{'Close': '55,027.46', 'Volume': '41,637,562,185'}\n",
      "{'Close': '56,034.32', 'Volume': '49,300,484,106'}\n",
      "{'Close': '53,991.46', 'Volume': '108,991,085,584'}\n",
      "{'Close': '58,116.98', 'Volume': '31,758,917,219'}\n",
      "{'Close': '60,680.09', 'Volume': '31,753,030,589'}\n",
      "{'Close': '61,415.07', 'Volume': '43,060,875,727'}\n",
      "{'Close': '65,357.50', 'Volume': '40,975,554,494'}\n",
      "{'Close': '64,619.25', 'Volume': '31,292,785,994'}\n",
      "{'Close': '66,201.02', 'Volume': '31,380,492,109'}\n",
      "{'Close': '66,819.91', 'Volume': '40,780,682,628'}\n",
      "{'Close': '68,255.87', 'Volume': '18,043,166,945'}\n",
      "{'Close': '67,813.34', 'Volume': '34,691,905,492'}\n",
      "{'Close': '67,912.06', 'Volume': '30,488,630,457'}\n",
      "{'Close': '65,777.23', 'Volume': '38,315,761,670'}\n",
      "{'Close': '65,372.13', 'Volume': '27,470,942,309'}\n",
      "{'Close': '65,927.67', 'Volume': '35,605,668,666'}\n",
      "{'Close': '67,585.25', 'Volume': '42,649,109,453'}\n",
      "{'Close': '68,154.52', 'Volume': '26,652,190,004'}\n",
      "{'Close': '67,163.65', 'Volume': '19,029,581,250'}\n",
      "{'Close': '66,710.16', 'Volume': '37,003,855,410'}\n",
      "{'Close': '63,974.07', 'Volume': '27,239,305,337'}\n",
      "{'Close': '64,118.79', 'Volume': '32,525,071,311'}\n",
      "{'Close': '65,097.15', 'Volume': '41,617,346,768'}\n",
      "{'Close': '64,870.15', 'Volume': '38,094,526,099'}\n",
      "{'Close': '60,787.79', 'Volume': '22,223,416,061'}\n",
      "{'Close': '59,231.95', 'Volume': '17,080,061,806'}\n",
      "{'Close': '57,899.46', 'Volume': '25,604,805,221'}\n",
      "{'Close': '57,344.91', 'Volume': '28,707,803,842'}\n",
      "{'Close': '57,742.50', 'Volume': '26,175,260,526'}\n",
      "{'Close': '58,009.23', 'Volume': '27,849,512,607'}\n",
      "{'Close': '56,705.10', 'Volume': '39,766,159,899'}\n",
      "{'Close': '55,849.11', 'Volume': '20,553,359,505'}\n",
      "{'Close': '58,303.54', 'Volume': '20,610,320,577'}\n",
      "{'Close': '56,662.38', 'Volume': '55,417,544,033'}\n",
      "{'Close': '56,977.70', 'Volume': '41,149,609,230'}\n",
      "{'Close': '60,173.92', 'Volume': '29,756,701,685'}\n",
      "{'Close': '62,029.02', 'Volume': '20,151,616,992'}\n",
      "{'Close': '62,851.98', 'Volume': '25,468,379,421'}\n",
      "{'Close': '62,678.29', 'Volume': '17,333,226,409'}\n",
      "{'Close': '60,887.38', 'Volume': '12,652,903,396'}\n",
      "{'Close': '60,320.14', 'Volume': '24,952,866,877'}\n",
      "{'Close': '61,604.80', 'Volume': '21,231,745,045'}\n",
      "{'Close': '60,811.28', 'Volume': '22,506,003,064'}\n",
      "{'Close': '61,804.64', 'Volume': '29,201,215,431'}\n",
      "{'Close': '60,277.41', 'Volume': '43,152,133,651'}\n",
      "{'Close': '63,180.80', 'Volume': '11,170,471,802'}\n",
      "{'Close': '64,252.58', 'Volume': '9,858,198,793'}\n",
      "{'Close': '64,096.20', 'Volume': '26,188,171,739'}\n",
      "{'Close': '64,828.66', 'Volume': '25,641,109,124'}\n",
      "{'Close': '64,960.30', 'Volume': '21,103,423,504'}\n",
      "{'Close': '65,140.75', 'Volume': '39,481,285,950'}\n",
      "{'Close': '66,490.30', 'Volume': '30,006,354,476'}\n",
      "{'Close': '66,639.05', 'Volume': '13,281,140,541'}\n",
      "{'Close': '66,191.00', 'Volume': '14,121,265,576'}\n",
      "{'Close': '66,011.09', 'Volume': '27,403,884,779'}\n",
      "{'Close': '66,756.40', 'Volume': '28,955,204,146'}\n",
      "{'Close': '68,241.19', 'Volume': '34,497,940,694'}\n",
      "{'Close': '67,332.03', 'Volume': '37,116,136,345'}\n",
      "{'Close': '69,512.28', 'Volume': '20,597,699,541'}\n",
      "{'Close': '69,647.99', 'Volume': '13,534,028,500'}\n",
      "{'Close': '69,305.77', 'Volume': '14,262,185,861'}\n",
      "{'Close': '69,342.59', 'Volume': '36,188,381,096'}\n",
      "{'Close': '70,757.16', 'Volume': '25,223,152,007'}\n",
      "{'Close': '71,082.82', 'Volume': '32,810,771,409'}\n",
      "{'Close': '70,567.77', 'Volume': '33,149,696,545'}\n",
      "{'Close': '68,804.78', 'Volume': '32,401,285,324'}\n",
      "{'Close': '67,751.60', 'Volume': '17,110,588,415'}\n",
      "{'Close': '67,706.94', 'Volume': '11,641,495,604'}\n",
      "{'Close': '67,491.41', 'Volume': '27,387,283,769'}\n",
      "{'Close': '68,364.99', 'Volume': '29,509,712,534'}\n",
      "{'Close': '67,578.09', 'Volume': '26,707,072,906'}\n",
      "{'Close': '68,296.22', 'Volume': '32,722,265,965'}\n",
      "{'Close': '69,394.55', 'Volume': '25,870,990,717'}\n",
      "{'Close': '68,518.09', 'Volume': '15,628,433,737'}\n",
      "{'Close': '69,265.95', 'Volume': '15,473,071,741'}\n",
      "{'Close': '68,526.10', 'Volume': '29,197,308,153'}\n",
      "{'Close': '67,929.56', 'Volume': '41,895,680,979'}\n",
      "{'Close': '69,122.34', 'Volume': '32,802,561,717'}\n",
      "{'Close': '70,136.53', 'Volume': '46,932,005,990'}\n",
      "{'Close': '71,448.20', 'Volume': '43,850,655,717'}\n",
      "{'Close': '66,278.37', 'Volume': '19,249,094,538'}\n",
      "{'Close': '66,940.80', 'Volume': '16,712,277,406'}\n",
      "{'Close': '67,051.88', 'Volume': '28,031,279,310'}\n",
      "{'Close': '65,231.58', 'Volume': '31,573,077,994'}\n",
      "{'Close': '66,267.49', 'Volume': '39,815,167,074'}\n",
      "{'Close': '61,552.79', 'Volume': '28,186,271,527'}\n",
      "{'Close': '62,901.45', 'Volume': '27,889,181,179'}\n",
      "{'Close': '61,448.39', 'Volume': '13,800,459,405'}\n",
      "{'Close': '60,793.71', 'Volume': '13,842,272,968'}\n",
      "{'Close': '60,792.78', 'Volume': '27,804,954,694'}\n",
      "{'Close': '63,049.96', 'Volume': '25,453,338,161'}\n",
      "{'Close': '61,187.94', 'Volume': '26,088,172,222'}\n",
      "{'Close': '62,334.82', 'Volume': '25,930,730,982'}\n",
      "{'Close': '63,161.95', 'Volume': '28,697,928,697'}\n",
      "{'Close': '64,031.13', 'Volume': '18,296,164,805'}\n",
      "{'Close': '63,891.47', 'Volume': '20,620,477,992'}\n",
      "{'Close': '62,889.84', 'Volume': '33,172,023,048'}\n",
      "{'Close': '59,123.43', 'Volume': '32,711,813,559'}\n",
      "{'Close': '58,254.01', 'Volume': '48,439,780,271'}\n",
      "{'Close': '60,636.86', 'Volume': '37,840,840,057'}\n",
      "{'Close': '63,841.12', 'Volume': '26,635,912,073'}\n",
      "{'Close': '63,113.23', 'Volume': '17,334,827,993'}\n",
      "{'Close': '63,419.14', 'Volume': '19,530,783,039'}\n",
      "{'Close': '63,755.32', 'Volume': '24,139,372,950'}\n",
      "{'Close': '64,481.71', 'Volume': '32,155,786,816'}\n",
      "{'Close': '64,276.90', 'Volume': '30,276,655,120'}\n",
      "{'Close': '66,407.27', 'Volume': '24,310,975,583'}\n",
      "{'Close': '66,837.68', 'Volume': '28,282,686,673'}\n",
      "{'Close': '64,926.64', 'Volume': '20,506,644,853'}\n",
      "{'Close': '64,994.44', 'Volume': '23,097,485,495'}\n",
      "{'Close': '63,843.57', 'Volume': '49,920,425,401'}\n",
      "{'Close': '63,512.75', 'Volume': '36,006,307,335'}\n",
      "{'Close': '61,276.69', 'Volume': '41,915,247,049'}\n",
      "{'Close': '63,811.86', 'Volume': '42,847,528,078'}\n",
      "{'Close': '63,426.21', 'Volume': '43,595,917,654'}\n",
      "{'Close': '65,738.73', 'Volume': '49,084,320,047'}\n",
      "{'Close': '63,821.47', 'Volume': '52,869,738,185'}\n",
      "{'Close': '67,195.87', 'Volume': '44,129,299,406'}\n",
      "{'Close': '70,060.61', 'Volume': '30,153,382,941'}\n",
      "{'Close': '70,587.88', 'Volume': '38,318,601,774'}\n",
      "{'Close': '69,139.02', 'Volume': '36,426,900,409'}\n",
      "{'Close': '71,631.36', 'Volume': '37,261,432,669'}\n",
      "{'Close': '69,362.55', 'Volume': '21,204,930,369'}\n",
      "{'Close': '68,896.11', 'Volume': '19,967,785,809'}\n",
      "{'Close': '67,837.64', 'Volume': '33,748,230,056'}\n",
      "{'Close': '68,508.84', 'Volume': '34,439,527,442'}\n",
      "{'Close': '65,980.81', 'Volume': '34,488,018,367'}\n",
      "{'Close': '65,446.97', 'Volume': '50,705,240,709'}\n",
      "{'Close': '69,702.15', 'Volume': '34,873,527,352'}\n",
      "{'Close': '71,333.65', 'Volume': '20,050,941,373'}\n",
      "{'Close': '69,645.30', 'Volume': '17,130,241,883'}\n",
      "{'Close': '69,892.83', 'Volume': '25,230,851,763'}\n",
      "{'Close': '70,744.95', 'Volume': '34,374,900,617'}\n",
      "{'Close': '69,455.34', 'Volume': '40,827,113,309'}\n",
      "{'Close': '69,987.84', 'Volume': '36,010,437,368'}\n",
      "{'Close': '69,958.81', 'Volume': '42,700,139,523'}\n",
      "{'Close': '67,234.17', 'Volume': '27,206,630,673'}\n",
      "{'Close': '64,062.20', 'Volume': '24,738,964,812'}\n",
      "{'Close': '63,778.76', 'Volume': '41,401,116,964'}\n",
      "{'Close': '65,491.39', 'Volume': '44,480,350,565'}\n",
      "{'Close': '67,913.67', 'Volume': '66,792,634,382'}\n",
      "{'Close': '61,912.77', 'Volume': '74,215,844,794'}\n",
      "{'Close': '67,548.59', 'Volume': '49,261,579,492'}\n",
      "{'Close': '68,390.63', 'Volume': '44,716,864,318'}\n",
      "{'Close': '65,315.12', 'Volume': '46,842,198,371'}\n",
      "{'Close': '69,403.77', 'Volume': '78,320,453,976'}\n",
      "{'Close': '71,396.59', 'Volume': '59,594,605,698'}\n",
      "{'Close': '73,083.50', 'Volume': '48,212,536,929'}\n",
      "{'Close': '71,481.29', 'Volume': '62,554,434,520'}\n",
      "{'Close': '72,123.91', 'Volume': '65,716,656,765'}\n",
      "{'Close': '69,019.79', 'Volume': '35,683,977,532'}\n",
      "{'Close': '68,498.88', 'Volume': '21,609,650,379'}\n",
      "{'Close': '68,300.09', 'Volume': '59,202,881,172'}\n",
      "{'Close': '66,925.48', 'Volume': '46,989,543,159'}\n",
      "{'Close': '66,106.80', 'Volume': '68,750,229,073'}\n",
      "{'Close': '63,801.20', 'Volume': '102,802,940,877'}\n",
      "{'Close': '68,330.41', 'Volume': '70,670,471,105'}\n",
      "{'Close': '63,167.37', 'Volume': '26,253,811,450'}\n",
      "{'Close': '62,029.85', 'Volume': '23,888,473,685'}\n",
      "{'Close': '62,440.63', 'Volume': '40,186,368,423'}\n",
      "{'Close': '61,198.38', 'Volume': '65,496,611,844'}\n",
      "{'Close': '62,504.79', 'Volume': '83,239,156,760'}\n",
      "{'Close': '57,085.37', 'Volume': '49,756,832,031'}\n",
      "{'Close': '54,522.40', 'Volume': '34,074,411,896'}\n",
      "{'Close': '51,733.24', 'Volume': '15,413,239,245'}\n",
      "{'Close': '51,571.10', 'Volume': '15,174,077,879'}\n",
      "{'Close': '50,731.95', 'Volume': '21,427,078,270'}\n",
      "{'Close': '51,304.97', 'Volume': '25,413,900,611'}\n",
      "{'Close': '51,839.18', 'Volume': '28,624,907,020'}\n",
      "{'Close': '52,284.88', 'Volume': '33,353,758,256'}\n",
      "{'Close': '51,779.14', 'Volume': '21,362,184,346'}\n",
      "{'Close': '52,122.55', 'Volume': '17,595,377,311'}\n",
      "{'Close': '51,663.00', 'Volume': '20,009,091,006'}\n",
      "{'Close': '52,160.20', 'Volume': '28,180,567,298'}\n",
      "{'Close': '51,938.55', 'Volume': '38,564,360,533'}\n",
      "{'Close': '51,826.70', 'Volume': '39,105,608,050'}\n",
      "{'Close': '49,742.44', 'Volume': '35,593,051,468'}\n",
      "{'Close': '49,958.22', 'Volume': '34,511,985,805'}\n",
      "{'Close': '48,293.92', 'Volume': '19,315,867,136'}\n",
      "{'Close': '47,771.28', 'Volume': '16,398,681,570'}\n",
      "{'Close': '47,147.20', 'Volume': '39,316,770,844'}\n",
      "{'Close': '45,301.57', 'Volume': '26,154,524,080'}\n",
      "{'Close': '44,318.22', 'Volume': '21,126,587,775'}\n",
      "{'Close': '43,084.67', 'Volume': '16,798,476,726'}\n",
      "{'Close': '42,658.67', 'Volume': '18,715,487,317'}\n",
      "{'Close': '42,583.58', 'Volume': '14,802,225,490'}\n",
      "{'Close': '42,992.25', 'Volume': '11,169,245,236'}\n",
      "{'Close': '43,185.86', 'Volume': '18,603,843,039'}\n",
      "{'Close': '43,075.77', 'Volume': '21,423,953,779'}\n",
      "{'Close': '42,582.61', 'Volume': '24,673,628,793'}\n",
      "{'Close': '42,952.61', 'Volume': '23,842,814,518'}\n",
      "{'Close': '43,288.25', 'Volume': '20,668,476,578'}\n",
      "{'Close': '42,035.59', 'Volume': '16,858,971,687'}\n",
      "{'Close': '42,120.05', 'Volume': '11,422,941,934'}\n",
      "{'Close': '41,816.87', 'Volume': '25,598,119,893'}\n",
      "{'Close': '39,933.81', 'Volume': '18,491,782,013'}\n",
      "{'Close': '40,077.07', 'Volume': '22,359,526,178'}\n",
      "{'Close': '39,845.55', 'Volume': '29,244,553,045'}\n",
      "{'Close': '39,507.37', 'Volume': '31,338,708,143'}\n",
      "{'Close': '41,545.79', 'Volume': '9,344,043,642'}\n",
      "{'Close': '41,665.59', 'Volume': '11,586,690,904'}\n",
      "{'Close': '41,618.41', 'Volume': '25,752,407,154'}\n",
      "{'Close': '41,262.06', 'Volume': '25,218,357,242'}\n",
      "{'Close': '42,742.65', 'Volume': '20,851,232,595'}\n",
      "{'Close': '43,154.95', 'Volume': '24,062,872,740'}\n",
      "{'Close': '42,511.97', 'Volume': '22,320,220,558'}\n",
      "{'Close': '41,796.27', 'Volume': '17,521,429,522'}\n",
      "{'Close': '42,842.38', 'Volume': '20,601,860,469'}\n",
      "{'Close': '42,853.17', 'Volume': '43,332,698,900'}\n",
      "{'Close': '46,368.59', 'Volume': '45,833,734,549'}\n",
      "{'Close': '46,627.78', 'Volume': '50,114,613,298'}\n",
      "{'Close': '46,139.73', 'Volume': '39,821,290,992'}\n",
      "{'Close': '46,970.50', 'Volume': '42,746,192,015'}\n",
      "{'Close': '43,943.10', 'Volume': '19,330,573,863'}\n",
      "{'Close': '43,989.20', 'Volume': '16,092,503,468'}\n",
      "{'Close': '44,162.69', 'Volume': '32,336,029,347'}\n",
      "{'Close': '44,179.92', 'Volume': '30,448,091,210'}\n",
      "{'Close': '42,848.18', 'Volume': '46,342,323,118'}\n",
      "{'Close': '44,957.97', 'Volume': '39,335,274,536'}\n",
      "{'Close': '44,167.33', 'Volume': '18,426,978,443'}\n",
      "{'Close': '42,265.19', 'Volume': '16,397,498,810'}\n",
      "{'Close': '42,156.90', 'Volume': '16,013,925,945'}\n",
      "{'Close': '42,099.40', 'Volume': '26,000,021,055'}\n",
      "{'Close': '42,627.86', 'Volume': '22,992,093,014'}\n",
      "{'Close': '43,442.86', 'Volume': '25,260,941,032'}\n",
      "{'Close': '42,520.40', 'Volume': '30,026,850,982'}\n",
      "{'Close': '43,613.14', 'Volume': '21,115,795,370'}\n",
      "{'Close': '43,016.12', 'Volume': '18,830,554,085'}\n",
      "{'Close': '43,739.54', 'Volume': '13,507,796,558'}\n",
      "{'Close': '43,997.90', 'Volume': '21,028,503,216'}\n",
      "{'Close': '43,869.15', 'Volume': '22,452,766,169'}\n",
      "{'Close': '43,652.25', 'Volume': '27,868,908,174'}\n",
      "{'Close': '42,270.53', 'Volume': '23,171,001,281'}\n",
      "{'Close': '42,623.54', 'Volume': '25,224,642,008'}\n",
      "{'Close': '41,364.66', 'Volume': '16,678,702,876'}\n",
      "{'Close': '42,240.12', 'Volume': '14,386,729,590'}\n",
      "{'Close': '41,929.76', 'Volume': '19,639,442,462'}\n",
      "{'Close': '43,023.97', 'Volume': '25,578,530,178'}\n",
      "{'Close': '42,890.74', 'Volume': '26,797,884,674'}\n",
      "{'Close': '41,450.22', 'Volume': '24,779,520,132'}\n",
      "{'Close': '41,243.83', 'Volume': '40,632,672,038'}\n",
      "{'Close': '43,779.70', 'Volume': '13,000,481,418'}\n",
      "{'Close': '43,725.98', 'Volume': '17,368,210,171'}\n",
      "{'Close': '44,166.60', 'Volume': '24,421,116,687'}\n",
      "{'Close': '43,292.66', 'Volume': '27,635,760,671'}\n",
      "{'Close': '43,746.45', 'Volume': '29,909,761,586'}\n",
      "{'Close': '44,080.65', 'Volume': '36,312,154,535'}\n",
      "{'Close': '41,980.10', 'Volume': '39,856,129,827'}\n",
      "{'Close': '39,978.39', 'Volume': '15,769,696,322'}\n",
      "{'Close': '39,476.33', 'Volume': '15,534,035,612'}\n",
      "{'Close': '38,688.75', 'Volume': '23,512,784,002'}\n",
      "{'Close': '37,712.75', 'Volume': '18,115,982,627'}\n",
      "{'Close': '37,858.49', 'Volume': '20,728,546,658'}\n",
      "{'Close': '37,831.09', 'Volume': '21,696,137,014'}\n",
      "{'Close': '37,254.17', 'Volume': '19,002,925,720'}\n",
      "{'Close': '37,479.12', 'Volume': '13,744,796,068'}\n",
      "{'Close': '37,796.79', 'Volume': '9,099,571,165'}\n",
      "{'Close': '37,720.28', 'Volume': '22,922,957,823'}\n",
      "{'Close': '37,289.62', 'Volume': '14,214,948,217'}\n",
      "{'Close': '37,432.34', 'Volume': '24,397,247,860'}\n",
      "{'Close': '35,813.81', 'Volume': '25,172,163,756'}\n",
      "{'Close': '37,476.96', 'Volume': '20,888,209,068'}\n",
      "{'Close': '37,386.55', 'Volume': '12,915,986,553'}\n",
      "{'Close': '36,585.70', 'Volume': '11,886,022,717'}\n",
      "{'Close': '36,596.68', 'Volume': '22,445,028,430'}\n",
      "{'Close': '36,154.77', 'Volume': '26,007,385,366'}\n",
      "{'Close': '37,880.58', 'Volume': '27,365,821,679'}\n",
      "{'Close': '35,537.64', 'Volume': '23,857,403,554'}\n",
      "{'Close': '36,502.36', 'Volume': '19,057,712,790'}\n",
      "{'Close': '37,054.52', 'Volume': '11,545,715,999'}\n",
      "{'Close': '37,138.05', 'Volume': '13,924,272,142'}\n",
      "{'Close': '37,313.97', 'Volume': '22,711,265,155'}\n",
      "{'Close': '36,693.13', 'Volume': '37,762,672,382'}\n",
      "{'Close': '35,655.28', 'Volume': '17,295,394,918'}\n",
      "{'Close': '35,443.56', 'Volume': '18,834,737,789'}\n",
      "{'Close': '35,037.37', 'Volume': '12,693,436,420'}\n",
      "{'Close': '35,049.36', 'Volume': '12,412,743,996'}\n",
      "{'Close': '35,082.20', 'Volume': '9,561,294,264'}\n",
      "{'Close': '34,732.32', 'Volume': '17,158,456,701'}\n",
      "{'Close': '34,938.24', 'Volume': '20,998,158,544'}\n",
      "{'Close': '35,437.25', 'Volume': '22,446,272,005'}\n"
     ]
    }
   ],
   "execution_count": 59
  },
  {
   "metadata": {
    "ExecuteTime": {
     "end_time": "2024-11-01T09:48:46.569084Z",
     "start_time": "2024-11-01T09:48:46.563458Z"
    }
   },
   "cell_type": "code",
   "source": "b_df = pd.DataFrame(b_infos)",
   "outputs": [],
   "execution_count": 65
  },
  {
   "metadata": {
    "ExecuteTime": {
     "end_time": "2024-11-01T09:48:48.097731Z",
     "start_time": "2024-11-01T09:48:48.089871Z"
    }
   },
   "cell_type": "code",
   "source": "b_df",
   "outputs": [
    {
     "data": {
      "text/plain": [
       "         Close          Volume\n",
       "0    69,438.94  45,839,867,904\n",
       "1    70,215.19  40,627,912,076\n",
       "2    72,339.54  40,646,637,831\n",
       "3    72,720.49  58,541,874,402\n",
       "4    69,907.76  38,799,856,657\n",
       "..         ...             ...\n",
       "362  35,049.36  12,412,743,996\n",
       "363  35,082.20   9,561,294,264\n",
       "364  34,732.32  17,158,456,701\n",
       "365  34,938.24  20,998,158,544\n",
       "366  35,437.25  22,446,272,005\n",
       "\n",
       "[367 rows x 2 columns]"
      ],
      "text/html": [
       "<div>\n",
       "<style scoped>\n",
       "    .dataframe tbody tr th:only-of-type {\n",
       "        vertical-align: middle;\n",
       "    }\n",
       "\n",
       "    .dataframe tbody tr th {\n",
       "        vertical-align: top;\n",
       "    }\n",
       "\n",
       "    .dataframe thead th {\n",
       "        text-align: right;\n",
       "    }\n",
       "</style>\n",
       "<table border=\"1\" class=\"dataframe\">\n",
       "  <thead>\n",
       "    <tr style=\"text-align: right;\">\n",
       "      <th></th>\n",
       "      <th>Close</th>\n",
       "      <th>Volume</th>\n",
       "    </tr>\n",
       "  </thead>\n",
       "  <tbody>\n",
       "    <tr>\n",
       "      <th>0</th>\n",
       "      <td>69,438.94</td>\n",
       "      <td>45,839,867,904</td>\n",
       "    </tr>\n",
       "    <tr>\n",
       "      <th>1</th>\n",
       "      <td>70,215.19</td>\n",
       "      <td>40,627,912,076</td>\n",
       "    </tr>\n",
       "    <tr>\n",
       "      <th>2</th>\n",
       "      <td>72,339.54</td>\n",
       "      <td>40,646,637,831</td>\n",
       "    </tr>\n",
       "    <tr>\n",
       "      <th>3</th>\n",
       "      <td>72,720.49</td>\n",
       "      <td>58,541,874,402</td>\n",
       "    </tr>\n",
       "    <tr>\n",
       "      <th>4</th>\n",
       "      <td>69,907.76</td>\n",
       "      <td>38,799,856,657</td>\n",
       "    </tr>\n",
       "    <tr>\n",
       "      <th>...</th>\n",
       "      <td>...</td>\n",
       "      <td>...</td>\n",
       "    </tr>\n",
       "    <tr>\n",
       "      <th>362</th>\n",
       "      <td>35,049.36</td>\n",
       "      <td>12,412,743,996</td>\n",
       "    </tr>\n",
       "    <tr>\n",
       "      <th>363</th>\n",
       "      <td>35,082.20</td>\n",
       "      <td>9,561,294,264</td>\n",
       "    </tr>\n",
       "    <tr>\n",
       "      <th>364</th>\n",
       "      <td>34,732.32</td>\n",
       "      <td>17,158,456,701</td>\n",
       "    </tr>\n",
       "    <tr>\n",
       "      <th>365</th>\n",
       "      <td>34,938.24</td>\n",
       "      <td>20,998,158,544</td>\n",
       "    </tr>\n",
       "    <tr>\n",
       "      <th>366</th>\n",
       "      <td>35,437.25</td>\n",
       "      <td>22,446,272,005</td>\n",
       "    </tr>\n",
       "  </tbody>\n",
       "</table>\n",
       "<p>367 rows × 2 columns</p>\n",
       "</div>"
      ]
     },
     "execution_count": 66,
     "metadata": {},
     "output_type": "execute_result"
    }
   ],
   "execution_count": 66
  },
  {
   "metadata": {
    "ExecuteTime": {
     "end_time": "2024-11-01T09:47:31.539500Z",
     "start_time": "2024-11-01T09:47:30.408300Z"
    }
   },
   "cell_type": "code",
   "source": "from VNP.packages.visualization import *",
   "outputs": [],
   "execution_count": 62
  },
  {
   "metadata": {
    "ExecuteTime": {
     "end_time": "2024-11-01T09:48:51.898310Z",
     "start_time": "2024-11-01T09:48:51.869072Z"
    }
   },
   "cell_type": "code",
   "source": [
    "px.line(b_df,\n",
    "    x='Close',\n",
    "    y=\"Volume\",\n",
    "    title='Close by Volume',\n",
    "    width=800,\n",
    "    height=700)"
   ],
   "outputs": [
    {
     "data": {
      "application/vnd.plotly.v1+json": {
       "data": [
        {
         "hovertemplate": "Close=%{x}<br>Volume=%{y}<extra></extra>",
         "legendgroup": "",
         "line": {
          "color": "#636efa",
          "dash": "solid"
         },
         "marker": {
          "symbol": "circle"
         },
         "mode": "lines",
         "name": "",
         "orientation": "v",
         "showlegend": false,
         "x": [
          "69,438.94",
          "70,215.19",
          "72,339.54",
          "72,720.49",
          "69,907.76",
          "67,929.30",
          "67,014.70",
          "66,642.41",
          "68,161.05",
          "66,432.20",
          "67,361.41",
          "67,367.85",
          "69,001.70",
          "68,362.73",
          "68,418.79",
          "67,399.84",
          "67,612.72",
          "67,041.11",
          "66,046.13",
          "62,851.38",
          "63,193.02",
          "62,445.09",
          "60,274.50",
          "60,582.10",
          "62,131.97",
          "62,236.66",
          "62,818.95",
          "62,089.95",
          "62,067.48",
          "60,759.40",
          "60,632.79",
          "60,837.01",
          "63,329.50",
          "65,635.30",
          "65,887.65",
          "65,790.66",
          "65,181.02",
          "63,143.14",
          "64,301.97",
          "63,329.80",
          "63,648.71",
          "63,394.84",
          "63,192.98",
          "62,940.46",
          "61,649.68",
          "60,308.54",
          "58,192.51",
          "59,182.84",
          "60,005.12",
          "60,571.30",
          "58,127.01",
          "57,343.17",
          "57,648.71",
          "57,019.54",
          "54,841.57",
          "54,139.69",
          "53,948.75",
          "56,160.49",
          "57,971.54",
          "57,431.02",
          "59,112.48",
          "57,325.49",
          "58,969.90",
          "59,119.48",
          "59,388.18",
          "59,027.63",
          "59,504.13",
          "62,880.66",
          "64,333.54",
          "64,178.99",
          "64,094.36",
          "60,381.91",
          "61,175.19",
          "59,012.79",
          "59,493.45",
          "58,483.96",
          "59,478.97",
          "58,894.11",
          "57,560.10",
          "58,737.27",
          "60,609.57",
          "59,354.52",
          "58,719.48",
          "60,945.81",
          "60,880.11",
          "61,710.14",
          "55,027.46",
          "56,034.32",
          "53,991.46",
          "58,116.98",
          "60,680.09",
          "61,415.07",
          "65,357.50",
          "64,619.25",
          "66,201.02",
          "66,819.91",
          "68,255.87",
          "67,813.34",
          "67,912.06",
          "65,777.23",
          "65,372.13",
          "65,927.67",
          "67,585.25",
          "68,154.52",
          "67,163.65",
          "66,710.16",
          "63,974.07",
          "64,118.79",
          "65,097.15",
          "64,870.15",
          "60,787.79",
          "59,231.95",
          "57,899.46",
          "57,344.91",
          "57,742.50",
          "58,009.23",
          "56,705.10",
          "55,849.11",
          "58,303.54",
          "56,662.38",
          "56,977.70",
          "60,173.92",
          "62,029.02",
          "62,851.98",
          "62,678.29",
          "60,887.38",
          "60,320.14",
          "61,604.80",
          "60,811.28",
          "61,804.64",
          "60,277.41",
          "63,180.80",
          "64,252.58",
          "64,096.20",
          "64,828.66",
          "64,960.30",
          "65,140.75",
          "66,490.30",
          "66,639.05",
          "66,191.00",
          "66,011.09",
          "66,756.40",
          "68,241.19",
          "67,332.03",
          "69,512.28",
          "69,647.99",
          "69,305.77",
          "69,342.59",
          "70,757.16",
          "71,082.82",
          "70,567.77",
          "68,804.78",
          "67,751.60",
          "67,706.94",
          "67,491.41",
          "68,364.99",
          "67,578.09",
          "68,296.22",
          "69,394.55",
          "68,518.09",
          "69,265.95",
          "68,526.10",
          "67,929.56",
          "69,122.34",
          "70,136.53",
          "71,448.20",
          "66,278.37",
          "66,940.80",
          "67,051.88",
          "65,231.58",
          "66,267.49",
          "61,552.79",
          "62,901.45",
          "61,448.39",
          "60,793.71",
          "60,792.78",
          "63,049.96",
          "61,187.94",
          "62,334.82",
          "63,161.95",
          "64,031.13",
          "63,891.47",
          "62,889.84",
          "59,123.43",
          "58,254.01",
          "60,636.86",
          "63,841.12",
          "63,113.23",
          "63,419.14",
          "63,755.32",
          "64,481.71",
          "64,276.90",
          "66,407.27",
          "66,837.68",
          "64,926.64",
          "64,994.44",
          "63,843.57",
          "63,512.75",
          "61,276.69",
          "63,811.86",
          "63,426.21",
          "65,738.73",
          "63,821.47",
          "67,195.87",
          "70,060.61",
          "70,587.88",
          "69,139.02",
          "71,631.36",
          "69,362.55",
          "68,896.11",
          "67,837.64",
          "68,508.84",
          "65,980.81",
          "65,446.97",
          "69,702.15",
          "71,333.65",
          "69,645.30",
          "69,892.83",
          "70,744.95",
          "69,455.34",
          "69,987.84",
          "69,958.81",
          "67,234.17",
          "64,062.20",
          "63,778.76",
          "65,491.39",
          "67,913.67",
          "61,912.77",
          "67,548.59",
          "68,390.63",
          "65,315.12",
          "69,403.77",
          "71,396.59",
          "73,083.50",
          "71,481.29",
          "72,123.91",
          "69,019.79",
          "68,498.88",
          "68,300.09",
          "66,925.48",
          "66,106.80",
          "63,801.20",
          "68,330.41",
          "63,167.37",
          "62,029.85",
          "62,440.63",
          "61,198.38",
          "62,504.79",
          "57,085.37",
          "54,522.40",
          "51,733.24",
          "51,571.10",
          "50,731.95",
          "51,304.97",
          "51,839.18",
          "52,284.88",
          "51,779.14",
          "52,122.55",
          "51,663.00",
          "52,160.20",
          "51,938.55",
          "51,826.70",
          "49,742.44",
          "49,958.22",
          "48,293.92",
          "47,771.28",
          "47,147.20",
          "45,301.57",
          "44,318.22",
          "43,084.67",
          "42,658.67",
          "42,583.58",
          "42,992.25",
          "43,185.86",
          "43,075.77",
          "42,582.61",
          "42,952.61",
          "43,288.25",
          "42,035.59",
          "42,120.05",
          "41,816.87",
          "39,933.81",
          "40,077.07",
          "39,845.55",
          "39,507.37",
          "41,545.79",
          "41,665.59",
          "41,618.41",
          "41,262.06",
          "42,742.65",
          "43,154.95",
          "42,511.97",
          "41,796.27",
          "42,842.38",
          "42,853.17",
          "46,368.59",
          "46,627.78",
          "46,139.73",
          "46,970.50",
          "43,943.10",
          "43,989.20",
          "44,162.69",
          "44,179.92",
          "42,848.18",
          "44,957.97",
          "44,167.33",
          "42,265.19",
          "42,156.90",
          "42,099.40",
          "42,627.86",
          "43,442.86",
          "42,520.40",
          "43,613.14",
          "43,016.12",
          "43,739.54",
          "43,997.90",
          "43,869.15",
          "43,652.25",
          "42,270.53",
          "42,623.54",
          "41,364.66",
          "42,240.12",
          "41,929.76",
          "43,023.97",
          "42,890.74",
          "41,450.22",
          "41,243.83",
          "43,779.70",
          "43,725.98",
          "44,166.60",
          "43,292.66",
          "43,746.45",
          "44,080.65",
          "41,980.10",
          "39,978.39",
          "39,476.33",
          "38,688.75",
          "37,712.75",
          "37,858.49",
          "37,831.09",
          "37,254.17",
          "37,479.12",
          "37,796.79",
          "37,720.28",
          "37,289.62",
          "37,432.34",
          "35,813.81",
          "37,476.96",
          "37,386.55",
          "36,585.70",
          "36,596.68",
          "36,154.77",
          "37,880.58",
          "35,537.64",
          "36,502.36",
          "37,054.52",
          "37,138.05",
          "37,313.97",
          "36,693.13",
          "35,655.28",
          "35,443.56",
          "35,037.37",
          "35,049.36",
          "35,082.20",
          "34,732.32",
          "34,938.24",
          "35,437.25"
         ],
         "xaxis": "x",
         "y": [
          "45,839,867,904",
          "40,627,912,076",
          "40,646,637,831",
          "58,541,874,402",
          "38,799,856,657",
          "16,721,307,878",
          "19,588,098,156",
          "41,469,984,306",
          "31,414,428,647",
          "32,263,980,353",
          "31,808,472,566",
          "37,498,611,780",
          "18,975,847,518",
          "14,443,497,908",
          "36,857,165,014",
          "32,790,898,511",
          "38,195,189,534",
          "48,863,870,879",
          "43,706,958,056",
          "18,177,529,690",
          "16,744,110,886",
          "30,327,141,594",
          "30,452,813,570",
          "27,670,982,363",
          "28,134,475,157",
          "34,253,562,610",
          "14,776,233,667",
          "13,305,410,749",
          "29,585,472,513",
          "36,106,447,279",
          "40,762,722,398",
          "50,220,923,500",
          "37,112,957,475",
          "14,788,214,575",
          "15,243,637,984",
          "32,058,813,449",
          "36,873,129,847",
          "25,078,377,700",
          "29,938,335,243",
          "31,400,285,425",
          "20,183,348,802",
          "14,408,616,220",
          "35,177,164,222",
          "42,710,252,573",
          "40,990,702,891",
          "38,075,570,118",
          "32,032,822,113",
          "18,120,960,867",
          "16,428,405,496",
          "32,490,528,356",
          "33,835,707,949",
          "37,049,062,672",
          "28,857,630,507",
          "34,618,096,173",
          "18,268,287,531",
          "19,061,486,526",
          "49,361,693,566",
          "31,030,280,656",
          "35,627,680,312",
          "26,666,961,053",
          "27,036,454,524",
          "24,592,449,997",
          "12,403,470,760",
          "32,292,756,405",
          "32,224,990,582",
          "40,289,564,698",
          "39,103,882,198",
          "27,682,040,631",
          "18,827,683,555",
          "21,430,585,163",
          "42,530,509,233",
          "27,625,734,377",
          "32,731,154,072",
          "31,613,400,008",
          "25,911,207,712",
          "17,740,625,837",
          "13,589,684,021",
          "29,350,938,673",
          "35,682,112,440",
          "29,961,696,180",
          "30,327,698,167",
          "37,078,637,820",
          "22,759,754,812",
          "15,745,822,278",
          "33,425,553,115",
          "45,298,472,567",
          "41,637,562,185",
          "49,300,484,106",
          "108,991,085,584",
          "31,758,917,219",
          "31,753,030,589",
          "43,060,875,727",
          "40,975,554,494",
          "31,292,785,994",
          "31,380,492,109",
          "40,780,682,628",
          "18,043,166,945",
          "34,691,905,492",
          "30,488,630,457",
          "38,315,761,670",
          "27,470,942,309",
          "35,605,668,666",
          "42,649,109,453",
          "26,652,190,004",
          "19,029,581,250",
          "37,003,855,410",
          "27,239,305,337",
          "32,525,071,311",
          "41,617,346,768",
          "38,094,526,099",
          "22,223,416,061",
          "17,080,061,806",
          "25,604,805,221",
          "28,707,803,842",
          "26,175,260,526",
          "27,849,512,607",
          "39,766,159,899",
          "20,553,359,505",
          "20,610,320,577",
          "55,417,544,033",
          "41,149,609,230",
          "29,756,701,685",
          "20,151,616,992",
          "25,468,379,421",
          "17,333,226,409",
          "12,652,903,396",
          "24,952,866,877",
          "21,231,745,045",
          "22,506,003,064",
          "29,201,215,431",
          "43,152,133,651",
          "11,170,471,802",
          "9,858,198,793",
          "26,188,171,739",
          "25,641,109,124",
          "21,103,423,504",
          "39,481,285,950",
          "30,006,354,476",
          "13,281,140,541",
          "14,121,265,576",
          "27,403,884,779",
          "28,955,204,146",
          "34,497,940,694",
          "37,116,136,345",
          "20,597,699,541",
          "13,534,028,500",
          "14,262,185,861",
          "36,188,381,096",
          "25,223,152,007",
          "32,810,771,409",
          "33,149,696,545",
          "32,401,285,324",
          "17,110,588,415",
          "11,641,495,604",
          "27,387,283,769",
          "29,509,712,534",
          "26,707,072,906",
          "32,722,265,965",
          "25,870,990,717",
          "15,628,433,737",
          "15,473,071,741",
          "29,197,308,153",
          "41,895,680,979",
          "32,802,561,717",
          "46,932,005,990",
          "43,850,655,717",
          "19,249,094,538",
          "16,712,277,406",
          "28,031,279,310",
          "31,573,077,994",
          "39,815,167,074",
          "28,186,271,527",
          "27,889,181,179",
          "13,800,459,405",
          "13,842,272,968",
          "27,804,954,694",
          "25,453,338,161",
          "26,088,172,222",
          "25,930,730,982",
          "28,697,928,697",
          "18,296,164,805",
          "20,620,477,992",
          "33,172,023,048",
          "32,711,813,559",
          "48,439,780,271",
          "37,840,840,057",
          "26,635,912,073",
          "17,334,827,993",
          "19,530,783,039",
          "24,139,372,950",
          "32,155,786,816",
          "30,276,655,120",
          "24,310,975,583",
          "28,282,686,673",
          "20,506,644,853",
          "23,097,485,495",
          "49,920,425,401",
          "36,006,307,335",
          "41,915,247,049",
          "42,847,528,078",
          "43,595,917,654",
          "49,084,320,047",
          "52,869,738,185",
          "44,129,299,406",
          "30,153,382,941",
          "38,318,601,774",
          "36,426,900,409",
          "37,261,432,669",
          "21,204,930,369",
          "19,967,785,809",
          "33,748,230,056",
          "34,439,527,442",
          "34,488,018,367",
          "50,705,240,709",
          "34,873,527,352",
          "20,050,941,373",
          "17,130,241,883",
          "25,230,851,763",
          "34,374,900,617",
          "40,827,113,309",
          "36,010,437,368",
          "42,700,139,523",
          "27,206,630,673",
          "24,738,964,812",
          "41,401,116,964",
          "44,480,350,565",
          "66,792,634,382",
          "74,215,844,794",
          "49,261,579,492",
          "44,716,864,318",
          "46,842,198,371",
          "78,320,453,976",
          "59,594,605,698",
          "48,212,536,929",
          "62,554,434,520",
          "65,716,656,765",
          "35,683,977,532",
          "21,609,650,379",
          "59,202,881,172",
          "46,989,543,159",
          "68,750,229,073",
          "102,802,940,877",
          "70,670,471,105",
          "26,253,811,450",
          "23,888,473,685",
          "40,186,368,423",
          "65,496,611,844",
          "83,239,156,760",
          "49,756,832,031",
          "34,074,411,896",
          "15,413,239,245",
          "15,174,077,879",
          "21,427,078,270",
          "25,413,900,611",
          "28,624,907,020",
          "33,353,758,256",
          "21,362,184,346",
          "17,595,377,311",
          "20,009,091,006",
          "28,180,567,298",
          "38,564,360,533",
          "39,105,608,050",
          "35,593,051,468",
          "34,511,985,805",
          "19,315,867,136",
          "16,398,681,570",
          "39,316,770,844",
          "26,154,524,080",
          "21,126,587,775",
          "16,798,476,726",
          "18,715,487,317",
          "14,802,225,490",
          "11,169,245,236",
          "18,603,843,039",
          "21,423,953,779",
          "24,673,628,793",
          "23,842,814,518",
          "20,668,476,578",
          "16,858,971,687",
          "11,422,941,934",
          "25,598,119,893",
          "18,491,782,013",
          "22,359,526,178",
          "29,244,553,045",
          "31,338,708,143",
          "9,344,043,642",
          "11,586,690,904",
          "25,752,407,154",
          "25,218,357,242",
          "20,851,232,595",
          "24,062,872,740",
          "22,320,220,558",
          "17,521,429,522",
          "20,601,860,469",
          "43,332,698,900",
          "45,833,734,549",
          "50,114,613,298",
          "39,821,290,992",
          "42,746,192,015",
          "19,330,573,863",
          "16,092,503,468",
          "32,336,029,347",
          "30,448,091,210",
          "46,342,323,118",
          "39,335,274,536",
          "18,426,978,443",
          "16,397,498,810",
          "16,013,925,945",
          "26,000,021,055",
          "22,992,093,014",
          "25,260,941,032",
          "30,026,850,982",
          "21,115,795,370",
          "18,830,554,085",
          "13,507,796,558",
          "21,028,503,216",
          "22,452,766,169",
          "27,868,908,174",
          "23,171,001,281",
          "25,224,642,008",
          "16,678,702,876",
          "14,386,729,590",
          "19,639,442,462",
          "25,578,530,178",
          "26,797,884,674",
          "24,779,520,132",
          "40,632,672,038",
          "13,000,481,418",
          "17,368,210,171",
          "24,421,116,687",
          "27,635,760,671",
          "29,909,761,586",
          "36,312,154,535",
          "39,856,129,827",
          "15,769,696,322",
          "15,534,035,612",
          "23,512,784,002",
          "18,115,982,627",
          "20,728,546,658",
          "21,696,137,014",
          "19,002,925,720",
          "13,744,796,068",
          "9,099,571,165",
          "22,922,957,823",
          "14,214,948,217",
          "24,397,247,860",
          "25,172,163,756",
          "20,888,209,068",
          "12,915,986,553",
          "11,886,022,717",
          "22,445,028,430",
          "26,007,385,366",
          "27,365,821,679",
          "23,857,403,554",
          "19,057,712,790",
          "11,545,715,999",
          "13,924,272,142",
          "22,711,265,155",
          "37,762,672,382",
          "17,295,394,918",
          "18,834,737,789",
          "12,693,436,420",
          "12,412,743,996",
          "9,561,294,264",
          "17,158,456,701",
          "20,998,158,544",
          "22,446,272,005"
         ],
         "yaxis": "y",
         "type": "scatter"
        }
       ],
       "layout": {
        "template": {
         "data": {
          "histogram2dcontour": [
           {
            "type": "histogram2dcontour",
            "colorbar": {
             "outlinewidth": 0,
             "ticks": ""
            },
            "colorscale": [
             [
              0.0,
              "#0d0887"
             ],
             [
              0.1111111111111111,
              "#46039f"
             ],
             [
              0.2222222222222222,
              "#7201a8"
             ],
             [
              0.3333333333333333,
              "#9c179e"
             ],
             [
              0.4444444444444444,
              "#bd3786"
             ],
             [
              0.5555555555555556,
              "#d8576b"
             ],
             [
              0.6666666666666666,
              "#ed7953"
             ],
             [
              0.7777777777777778,
              "#fb9f3a"
             ],
             [
              0.8888888888888888,
              "#fdca26"
             ],
             [
              1.0,
              "#f0f921"
             ]
            ]
           }
          ],
          "choropleth": [
           {
            "type": "choropleth",
            "colorbar": {
             "outlinewidth": 0,
             "ticks": ""
            }
           }
          ],
          "histogram2d": [
           {
            "type": "histogram2d",
            "colorbar": {
             "outlinewidth": 0,
             "ticks": ""
            },
            "colorscale": [
             [
              0.0,
              "#0d0887"
             ],
             [
              0.1111111111111111,
              "#46039f"
             ],
             [
              0.2222222222222222,
              "#7201a8"
             ],
             [
              0.3333333333333333,
              "#9c179e"
             ],
             [
              0.4444444444444444,
              "#bd3786"
             ],
             [
              0.5555555555555556,
              "#d8576b"
             ],
             [
              0.6666666666666666,
              "#ed7953"
             ],
             [
              0.7777777777777778,
              "#fb9f3a"
             ],
             [
              0.8888888888888888,
              "#fdca26"
             ],
             [
              1.0,
              "#f0f921"
             ]
            ]
           }
          ],
          "heatmap": [
           {
            "type": "heatmap",
            "colorbar": {
             "outlinewidth": 0,
             "ticks": ""
            },
            "colorscale": [
             [
              0.0,
              "#0d0887"
             ],
             [
              0.1111111111111111,
              "#46039f"
             ],
             [
              0.2222222222222222,
              "#7201a8"
             ],
             [
              0.3333333333333333,
              "#9c179e"
             ],
             [
              0.4444444444444444,
              "#bd3786"
             ],
             [
              0.5555555555555556,
              "#d8576b"
             ],
             [
              0.6666666666666666,
              "#ed7953"
             ],
             [
              0.7777777777777778,
              "#fb9f3a"
             ],
             [
              0.8888888888888888,
              "#fdca26"
             ],
             [
              1.0,
              "#f0f921"
             ]
            ]
           }
          ],
          "heatmapgl": [
           {
            "type": "heatmapgl",
            "colorbar": {
             "outlinewidth": 0,
             "ticks": ""
            },
            "colorscale": [
             [
              0.0,
              "#0d0887"
             ],
             [
              0.1111111111111111,
              "#46039f"
             ],
             [
              0.2222222222222222,
              "#7201a8"
             ],
             [
              0.3333333333333333,
              "#9c179e"
             ],
             [
              0.4444444444444444,
              "#bd3786"
             ],
             [
              0.5555555555555556,
              "#d8576b"
             ],
             [
              0.6666666666666666,
              "#ed7953"
             ],
             [
              0.7777777777777778,
              "#fb9f3a"
             ],
             [
              0.8888888888888888,
              "#fdca26"
             ],
             [
              1.0,
              "#f0f921"
             ]
            ]
           }
          ],
          "contourcarpet": [
           {
            "type": "contourcarpet",
            "colorbar": {
             "outlinewidth": 0,
             "ticks": ""
            }
           }
          ],
          "contour": [
           {
            "type": "contour",
            "colorbar": {
             "outlinewidth": 0,
             "ticks": ""
            },
            "colorscale": [
             [
              0.0,
              "#0d0887"
             ],
             [
              0.1111111111111111,
              "#46039f"
             ],
             [
              0.2222222222222222,
              "#7201a8"
             ],
             [
              0.3333333333333333,
              "#9c179e"
             ],
             [
              0.4444444444444444,
              "#bd3786"
             ],
             [
              0.5555555555555556,
              "#d8576b"
             ],
             [
              0.6666666666666666,
              "#ed7953"
             ],
             [
              0.7777777777777778,
              "#fb9f3a"
             ],
             [
              0.8888888888888888,
              "#fdca26"
             ],
             [
              1.0,
              "#f0f921"
             ]
            ]
           }
          ],
          "surface": [
           {
            "type": "surface",
            "colorbar": {
             "outlinewidth": 0,
             "ticks": ""
            },
            "colorscale": [
             [
              0.0,
              "#0d0887"
             ],
             [
              0.1111111111111111,
              "#46039f"
             ],
             [
              0.2222222222222222,
              "#7201a8"
             ],
             [
              0.3333333333333333,
              "#9c179e"
             ],
             [
              0.4444444444444444,
              "#bd3786"
             ],
             [
              0.5555555555555556,
              "#d8576b"
             ],
             [
              0.6666666666666666,
              "#ed7953"
             ],
             [
              0.7777777777777778,
              "#fb9f3a"
             ],
             [
              0.8888888888888888,
              "#fdca26"
             ],
             [
              1.0,
              "#f0f921"
             ]
            ]
           }
          ],
          "mesh3d": [
           {
            "type": "mesh3d",
            "colorbar": {
             "outlinewidth": 0,
             "ticks": ""
            }
           }
          ],
          "scatter": [
           {
            "fillpattern": {
             "fillmode": "overlay",
             "size": 10,
             "solidity": 0.2
            },
            "type": "scatter"
           }
          ],
          "parcoords": [
           {
            "type": "parcoords",
            "line": {
             "colorbar": {
              "outlinewidth": 0,
              "ticks": ""
             }
            }
           }
          ],
          "scatterpolargl": [
           {
            "type": "scatterpolargl",
            "marker": {
             "colorbar": {
              "outlinewidth": 0,
              "ticks": ""
             }
            }
           }
          ],
          "bar": [
           {
            "error_x": {
             "color": "#2a3f5f"
            },
            "error_y": {
             "color": "#2a3f5f"
            },
            "marker": {
             "line": {
              "color": "#E5ECF6",
              "width": 0.5
             },
             "pattern": {
              "fillmode": "overlay",
              "size": 10,
              "solidity": 0.2
             }
            },
            "type": "bar"
           }
          ],
          "scattergeo": [
           {
            "type": "scattergeo",
            "marker": {
             "colorbar": {
              "outlinewidth": 0,
              "ticks": ""
             }
            }
           }
          ],
          "scatterpolar": [
           {
            "type": "scatterpolar",
            "marker": {
             "colorbar": {
              "outlinewidth": 0,
              "ticks": ""
             }
            }
           }
          ],
          "histogram": [
           {
            "marker": {
             "pattern": {
              "fillmode": "overlay",
              "size": 10,
              "solidity": 0.2
             }
            },
            "type": "histogram"
           }
          ],
          "scattergl": [
           {
            "type": "scattergl",
            "marker": {
             "colorbar": {
              "outlinewidth": 0,
              "ticks": ""
             }
            }
           }
          ],
          "scatter3d": [
           {
            "type": "scatter3d",
            "line": {
             "colorbar": {
              "outlinewidth": 0,
              "ticks": ""
             }
            },
            "marker": {
             "colorbar": {
              "outlinewidth": 0,
              "ticks": ""
             }
            }
           }
          ],
          "scattermapbox": [
           {
            "type": "scattermapbox",
            "marker": {
             "colorbar": {
              "outlinewidth": 0,
              "ticks": ""
             }
            }
           }
          ],
          "scatterternary": [
           {
            "type": "scatterternary",
            "marker": {
             "colorbar": {
              "outlinewidth": 0,
              "ticks": ""
             }
            }
           }
          ],
          "scattercarpet": [
           {
            "type": "scattercarpet",
            "marker": {
             "colorbar": {
              "outlinewidth": 0,
              "ticks": ""
             }
            }
           }
          ],
          "carpet": [
           {
            "aaxis": {
             "endlinecolor": "#2a3f5f",
             "gridcolor": "white",
             "linecolor": "white",
             "minorgridcolor": "white",
             "startlinecolor": "#2a3f5f"
            },
            "baxis": {
             "endlinecolor": "#2a3f5f",
             "gridcolor": "white",
             "linecolor": "white",
             "minorgridcolor": "white",
             "startlinecolor": "#2a3f5f"
            },
            "type": "carpet"
           }
          ],
          "table": [
           {
            "cells": {
             "fill": {
              "color": "#EBF0F8"
             },
             "line": {
              "color": "white"
             }
            },
            "header": {
             "fill": {
              "color": "#C8D4E3"
             },
             "line": {
              "color": "white"
             }
            },
            "type": "table"
           }
          ],
          "barpolar": [
           {
            "marker": {
             "line": {
              "color": "#E5ECF6",
              "width": 0.5
             },
             "pattern": {
              "fillmode": "overlay",
              "size": 10,
              "solidity": 0.2
             }
            },
            "type": "barpolar"
           }
          ],
          "pie": [
           {
            "automargin": true,
            "type": "pie"
           }
          ]
         },
         "layout": {
          "autotypenumbers": "strict",
          "colorway": [
           "#636efa",
           "#EF553B",
           "#00cc96",
           "#ab63fa",
           "#FFA15A",
           "#19d3f3",
           "#FF6692",
           "#B6E880",
           "#FF97FF",
           "#FECB52"
          ],
          "font": {
           "color": "#2a3f5f"
          },
          "hovermode": "closest",
          "hoverlabel": {
           "align": "left"
          },
          "paper_bgcolor": "white",
          "plot_bgcolor": "#E5ECF6",
          "polar": {
           "bgcolor": "#E5ECF6",
           "angularaxis": {
            "gridcolor": "white",
            "linecolor": "white",
            "ticks": ""
           },
           "radialaxis": {
            "gridcolor": "white",
            "linecolor": "white",
            "ticks": ""
           }
          },
          "ternary": {
           "bgcolor": "#E5ECF6",
           "aaxis": {
            "gridcolor": "white",
            "linecolor": "white",
            "ticks": ""
           },
           "baxis": {
            "gridcolor": "white",
            "linecolor": "white",
            "ticks": ""
           },
           "caxis": {
            "gridcolor": "white",
            "linecolor": "white",
            "ticks": ""
           }
          },
          "coloraxis": {
           "colorbar": {
            "outlinewidth": 0,
            "ticks": ""
           }
          },
          "colorscale": {
           "sequential": [
            [
             0.0,
             "#0d0887"
            ],
            [
             0.1111111111111111,
             "#46039f"
            ],
            [
             0.2222222222222222,
             "#7201a8"
            ],
            [
             0.3333333333333333,
             "#9c179e"
            ],
            [
             0.4444444444444444,
             "#bd3786"
            ],
            [
             0.5555555555555556,
             "#d8576b"
            ],
            [
             0.6666666666666666,
             "#ed7953"
            ],
            [
             0.7777777777777778,
             "#fb9f3a"
            ],
            [
             0.8888888888888888,
             "#fdca26"
            ],
            [
             1.0,
             "#f0f921"
            ]
           ],
           "sequentialminus": [
            [
             0.0,
             "#0d0887"
            ],
            [
             0.1111111111111111,
             "#46039f"
            ],
            [
             0.2222222222222222,
             "#7201a8"
            ],
            [
             0.3333333333333333,
             "#9c179e"
            ],
            [
             0.4444444444444444,
             "#bd3786"
            ],
            [
             0.5555555555555556,
             "#d8576b"
            ],
            [
             0.6666666666666666,
             "#ed7953"
            ],
            [
             0.7777777777777778,
             "#fb9f3a"
            ],
            [
             0.8888888888888888,
             "#fdca26"
            ],
            [
             1.0,
             "#f0f921"
            ]
           ],
           "diverging": [
            [
             0,
             "#8e0152"
            ],
            [
             0.1,
             "#c51b7d"
            ],
            [
             0.2,
             "#de77ae"
            ],
            [
             0.3,
             "#f1b6da"
            ],
            [
             0.4,
             "#fde0ef"
            ],
            [
             0.5,
             "#f7f7f7"
            ],
            [
             0.6,
             "#e6f5d0"
            ],
            [
             0.7,
             "#b8e186"
            ],
            [
             0.8,
             "#7fbc41"
            ],
            [
             0.9,
             "#4d9221"
            ],
            [
             1,
             "#276419"
            ]
           ]
          },
          "xaxis": {
           "gridcolor": "white",
           "linecolor": "white",
           "ticks": "",
           "title": {
            "standoff": 15
           },
           "zerolinecolor": "white",
           "automargin": true,
           "zerolinewidth": 2
          },
          "yaxis": {
           "gridcolor": "white",
           "linecolor": "white",
           "ticks": "",
           "title": {
            "standoff": 15
           },
           "zerolinecolor": "white",
           "automargin": true,
           "zerolinewidth": 2
          },
          "scene": {
           "xaxis": {
            "backgroundcolor": "#E5ECF6",
            "gridcolor": "white",
            "linecolor": "white",
            "showbackground": true,
            "ticks": "",
            "zerolinecolor": "white",
            "gridwidth": 2
           },
           "yaxis": {
            "backgroundcolor": "#E5ECF6",
            "gridcolor": "white",
            "linecolor": "white",
            "showbackground": true,
            "ticks": "",
            "zerolinecolor": "white",
            "gridwidth": 2
           },
           "zaxis": {
            "backgroundcolor": "#E5ECF6",
            "gridcolor": "white",
            "linecolor": "white",
            "showbackground": true,
            "ticks": "",
            "zerolinecolor": "white",
            "gridwidth": 2
           }
          },
          "shapedefaults": {
           "line": {
            "color": "#2a3f5f"
           }
          },
          "annotationdefaults": {
           "arrowcolor": "#2a3f5f",
           "arrowhead": 0,
           "arrowwidth": 1
          },
          "geo": {
           "bgcolor": "white",
           "landcolor": "#E5ECF6",
           "subunitcolor": "white",
           "showland": true,
           "showlakes": true,
           "lakecolor": "white"
          },
          "title": {
           "x": 0.05
          },
          "mapbox": {
           "style": "light"
          }
         }
        },
        "xaxis": {
         "anchor": "y",
         "domain": [
          0.0,
          1.0
         ],
         "title": {
          "text": "Close"
         }
        },
        "yaxis": {
         "anchor": "x",
         "domain": [
          0.0,
          1.0
         ],
         "title": {
          "text": "Volume"
         }
        },
        "legend": {
         "tracegroupgap": 0
        },
        "title": {
         "text": "Close by Volume"
        },
        "height": 700,
        "width": 800
       },
       "config": {
        "plotlyServerURL": "https://plot.ly"
       }
      },
      "text/html": [
       "<div>                            <div id=\"cb017d08-7b8e-46d2-9106-7995b98838cc\" class=\"plotly-graph-div\" style=\"height:700px; width:800px;\"></div>            <script type=\"text/javascript\">                require([\"plotly\"], function(Plotly) {                    window.PLOTLYENV=window.PLOTLYENV || {};                                    if (document.getElementById(\"cb017d08-7b8e-46d2-9106-7995b98838cc\")) {                    Plotly.newPlot(                        \"cb017d08-7b8e-46d2-9106-7995b98838cc\",                        [{\"hovertemplate\":\"Close=%{x}\\u003cbr\\u003eVolume=%{y}\\u003cextra\\u003e\\u003c\\u002fextra\\u003e\",\"legendgroup\":\"\",\"line\":{\"color\":\"#636efa\",\"dash\":\"solid\"},\"marker\":{\"symbol\":\"circle\"},\"mode\":\"lines\",\"name\":\"\",\"orientation\":\"v\",\"showlegend\":false,\"x\":[\"69,438.94\",\"70,215.19\",\"72,339.54\",\"72,720.49\",\"69,907.76\",\"67,929.30\",\"67,014.70\",\"66,642.41\",\"68,161.05\",\"66,432.20\",\"67,361.41\",\"67,367.85\",\"69,001.70\",\"68,362.73\",\"68,418.79\",\"67,399.84\",\"67,612.72\",\"67,041.11\",\"66,046.13\",\"62,851.38\",\"63,193.02\",\"62,445.09\",\"60,274.50\",\"60,582.10\",\"62,131.97\",\"62,236.66\",\"62,818.95\",\"62,089.95\",\"62,067.48\",\"60,759.40\",\"60,632.79\",\"60,837.01\",\"63,329.50\",\"65,635.30\",\"65,887.65\",\"65,790.66\",\"65,181.02\",\"63,143.14\",\"64,301.97\",\"63,329.80\",\"63,648.71\",\"63,394.84\",\"63,192.98\",\"62,940.46\",\"61,649.68\",\"60,308.54\",\"58,192.51\",\"59,182.84\",\"60,005.12\",\"60,571.30\",\"58,127.01\",\"57,343.17\",\"57,648.71\",\"57,019.54\",\"54,841.57\",\"54,139.69\",\"53,948.75\",\"56,160.49\",\"57,971.54\",\"57,431.02\",\"59,112.48\",\"57,325.49\",\"58,969.90\",\"59,119.48\",\"59,388.18\",\"59,027.63\",\"59,504.13\",\"62,880.66\",\"64,333.54\",\"64,178.99\",\"64,094.36\",\"60,381.91\",\"61,175.19\",\"59,012.79\",\"59,493.45\",\"58,483.96\",\"59,478.97\",\"58,894.11\",\"57,560.10\",\"58,737.27\",\"60,609.57\",\"59,354.52\",\"58,719.48\",\"60,945.81\",\"60,880.11\",\"61,710.14\",\"55,027.46\",\"56,034.32\",\"53,991.46\",\"58,116.98\",\"60,680.09\",\"61,415.07\",\"65,357.50\",\"64,619.25\",\"66,201.02\",\"66,819.91\",\"68,255.87\",\"67,813.34\",\"67,912.06\",\"65,777.23\",\"65,372.13\",\"65,927.67\",\"67,585.25\",\"68,154.52\",\"67,163.65\",\"66,710.16\",\"63,974.07\",\"64,118.79\",\"65,097.15\",\"64,870.15\",\"60,787.79\",\"59,231.95\",\"57,899.46\",\"57,344.91\",\"57,742.50\",\"58,009.23\",\"56,705.10\",\"55,849.11\",\"58,303.54\",\"56,662.38\",\"56,977.70\",\"60,173.92\",\"62,029.02\",\"62,851.98\",\"62,678.29\",\"60,887.38\",\"60,320.14\",\"61,604.80\",\"60,811.28\",\"61,804.64\",\"60,277.41\",\"63,180.80\",\"64,252.58\",\"64,096.20\",\"64,828.66\",\"64,960.30\",\"65,140.75\",\"66,490.30\",\"66,639.05\",\"66,191.00\",\"66,011.09\",\"66,756.40\",\"68,241.19\",\"67,332.03\",\"69,512.28\",\"69,647.99\",\"69,305.77\",\"69,342.59\",\"70,757.16\",\"71,082.82\",\"70,567.77\",\"68,804.78\",\"67,751.60\",\"67,706.94\",\"67,491.41\",\"68,364.99\",\"67,578.09\",\"68,296.22\",\"69,394.55\",\"68,518.09\",\"69,265.95\",\"68,526.10\",\"67,929.56\",\"69,122.34\",\"70,136.53\",\"71,448.20\",\"66,278.37\",\"66,940.80\",\"67,051.88\",\"65,231.58\",\"66,267.49\",\"61,552.79\",\"62,901.45\",\"61,448.39\",\"60,793.71\",\"60,792.78\",\"63,049.96\",\"61,187.94\",\"62,334.82\",\"63,161.95\",\"64,031.13\",\"63,891.47\",\"62,889.84\",\"59,123.43\",\"58,254.01\",\"60,636.86\",\"63,841.12\",\"63,113.23\",\"63,419.14\",\"63,755.32\",\"64,481.71\",\"64,276.90\",\"66,407.27\",\"66,837.68\",\"64,926.64\",\"64,994.44\",\"63,843.57\",\"63,512.75\",\"61,276.69\",\"63,811.86\",\"63,426.21\",\"65,738.73\",\"63,821.47\",\"67,195.87\",\"70,060.61\",\"70,587.88\",\"69,139.02\",\"71,631.36\",\"69,362.55\",\"68,896.11\",\"67,837.64\",\"68,508.84\",\"65,980.81\",\"65,446.97\",\"69,702.15\",\"71,333.65\",\"69,645.30\",\"69,892.83\",\"70,744.95\",\"69,455.34\",\"69,987.84\",\"69,958.81\",\"67,234.17\",\"64,062.20\",\"63,778.76\",\"65,491.39\",\"67,913.67\",\"61,912.77\",\"67,548.59\",\"68,390.63\",\"65,315.12\",\"69,403.77\",\"71,396.59\",\"73,083.50\",\"71,481.29\",\"72,123.91\",\"69,019.79\",\"68,498.88\",\"68,300.09\",\"66,925.48\",\"66,106.80\",\"63,801.20\",\"68,330.41\",\"63,167.37\",\"62,029.85\",\"62,440.63\",\"61,198.38\",\"62,504.79\",\"57,085.37\",\"54,522.40\",\"51,733.24\",\"51,571.10\",\"50,731.95\",\"51,304.97\",\"51,839.18\",\"52,284.88\",\"51,779.14\",\"52,122.55\",\"51,663.00\",\"52,160.20\",\"51,938.55\",\"51,826.70\",\"49,742.44\",\"49,958.22\",\"48,293.92\",\"47,771.28\",\"47,147.20\",\"45,301.57\",\"44,318.22\",\"43,084.67\",\"42,658.67\",\"42,583.58\",\"42,992.25\",\"43,185.86\",\"43,075.77\",\"42,582.61\",\"42,952.61\",\"43,288.25\",\"42,035.59\",\"42,120.05\",\"41,816.87\",\"39,933.81\",\"40,077.07\",\"39,845.55\",\"39,507.37\",\"41,545.79\",\"41,665.59\",\"41,618.41\",\"41,262.06\",\"42,742.65\",\"43,154.95\",\"42,511.97\",\"41,796.27\",\"42,842.38\",\"42,853.17\",\"46,368.59\",\"46,627.78\",\"46,139.73\",\"46,970.50\",\"43,943.10\",\"43,989.20\",\"44,162.69\",\"44,179.92\",\"42,848.18\",\"44,957.97\",\"44,167.33\",\"42,265.19\",\"42,156.90\",\"42,099.40\",\"42,627.86\",\"43,442.86\",\"42,520.40\",\"43,613.14\",\"43,016.12\",\"43,739.54\",\"43,997.90\",\"43,869.15\",\"43,652.25\",\"42,270.53\",\"42,623.54\",\"41,364.66\",\"42,240.12\",\"41,929.76\",\"43,023.97\",\"42,890.74\",\"41,450.22\",\"41,243.83\",\"43,779.70\",\"43,725.98\",\"44,166.60\",\"43,292.66\",\"43,746.45\",\"44,080.65\",\"41,980.10\",\"39,978.39\",\"39,476.33\",\"38,688.75\",\"37,712.75\",\"37,858.49\",\"37,831.09\",\"37,254.17\",\"37,479.12\",\"37,796.79\",\"37,720.28\",\"37,289.62\",\"37,432.34\",\"35,813.81\",\"37,476.96\",\"37,386.55\",\"36,585.70\",\"36,596.68\",\"36,154.77\",\"37,880.58\",\"35,537.64\",\"36,502.36\",\"37,054.52\",\"37,138.05\",\"37,313.97\",\"36,693.13\",\"35,655.28\",\"35,443.56\",\"35,037.37\",\"35,049.36\",\"35,082.20\",\"34,732.32\",\"34,938.24\",\"35,437.25\"],\"xaxis\":\"x\",\"y\":[\"45,839,867,904\",\"40,627,912,076\",\"40,646,637,831\",\"58,541,874,402\",\"38,799,856,657\",\"16,721,307,878\",\"19,588,098,156\",\"41,469,984,306\",\"31,414,428,647\",\"32,263,980,353\",\"31,808,472,566\",\"37,498,611,780\",\"18,975,847,518\",\"14,443,497,908\",\"36,857,165,014\",\"32,790,898,511\",\"38,195,189,534\",\"48,863,870,879\",\"43,706,958,056\",\"18,177,529,690\",\"16,744,110,886\",\"30,327,141,594\",\"30,452,813,570\",\"27,670,982,363\",\"28,134,475,157\",\"34,253,562,610\",\"14,776,233,667\",\"13,305,410,749\",\"29,585,472,513\",\"36,106,447,279\",\"40,762,722,398\",\"50,220,923,500\",\"37,112,957,475\",\"14,788,214,575\",\"15,243,637,984\",\"32,058,813,449\",\"36,873,129,847\",\"25,078,377,700\",\"29,938,335,243\",\"31,400,285,425\",\"20,183,348,802\",\"14,408,616,220\",\"35,177,164,222\",\"42,710,252,573\",\"40,990,702,891\",\"38,075,570,118\",\"32,032,822,113\",\"18,120,960,867\",\"16,428,405,496\",\"32,490,528,356\",\"33,835,707,949\",\"37,049,062,672\",\"28,857,630,507\",\"34,618,096,173\",\"18,268,287,531\",\"19,061,486,526\",\"49,361,693,566\",\"31,030,280,656\",\"35,627,680,312\",\"26,666,961,053\",\"27,036,454,524\",\"24,592,449,997\",\"12,403,470,760\",\"32,292,756,405\",\"32,224,990,582\",\"40,289,564,698\",\"39,103,882,198\",\"27,682,040,631\",\"18,827,683,555\",\"21,430,585,163\",\"42,530,509,233\",\"27,625,734,377\",\"32,731,154,072\",\"31,613,400,008\",\"25,911,207,712\",\"17,740,625,837\",\"13,589,684,021\",\"29,350,938,673\",\"35,682,112,440\",\"29,961,696,180\",\"30,327,698,167\",\"37,078,637,820\",\"22,759,754,812\",\"15,745,822,278\",\"33,425,553,115\",\"45,298,472,567\",\"41,637,562,185\",\"49,300,484,106\",\"108,991,085,584\",\"31,758,917,219\",\"31,753,030,589\",\"43,060,875,727\",\"40,975,554,494\",\"31,292,785,994\",\"31,380,492,109\",\"40,780,682,628\",\"18,043,166,945\",\"34,691,905,492\",\"30,488,630,457\",\"38,315,761,670\",\"27,470,942,309\",\"35,605,668,666\",\"42,649,109,453\",\"26,652,190,004\",\"19,029,581,250\",\"37,003,855,410\",\"27,239,305,337\",\"32,525,071,311\",\"41,617,346,768\",\"38,094,526,099\",\"22,223,416,061\",\"17,080,061,806\",\"25,604,805,221\",\"28,707,803,842\",\"26,175,260,526\",\"27,849,512,607\",\"39,766,159,899\",\"20,553,359,505\",\"20,610,320,577\",\"55,417,544,033\",\"41,149,609,230\",\"29,756,701,685\",\"20,151,616,992\",\"25,468,379,421\",\"17,333,226,409\",\"12,652,903,396\",\"24,952,866,877\",\"21,231,745,045\",\"22,506,003,064\",\"29,201,215,431\",\"43,152,133,651\",\"11,170,471,802\",\"9,858,198,793\",\"26,188,171,739\",\"25,641,109,124\",\"21,103,423,504\",\"39,481,285,950\",\"30,006,354,476\",\"13,281,140,541\",\"14,121,265,576\",\"27,403,884,779\",\"28,955,204,146\",\"34,497,940,694\",\"37,116,136,345\",\"20,597,699,541\",\"13,534,028,500\",\"14,262,185,861\",\"36,188,381,096\",\"25,223,152,007\",\"32,810,771,409\",\"33,149,696,545\",\"32,401,285,324\",\"17,110,588,415\",\"11,641,495,604\",\"27,387,283,769\",\"29,509,712,534\",\"26,707,072,906\",\"32,722,265,965\",\"25,870,990,717\",\"15,628,433,737\",\"15,473,071,741\",\"29,197,308,153\",\"41,895,680,979\",\"32,802,561,717\",\"46,932,005,990\",\"43,850,655,717\",\"19,249,094,538\",\"16,712,277,406\",\"28,031,279,310\",\"31,573,077,994\",\"39,815,167,074\",\"28,186,271,527\",\"27,889,181,179\",\"13,800,459,405\",\"13,842,272,968\",\"27,804,954,694\",\"25,453,338,161\",\"26,088,172,222\",\"25,930,730,982\",\"28,697,928,697\",\"18,296,164,805\",\"20,620,477,992\",\"33,172,023,048\",\"32,711,813,559\",\"48,439,780,271\",\"37,840,840,057\",\"26,635,912,073\",\"17,334,827,993\",\"19,530,783,039\",\"24,139,372,950\",\"32,155,786,816\",\"30,276,655,120\",\"24,310,975,583\",\"28,282,686,673\",\"20,506,644,853\",\"23,097,485,495\",\"49,920,425,401\",\"36,006,307,335\",\"41,915,247,049\",\"42,847,528,078\",\"43,595,917,654\",\"49,084,320,047\",\"52,869,738,185\",\"44,129,299,406\",\"30,153,382,941\",\"38,318,601,774\",\"36,426,900,409\",\"37,261,432,669\",\"21,204,930,369\",\"19,967,785,809\",\"33,748,230,056\",\"34,439,527,442\",\"34,488,018,367\",\"50,705,240,709\",\"34,873,527,352\",\"20,050,941,373\",\"17,130,241,883\",\"25,230,851,763\",\"34,374,900,617\",\"40,827,113,309\",\"36,010,437,368\",\"42,700,139,523\",\"27,206,630,673\",\"24,738,964,812\",\"41,401,116,964\",\"44,480,350,565\",\"66,792,634,382\",\"74,215,844,794\",\"49,261,579,492\",\"44,716,864,318\",\"46,842,198,371\",\"78,320,453,976\",\"59,594,605,698\",\"48,212,536,929\",\"62,554,434,520\",\"65,716,656,765\",\"35,683,977,532\",\"21,609,650,379\",\"59,202,881,172\",\"46,989,543,159\",\"68,750,229,073\",\"102,802,940,877\",\"70,670,471,105\",\"26,253,811,450\",\"23,888,473,685\",\"40,186,368,423\",\"65,496,611,844\",\"83,239,156,760\",\"49,756,832,031\",\"34,074,411,896\",\"15,413,239,245\",\"15,174,077,879\",\"21,427,078,270\",\"25,413,900,611\",\"28,624,907,020\",\"33,353,758,256\",\"21,362,184,346\",\"17,595,377,311\",\"20,009,091,006\",\"28,180,567,298\",\"38,564,360,533\",\"39,105,608,050\",\"35,593,051,468\",\"34,511,985,805\",\"19,315,867,136\",\"16,398,681,570\",\"39,316,770,844\",\"26,154,524,080\",\"21,126,587,775\",\"16,798,476,726\",\"18,715,487,317\",\"14,802,225,490\",\"11,169,245,236\",\"18,603,843,039\",\"21,423,953,779\",\"24,673,628,793\",\"23,842,814,518\",\"20,668,476,578\",\"16,858,971,687\",\"11,422,941,934\",\"25,598,119,893\",\"18,491,782,013\",\"22,359,526,178\",\"29,244,553,045\",\"31,338,708,143\",\"9,344,043,642\",\"11,586,690,904\",\"25,752,407,154\",\"25,218,357,242\",\"20,851,232,595\",\"24,062,872,740\",\"22,320,220,558\",\"17,521,429,522\",\"20,601,860,469\",\"43,332,698,900\",\"45,833,734,549\",\"50,114,613,298\",\"39,821,290,992\",\"42,746,192,015\",\"19,330,573,863\",\"16,092,503,468\",\"32,336,029,347\",\"30,448,091,210\",\"46,342,323,118\",\"39,335,274,536\",\"18,426,978,443\",\"16,397,498,810\",\"16,013,925,945\",\"26,000,021,055\",\"22,992,093,014\",\"25,260,941,032\",\"30,026,850,982\",\"21,115,795,370\",\"18,830,554,085\",\"13,507,796,558\",\"21,028,503,216\",\"22,452,766,169\",\"27,868,908,174\",\"23,171,001,281\",\"25,224,642,008\",\"16,678,702,876\",\"14,386,729,590\",\"19,639,442,462\",\"25,578,530,178\",\"26,797,884,674\",\"24,779,520,132\",\"40,632,672,038\",\"13,000,481,418\",\"17,368,210,171\",\"24,421,116,687\",\"27,635,760,671\",\"29,909,761,586\",\"36,312,154,535\",\"39,856,129,827\",\"15,769,696,322\",\"15,534,035,612\",\"23,512,784,002\",\"18,115,982,627\",\"20,728,546,658\",\"21,696,137,014\",\"19,002,925,720\",\"13,744,796,068\",\"9,099,571,165\",\"22,922,957,823\",\"14,214,948,217\",\"24,397,247,860\",\"25,172,163,756\",\"20,888,209,068\",\"12,915,986,553\",\"11,886,022,717\",\"22,445,028,430\",\"26,007,385,366\",\"27,365,821,679\",\"23,857,403,554\",\"19,057,712,790\",\"11,545,715,999\",\"13,924,272,142\",\"22,711,265,155\",\"37,762,672,382\",\"17,295,394,918\",\"18,834,737,789\",\"12,693,436,420\",\"12,412,743,996\",\"9,561,294,264\",\"17,158,456,701\",\"20,998,158,544\",\"22,446,272,005\"],\"yaxis\":\"y\",\"type\":\"scatter\"}],                        {\"template\":{\"data\":{\"histogram2dcontour\":[{\"type\":\"histogram2dcontour\",\"colorbar\":{\"outlinewidth\":0,\"ticks\":\"\"},\"colorscale\":[[0.0,\"#0d0887\"],[0.1111111111111111,\"#46039f\"],[0.2222222222222222,\"#7201a8\"],[0.3333333333333333,\"#9c179e\"],[0.4444444444444444,\"#bd3786\"],[0.5555555555555556,\"#d8576b\"],[0.6666666666666666,\"#ed7953\"],[0.7777777777777778,\"#fb9f3a\"],[0.8888888888888888,\"#fdca26\"],[1.0,\"#f0f921\"]]}],\"choropleth\":[{\"type\":\"choropleth\",\"colorbar\":{\"outlinewidth\":0,\"ticks\":\"\"}}],\"histogram2d\":[{\"type\":\"histogram2d\",\"colorbar\":{\"outlinewidth\":0,\"ticks\":\"\"},\"colorscale\":[[0.0,\"#0d0887\"],[0.1111111111111111,\"#46039f\"],[0.2222222222222222,\"#7201a8\"],[0.3333333333333333,\"#9c179e\"],[0.4444444444444444,\"#bd3786\"],[0.5555555555555556,\"#d8576b\"],[0.6666666666666666,\"#ed7953\"],[0.7777777777777778,\"#fb9f3a\"],[0.8888888888888888,\"#fdca26\"],[1.0,\"#f0f921\"]]}],\"heatmap\":[{\"type\":\"heatmap\",\"colorbar\":{\"outlinewidth\":0,\"ticks\":\"\"},\"colorscale\":[[0.0,\"#0d0887\"],[0.1111111111111111,\"#46039f\"],[0.2222222222222222,\"#7201a8\"],[0.3333333333333333,\"#9c179e\"],[0.4444444444444444,\"#bd3786\"],[0.5555555555555556,\"#d8576b\"],[0.6666666666666666,\"#ed7953\"],[0.7777777777777778,\"#fb9f3a\"],[0.8888888888888888,\"#fdca26\"],[1.0,\"#f0f921\"]]}],\"heatmapgl\":[{\"type\":\"heatmapgl\",\"colorbar\":{\"outlinewidth\":0,\"ticks\":\"\"},\"colorscale\":[[0.0,\"#0d0887\"],[0.1111111111111111,\"#46039f\"],[0.2222222222222222,\"#7201a8\"],[0.3333333333333333,\"#9c179e\"],[0.4444444444444444,\"#bd3786\"],[0.5555555555555556,\"#d8576b\"],[0.6666666666666666,\"#ed7953\"],[0.7777777777777778,\"#fb9f3a\"],[0.8888888888888888,\"#fdca26\"],[1.0,\"#f0f921\"]]}],\"contourcarpet\":[{\"type\":\"contourcarpet\",\"colorbar\":{\"outlinewidth\":0,\"ticks\":\"\"}}],\"contour\":[{\"type\":\"contour\",\"colorbar\":{\"outlinewidth\":0,\"ticks\":\"\"},\"colorscale\":[[0.0,\"#0d0887\"],[0.1111111111111111,\"#46039f\"],[0.2222222222222222,\"#7201a8\"],[0.3333333333333333,\"#9c179e\"],[0.4444444444444444,\"#bd3786\"],[0.5555555555555556,\"#d8576b\"],[0.6666666666666666,\"#ed7953\"],[0.7777777777777778,\"#fb9f3a\"],[0.8888888888888888,\"#fdca26\"],[1.0,\"#f0f921\"]]}],\"surface\":[{\"type\":\"surface\",\"colorbar\":{\"outlinewidth\":0,\"ticks\":\"\"},\"colorscale\":[[0.0,\"#0d0887\"],[0.1111111111111111,\"#46039f\"],[0.2222222222222222,\"#7201a8\"],[0.3333333333333333,\"#9c179e\"],[0.4444444444444444,\"#bd3786\"],[0.5555555555555556,\"#d8576b\"],[0.6666666666666666,\"#ed7953\"],[0.7777777777777778,\"#fb9f3a\"],[0.8888888888888888,\"#fdca26\"],[1.0,\"#f0f921\"]]}],\"mesh3d\":[{\"type\":\"mesh3d\",\"colorbar\":{\"outlinewidth\":0,\"ticks\":\"\"}}],\"scatter\":[{\"fillpattern\":{\"fillmode\":\"overlay\",\"size\":10,\"solidity\":0.2},\"type\":\"scatter\"}],\"parcoords\":[{\"type\":\"parcoords\",\"line\":{\"colorbar\":{\"outlinewidth\":0,\"ticks\":\"\"}}}],\"scatterpolargl\":[{\"type\":\"scatterpolargl\",\"marker\":{\"colorbar\":{\"outlinewidth\":0,\"ticks\":\"\"}}}],\"bar\":[{\"error_x\":{\"color\":\"#2a3f5f\"},\"error_y\":{\"color\":\"#2a3f5f\"},\"marker\":{\"line\":{\"color\":\"#E5ECF6\",\"width\":0.5},\"pattern\":{\"fillmode\":\"overlay\",\"size\":10,\"solidity\":0.2}},\"type\":\"bar\"}],\"scattergeo\":[{\"type\":\"scattergeo\",\"marker\":{\"colorbar\":{\"outlinewidth\":0,\"ticks\":\"\"}}}],\"scatterpolar\":[{\"type\":\"scatterpolar\",\"marker\":{\"colorbar\":{\"outlinewidth\":0,\"ticks\":\"\"}}}],\"histogram\":[{\"marker\":{\"pattern\":{\"fillmode\":\"overlay\",\"size\":10,\"solidity\":0.2}},\"type\":\"histogram\"}],\"scattergl\":[{\"type\":\"scattergl\",\"marker\":{\"colorbar\":{\"outlinewidth\":0,\"ticks\":\"\"}}}],\"scatter3d\":[{\"type\":\"scatter3d\",\"line\":{\"colorbar\":{\"outlinewidth\":0,\"ticks\":\"\"}},\"marker\":{\"colorbar\":{\"outlinewidth\":0,\"ticks\":\"\"}}}],\"scattermapbox\":[{\"type\":\"scattermapbox\",\"marker\":{\"colorbar\":{\"outlinewidth\":0,\"ticks\":\"\"}}}],\"scatterternary\":[{\"type\":\"scatterternary\",\"marker\":{\"colorbar\":{\"outlinewidth\":0,\"ticks\":\"\"}}}],\"scattercarpet\":[{\"type\":\"scattercarpet\",\"marker\":{\"colorbar\":{\"outlinewidth\":0,\"ticks\":\"\"}}}],\"carpet\":[{\"aaxis\":{\"endlinecolor\":\"#2a3f5f\",\"gridcolor\":\"white\",\"linecolor\":\"white\",\"minorgridcolor\":\"white\",\"startlinecolor\":\"#2a3f5f\"},\"baxis\":{\"endlinecolor\":\"#2a3f5f\",\"gridcolor\":\"white\",\"linecolor\":\"white\",\"minorgridcolor\":\"white\",\"startlinecolor\":\"#2a3f5f\"},\"type\":\"carpet\"}],\"table\":[{\"cells\":{\"fill\":{\"color\":\"#EBF0F8\"},\"line\":{\"color\":\"white\"}},\"header\":{\"fill\":{\"color\":\"#C8D4E3\"},\"line\":{\"color\":\"white\"}},\"type\":\"table\"}],\"barpolar\":[{\"marker\":{\"line\":{\"color\":\"#E5ECF6\",\"width\":0.5},\"pattern\":{\"fillmode\":\"overlay\",\"size\":10,\"solidity\":0.2}},\"type\":\"barpolar\"}],\"pie\":[{\"automargin\":true,\"type\":\"pie\"}]},\"layout\":{\"autotypenumbers\":\"strict\",\"colorway\":[\"#636efa\",\"#EF553B\",\"#00cc96\",\"#ab63fa\",\"#FFA15A\",\"#19d3f3\",\"#FF6692\",\"#B6E880\",\"#FF97FF\",\"#FECB52\"],\"font\":{\"color\":\"#2a3f5f\"},\"hovermode\":\"closest\",\"hoverlabel\":{\"align\":\"left\"},\"paper_bgcolor\":\"white\",\"plot_bgcolor\":\"#E5ECF6\",\"polar\":{\"bgcolor\":\"#E5ECF6\",\"angularaxis\":{\"gridcolor\":\"white\",\"linecolor\":\"white\",\"ticks\":\"\"},\"radialaxis\":{\"gridcolor\":\"white\",\"linecolor\":\"white\",\"ticks\":\"\"}},\"ternary\":{\"bgcolor\":\"#E5ECF6\",\"aaxis\":{\"gridcolor\":\"white\",\"linecolor\":\"white\",\"ticks\":\"\"},\"baxis\":{\"gridcolor\":\"white\",\"linecolor\":\"white\",\"ticks\":\"\"},\"caxis\":{\"gridcolor\":\"white\",\"linecolor\":\"white\",\"ticks\":\"\"}},\"coloraxis\":{\"colorbar\":{\"outlinewidth\":0,\"ticks\":\"\"}},\"colorscale\":{\"sequential\":[[0.0,\"#0d0887\"],[0.1111111111111111,\"#46039f\"],[0.2222222222222222,\"#7201a8\"],[0.3333333333333333,\"#9c179e\"],[0.4444444444444444,\"#bd3786\"],[0.5555555555555556,\"#d8576b\"],[0.6666666666666666,\"#ed7953\"],[0.7777777777777778,\"#fb9f3a\"],[0.8888888888888888,\"#fdca26\"],[1.0,\"#f0f921\"]],\"sequentialminus\":[[0.0,\"#0d0887\"],[0.1111111111111111,\"#46039f\"],[0.2222222222222222,\"#7201a8\"],[0.3333333333333333,\"#9c179e\"],[0.4444444444444444,\"#bd3786\"],[0.5555555555555556,\"#d8576b\"],[0.6666666666666666,\"#ed7953\"],[0.7777777777777778,\"#fb9f3a\"],[0.8888888888888888,\"#fdca26\"],[1.0,\"#f0f921\"]],\"diverging\":[[0,\"#8e0152\"],[0.1,\"#c51b7d\"],[0.2,\"#de77ae\"],[0.3,\"#f1b6da\"],[0.4,\"#fde0ef\"],[0.5,\"#f7f7f7\"],[0.6,\"#e6f5d0\"],[0.7,\"#b8e186\"],[0.8,\"#7fbc41\"],[0.9,\"#4d9221\"],[1,\"#276419\"]]},\"xaxis\":{\"gridcolor\":\"white\",\"linecolor\":\"white\",\"ticks\":\"\",\"title\":{\"standoff\":15},\"zerolinecolor\":\"white\",\"automargin\":true,\"zerolinewidth\":2},\"yaxis\":{\"gridcolor\":\"white\",\"linecolor\":\"white\",\"ticks\":\"\",\"title\":{\"standoff\":15},\"zerolinecolor\":\"white\",\"automargin\":true,\"zerolinewidth\":2},\"scene\":{\"xaxis\":{\"backgroundcolor\":\"#E5ECF6\",\"gridcolor\":\"white\",\"linecolor\":\"white\",\"showbackground\":true,\"ticks\":\"\",\"zerolinecolor\":\"white\",\"gridwidth\":2},\"yaxis\":{\"backgroundcolor\":\"#E5ECF6\",\"gridcolor\":\"white\",\"linecolor\":\"white\",\"showbackground\":true,\"ticks\":\"\",\"zerolinecolor\":\"white\",\"gridwidth\":2},\"zaxis\":{\"backgroundcolor\":\"#E5ECF6\",\"gridcolor\":\"white\",\"linecolor\":\"white\",\"showbackground\":true,\"ticks\":\"\",\"zerolinecolor\":\"white\",\"gridwidth\":2}},\"shapedefaults\":{\"line\":{\"color\":\"#2a3f5f\"}},\"annotationdefaults\":{\"arrowcolor\":\"#2a3f5f\",\"arrowhead\":0,\"arrowwidth\":1},\"geo\":{\"bgcolor\":\"white\",\"landcolor\":\"#E5ECF6\",\"subunitcolor\":\"white\",\"showland\":true,\"showlakes\":true,\"lakecolor\":\"white\"},\"title\":{\"x\":0.05},\"mapbox\":{\"style\":\"light\"}}},\"xaxis\":{\"anchor\":\"y\",\"domain\":[0.0,1.0],\"title\":{\"text\":\"Close\"}},\"yaxis\":{\"anchor\":\"x\",\"domain\":[0.0,1.0],\"title\":{\"text\":\"Volume\"}},\"legend\":{\"tracegroupgap\":0},\"title\":{\"text\":\"Close by Volume\"},\"height\":700,\"width\":800},                        {\"responsive\": true}                    ).then(function(){\n",
       "                            \n",
       "var gd = document.getElementById('cb017d08-7b8e-46d2-9106-7995b98838cc');\n",
       "var x = new MutationObserver(function (mutations, observer) {{\n",
       "        var display = window.getComputedStyle(gd).display;\n",
       "        if (!display || display === 'none') {{\n",
       "            console.log([gd, 'removed!']);\n",
       "            Plotly.purge(gd);\n",
       "            observer.disconnect();\n",
       "        }}\n",
       "}});\n",
       "\n",
       "// Listen for the removal of the full notebook cells\n",
       "var notebookContainer = gd.closest('#notebook-container');\n",
       "if (notebookContainer) {{\n",
       "    x.observe(notebookContainer, {childList: true});\n",
       "}}\n",
       "\n",
       "// Listen for the clearing of the current output cell\n",
       "var outputEl = gd.closest('.output');\n",
       "if (outputEl) {{\n",
       "    x.observe(outputEl, {childList: true});\n",
       "}}\n",
       "\n",
       "                        })                };                });            </script>        </div>"
      ]
     },
     "metadata": {},
     "output_type": "display_data"
    }
   ],
   "execution_count": 67
  }
 ]
}
